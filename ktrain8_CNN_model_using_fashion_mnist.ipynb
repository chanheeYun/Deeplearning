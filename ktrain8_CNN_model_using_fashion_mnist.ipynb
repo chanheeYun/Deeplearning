{
  "cells": [
    {
      "cell_type": "markdown",
      "metadata": {
        "id": "429E4yJc8k9l"
      },
      "source": [
        "# pytorch에서 제공하는 fashion minst 데이터셋과 CNN 을 이용한 분류 모델을 훈련하는 실습입니다.\n",
        "\n",
        "p.179 5.2 합성곱 신경망 맛보기 참고"
      ]
    },
    {
      "cell_type": "markdown",
      "metadata": {
        "id": "sd4dw1shvnaS"
      },
      "source": [
        "## 1. 자신의 컴퓨터에 설치된 torch, torchvision의 버전을 확인하고, GPU 지원 여부를 확인합니다.\n"
      ]
    },
    {
      "cell_type": "code",
      "execution_count": 2,
      "metadata": {
        "colab": {
          "base_uri": "https://localhost:8080/"
        },
        "id": "ubpd12hCvzIw",
        "outputId": "90fa181d-b45f-4af7-e520-c5e0ec9c1f70"
      },
      "outputs": [
        {
          "data": {
            "text/plain": [
              "'2.5.1'"
            ]
          },
          "execution_count": 2,
          "metadata": {},
          "output_type": "execute_result"
        }
      ],
      "source": [
        "import torch\n",
        "torch.__version__"
      ]
    },
    {
      "cell_type": "code",
      "execution_count": 3,
      "metadata": {
        "colab": {
          "base_uri": "https://localhost:8080/"
        },
        "id": "V_ByPxGawIup",
        "outputId": "d792af51-a65a-4015-c592-0e174714db5d"
      },
      "outputs": [
        {
          "data": {
            "text/plain": [
              "'0.20.1'"
            ]
          },
          "execution_count": 3,
          "metadata": {},
          "output_type": "execute_result"
        }
      ],
      "source": [
        "import torchvision\n",
        "torchvision.__version__"
      ]
    },
    {
      "cell_type": "code",
      "execution_count": 4,
      "metadata": {
        "colab": {
          "base_uri": "https://localhost:8080/"
        },
        "id": "ZpOdCjUS9dbJ",
        "outputId": "50d7ee06-4446-495e-d4f2-20b42869b5a3"
      },
      "outputs": [
        {
          "data": {
            "text/plain": [
              "True"
            ]
          },
          "execution_count": 4,
          "metadata": {},
          "output_type": "execute_result"
        }
      ],
      "source": [
        "torch.cuda.is_available()"
      ]
    },
    {
      "cell_type": "code",
      "execution_count": 1,
      "metadata": {},
      "outputs": [],
      "source": [
        "import torch.nn as nn\n",
        "from torch.autograd import Variable\n",
        "import torch.nn.functional as F\n",
        "\n",
        "import torchvision.transforms as transforms\n",
        "from torch.utils.data import Dataset, DataLoader"
      ]
    },
    {
      "cell_type": "markdown",
      "metadata": {
        "id": "p6ne68lZw4EQ"
      },
      "source": [
        "## 2. 자신의 컴퓨터에 설치된 python 버전 및 라이브러리 설치 경로를 확인해 보세요."
      ]
    },
    {
      "cell_type": "code",
      "execution_count": 41,
      "metadata": {
        "colab": {
          "base_uri": "https://localhost:8080/"
        },
        "id": "JZk1TB_vxA5j",
        "outputId": "71c5e28e-6557-44fc-89e0-90dbc9a01fee"
      },
      "outputs": [
        {
          "data": {
            "text/plain": [
              "('3.12.7 | packaged by Anaconda, Inc. | (main, Oct  4 2024, 13:17:27) [MSC v.1929 64 bit (AMD64)]',\n",
              " ['c:\\\\DevTool\\\\anaconda3\\\\envs\\\\torch_book\\\\python312.zip',\n",
              "  'c:\\\\DevTool\\\\anaconda3\\\\envs\\\\torch_book\\\\DLLs',\n",
              "  'c:\\\\DevTool\\\\anaconda3\\\\envs\\\\torch_book\\\\Lib',\n",
              "  'c:\\\\DevTool\\\\anaconda3\\\\envs\\\\torch_book',\n",
              "  '',\n",
              "  'C:\\\\Users\\\\user\\\\AppData\\\\Roaming\\\\Python\\\\Python312\\\\site-packages',\n",
              "  'C:\\\\Users\\\\user\\\\AppData\\\\Roaming\\\\Python\\\\Python312\\\\site-packages\\\\win32',\n",
              "  'C:\\\\Users\\\\user\\\\AppData\\\\Roaming\\\\Python\\\\Python312\\\\site-packages\\\\win32\\\\lib',\n",
              "  'C:\\\\Users\\\\user\\\\AppData\\\\Roaming\\\\Python\\\\Python312\\\\site-packages\\\\Pythonwin',\n",
              "  'c:\\\\DevTool\\\\anaconda3\\\\envs\\\\torch_book\\\\Lib\\\\site-packages',\n",
              "  'c:\\\\DevTool\\\\anaconda3\\\\envs\\\\torch_book\\\\Lib\\\\site-packages\\\\win32',\n",
              "  'c:\\\\DevTool\\\\anaconda3\\\\envs\\\\torch_book\\\\Lib\\\\site-packages\\\\win32\\\\lib',\n",
              "  'c:\\\\DevTool\\\\anaconda3\\\\envs\\\\torch_book\\\\Lib\\\\site-packages\\\\Pythonwin'])"
            ]
          },
          "execution_count": 41,
          "metadata": {},
          "output_type": "execute_result"
        }
      ],
      "source": [
        "import sys\n",
        "sys.version, sys.path"
      ]
    },
    {
      "cell_type": "markdown",
      "metadata": {
        "id": "N6g8OlSsxJxj"
      },
      "source": [
        "## 3. torchvision에서 제공하는 fashion mnist dataset (torchvision.datasets.FashionMNIST) 를 다운로드 받으세요. 이때, train (6만장), test(1만장) 을 각각 다운로드 받아 dataset_train 과 dataset_test 변수에 각각 저장하세요."
      ]
    },
    {
      "cell_type": "code",
      "execution_count": 42,
      "metadata": {
        "colab": {
          "base_uri": "https://localhost:8080/"
        },
        "id": "yffojV8GwVEV",
        "outputId": "28922db1-228b-4e4e-da9f-2b8313dd854f"
      },
      "outputs": [],
      "source": [
        "dataset_train = torchvision.datasets.FashionMNIST(\"data\", download=True, transform=transforms.Compose([transforms.ToTensor()]))\n",
        "dataset_test = torchvision.datasets.FashionMNIST(\"data\", download=True, train=False, transform=transforms.Compose([transforms.ToTensor()])) "
      ]
    },
    {
      "cell_type": "code",
      "execution_count": 43,
      "metadata": {
        "colab": {
          "base_uri": "https://localhost:8080/"
        },
        "id": "O2BKtz7uySkR",
        "outputId": "43b1f58d-775d-4076-9275-6cd8e634aa79"
      },
      "outputs": [
        {
          "data": {
            "text/plain": [
              "(torch.Size([60000, 28, 28]), torch.Size([10000, 28, 28]))"
            ]
          },
          "execution_count": 43,
          "metadata": {},
          "output_type": "execute_result"
        }
      ],
      "source": [
        "dataset_train.data.shape, dataset_test.data.shape"
      ]
    },
    {
      "cell_type": "markdown",
      "metadata": {
        "id": "GmEDZfItzTLf"
      },
      "source": [
        "## 4. torch.rand 를 이용하여 (32, 1, 28, 28) 크기의 데이터를 생성해 input 변수에 저장하세요."
      ]
    },
    {
      "cell_type": "code",
      "execution_count": 44,
      "metadata": {
        "colab": {
          "base_uri": "https://localhost:8080/"
        },
        "id": "5couCFCZyHJ_",
        "outputId": "22b4329f-7585-43cd-8508-d82c58dd1761"
      },
      "outputs": [],
      "source": [
        "input = torch.rand((32, 1, 28, 28))"
      ]
    },
    {
      "cell_type": "markdown",
      "metadata": {
        "id": "b1Be1C7e1wLF"
      },
      "source": [
        "## 5. torch.nn.Conv2d 를 이용하여 (32, 8, 28, 28) 출력을 내는 CNN 레이어를 생성하여 cnn1 변수에 저장하세요. (hint: padding='same' 사용해 보기)"
      ]
    },
    {
      "cell_type": "code",
      "execution_count": 45,
      "metadata": {
        "colab": {
          "base_uri": "https://localhost:8080/"
        },
        "id": "wimsgemo1QRb",
        "outputId": "8596546c-ac51-4526-a7d8-3ae032f80ffa"
      },
      "outputs": [],
      "source": [
        "cnn1 = torch.nn.Conv2d(1, 8, kernel_size=3, padding=1)"
      ]
    },
    {
      "cell_type": "markdown",
      "metadata": {
        "id": "XGJtuZKr28LA"
      },
      "source": [
        "## 6. input 데이터를 cnn1 레이어에 통과시킨 후, activation function(torch.nn.Sigmoid) 레이어를 생성하여 sigmoid1 변수에 저장하고, x 를 여기에 적용한 결과를 다시 x 변수에 저장하세요."
      ]
    },
    {
      "cell_type": "code",
      "execution_count": 46,
      "metadata": {
        "colab": {
          "base_uri": "https://localhost:8080/"
        },
        "id": "NA4MxU2W2MpH",
        "outputId": "ef8387fa-505d-43cf-910c-58b95516dd23"
      },
      "outputs": [
        {
          "data": {
            "text/plain": [
              "torch.Size([32, 8, 28, 28])"
            ]
          },
          "execution_count": 46,
          "metadata": {},
          "output_type": "execute_result"
        }
      ],
      "source": [
        "x = cnn1(input)\n",
        "sigmoid1 = nn.Sigmoid()\n",
        "x = sigmoid1(x)\n",
        "x.shape"
      ]
    },
    {
      "cell_type": "markdown",
      "metadata": {
        "id": "NfMxMJdp3XYK"
      },
      "source": [
        "## 7. x 변수에 저장된 feature maps 데이터의 width, height 의 크기를 절반으로 만드는 torch.nn.MaxPool2D 를 생성하여 pool1 변수에 저장합니다. 다음으로 생성한 풀링 레이어에 x 변수를 통과시켜 그 결과를 다시 x 변수에 저장하세요. 단, x 변수의 입력 전과 입력 후의 shape 을 출력하여 크기가 절반으로 줄어 들었는지 확인해 봅니다."
      ]
    },
    {
      "cell_type": "code",
      "execution_count": 47,
      "metadata": {
        "colab": {
          "base_uri": "https://localhost:8080/"
        },
        "id": "7h9xkq162U3F",
        "outputId": "a7c2e13a-ef81-4b9a-86ef-d124334d76ac"
      },
      "outputs": [
        {
          "name": "stdout",
          "output_type": "stream",
          "text": [
            "전 : torch.Size([32, 8, 28, 28])\n",
            "후 : torch.Size([32, 8, 14, 14])\n"
          ]
        }
      ],
      "source": [
        "print(f'전 : {x.shape}')\n",
        "pool1 = nn.MaxPool2d(2)\n",
        "x = pool1(x)\n",
        "print(f'후 : {x.shape}')"
      ]
    },
    {
      "cell_type": "markdown",
      "metadata": {
        "id": "d_Uc96Q14ELV"
      },
      "source": [
        "## 8. torch.nn.Conv2d 를 이용하여 (32, 8, 14, 14) 입력을 받아 (32, 16, 14, 14) 출력을 내는 CNN 레이어를 생성하여 cnn2 변수에 저장하세요. torch.nn.Sigmoid 레이어를 생성하여 sigmoid2 변수에 저장합니다. 이어서 생성한 활성화 함수를 x에 적용한 결과를 다시 x 변수에 저장하세요.\n",
        "\n"
      ]
    },
    {
      "cell_type": "code",
      "execution_count": 48,
      "metadata": {
        "colab": {
          "base_uri": "https://localhost:8080/"
        },
        "id": "93Fvuzxm2cok",
        "outputId": "5ef07521-b907-472c-c769-96de53842ebf"
      },
      "outputs": [],
      "source": [
        "cnn2 = nn.Conv2d(in_channels=8, out_channels=16, kernel_size=3, padding=1)\n",
        "sigmoid2 = nn.Sigmoid()\n",
        "x = cnn2(x)\n",
        "x = sigmoid2(x)"
      ]
    },
    {
      "cell_type": "markdown",
      "metadata": {
        "id": "hhjLiNuH6klO"
      },
      "source": [
        "## 9. x 변수에 저장된 데이터의 width, height 의 크기를 절반으로 만드는 torch.nn.MaxPool2D 를 생성하여 pool2 변수에 저장합니다. 다음으로 생성한 풀링 레이어에 x 변수를 통과시켜 그 결과를 다시 x 변수에 저장하세요. 단, x 변수의 입력 전과 입력 후의 shape 을 출력하여 크기가 절반으로 줄어 들었는지 확인해 봅니다."
      ]
    },
    {
      "cell_type": "code",
      "execution_count": 49,
      "metadata": {
        "colab": {
          "base_uri": "https://localhost:8080/"
        },
        "id": "RniQf8I444u0",
        "outputId": "0c80c6c0-50c6-4a21-af6f-f1a81070bd94"
      },
      "outputs": [
        {
          "name": "stdout",
          "output_type": "stream",
          "text": [
            "전 : torch.Size([32, 16, 14, 14])\n",
            "후 : torch.Size([32, 16, 7, 7])\n"
          ]
        }
      ],
      "source": [
        "print(f'전 : {x.shape}')\n",
        "pool2 = nn.MaxPool2d(2)\n",
        "x = pool2(x)\n",
        "print(f'후 : {x.shape}')"
      ]
    },
    {
      "cell_type": "markdown",
      "metadata": {
        "id": "12ztvk_S8jwk"
      },
      "source": [
        "## 10. torch.nn.Flatten 를 이용하여 (32, 16, 7, 7) 입력을 받아 (32, 784) 출력을 내는 Flatten 레이어를 생성하여 flatten 변수에 저장하세요. 다음으로 생성한 flatten 레이어에 x 변수를 통과시켜 그 결과를 다시 x 변수에 저장하세요."
      ]
    },
    {
      "cell_type": "code",
      "execution_count": 50,
      "metadata": {
        "colab": {
          "base_uri": "https://localhost:8080/"
        },
        "id": "9fuyy0lH9hzR",
        "outputId": "34232791-efdd-445a-ee7b-274156371f94"
      },
      "outputs": [
        {
          "data": {
            "text/plain": [
              "torch.Size([32, 784])"
            ]
          },
          "execution_count": 50,
          "metadata": {},
          "output_type": "execute_result"
        }
      ],
      "source": [
        "flatten = nn.Flatten()\n",
        "x = flatten(x)\n",
        "x.shape"
      ]
    },
    {
      "cell_type": "markdown",
      "metadata": {
        "id": "FsVZdfuJ-gs2"
      },
      "source": [
        "## 11. torch.nn.Linear 를 이용하여 (32, 784) 입력을 받아 (32, 128) 을 출력하는 linear 레이어를 생성하여 linear1 변수에 저장하세요. 다음으로 생성한 flatten 레이어에 x 변수를 통과시켜 그 결과를 다시 x 변수에 저장하세요."
      ]
    },
    {
      "cell_type": "code",
      "execution_count": 51,
      "metadata": {
        "colab": {
          "base_uri": "https://localhost:8080/"
        },
        "id": "lILMxXR187uF",
        "outputId": "6189cecb-8e08-4518-b15c-1c571b94987b"
      },
      "outputs": [
        {
          "data": {
            "text/plain": [
              "torch.Size([32, 128])"
            ]
          },
          "execution_count": 51,
          "metadata": {},
          "output_type": "execute_result"
        }
      ],
      "source": [
        "linear1 = nn.Linear(784, 128)\n",
        "x = linear1(x)\n",
        "x.shape"
      ]
    },
    {
      "cell_type": "markdown",
      "metadata": {
        "id": "lyqKwW5RInYx"
      },
      "source": [
        "## 12. torch.nn.Sigmoid 레이어를 생성하여 sigmoid3 변수에 저장하고, x 변수를 활성화 함수에 통과 시킨 후, 다시 x 변수에 저장하세요."
      ]
    },
    {
      "cell_type": "code",
      "execution_count": 52,
      "metadata": {
        "colab": {
          "base_uri": "https://localhost:8080/"
        },
        "id": "6yQX8TZtIwr3",
        "outputId": "126ee08c-b5cc-4498-8def-5f450ba168a8"
      },
      "outputs": [
        {
          "data": {
            "text/plain": [
              "torch.Size([32, 128])"
            ]
          },
          "execution_count": 52,
          "metadata": {},
          "output_type": "execute_result"
        }
      ],
      "source": [
        "sigmoid3 = nn.Sigmoid()\n",
        "x = sigmoid3(x)\n",
        "x.shape"
      ]
    },
    {
      "cell_type": "markdown",
      "metadata": {
        "id": "x6VbJcpKJIX0"
      },
      "source": [
        "## 13. torch.nn.Linear 를 이용하여 (32, 128) 입력을 받아 (32, 10) 을 출력하는 linear 레이어를 생성하여 linear2 변수에 저장하세요. 다음으로 torch.nn.Softmax 에 x 변수를 통과시켜 그 결과를 다시 x 변수에 저장하세요."
      ]
    },
    {
      "cell_type": "code",
      "execution_count": 53,
      "metadata": {
        "colab": {
          "base_uri": "https://localhost:8080/"
        },
        "id": "sDThMjs58-vP",
        "outputId": "f737d654-3cde-455e-cd58-3c1a202fa0bf"
      },
      "outputs": [],
      "source": [
        "linear2 = nn.Linear(128, 10)\n",
        "x = linear2(x)\n",
        "softmax = nn.Softmax(dim=1)\n",
        "x = softmax(x)"
      ]
    },
    {
      "cell_type": "code",
      "execution_count": 54,
      "metadata": {},
      "outputs": [],
      "source": [
        "# x.shape"
      ]
    },
    {
      "cell_type": "markdown",
      "metadata": {
        "id": "5lbDLqYjK2ap"
      },
      "source": [
        "## 14. torch.nn.Sequential 을 이용하여 features 레이어와 classifier 레이어를 정의하세요.\n",
        "\n",
        "* features: cnn1, sigmoid1, pool1, cnn2, sigmoid2, pool2 객체들을 이용\n",
        "\n",
        "* torch.rand 를 이용하여 (32, 1, 28, 28) 데이터를 생성 후, features 에 전달하여 출력 shape 이 (32, 16, 7, 7) 인지 확인해 보세요.\n",
        "\n",
        "* classifier: linear1 sigmoid3, linear2, softmax 객체들을 이용\n",
        "\n",
        "* torch.rand 를 이용하여 (32, 16 * 7 * 7) 데이터를 생성 후, classifier 전달하여 출력 shape 이 (32, 10) 인지 확인해 보세요."
      ]
    },
    {
      "cell_type": "code",
      "execution_count": 55,
      "metadata": {
        "colab": {
          "base_uri": "https://localhost:8080/"
        },
        "id": "84ketCc1Mchv",
        "outputId": "966821d2-c428-4196-e82a-22fe30b84853"
      },
      "outputs": [
        {
          "data": {
            "text/plain": [
              "torch.Size([32, 16, 7, 7])"
            ]
          },
          "execution_count": 55,
          "metadata": {},
          "output_type": "execute_result"
        }
      ],
      "source": [
        "input = torch.rand(32, 1, 28, 28)\n",
        "features = nn.Sequential(\n",
        "            cnn1,\n",
        "            sigmoid1,\n",
        "            pool1,\n",
        "            cnn2,\n",
        "            sigmoid2,\n",
        "            pool2,\n",
        "          )\n",
        "x = features(input)       \n",
        "x.shape\n"
      ]
    },
    {
      "cell_type": "code",
      "execution_count": 56,
      "metadata": {
        "colab": {
          "base_uri": "https://localhost:8080/"
        },
        "id": "pklWwtUJOUFU",
        "outputId": "f7b65466-4ec7-44b7-93e8-d8d1b34d3aa7"
      },
      "outputs": [
        {
          "data": {
            "text/plain": [
              "torch.Size([32, 10])"
            ]
          },
          "execution_count": 56,
          "metadata": {},
          "output_type": "execute_result"
        }
      ],
      "source": [
        "classifier = nn.Sequential(\n",
        "              linear1,\n",
        "              sigmoid3,\n",
        "              linear2,\n",
        "              softmax\n",
        "            )\n",
        "x = flatten(x)\n",
        "x = classifier(x)\n",
        "x.shape"
      ]
    },
    {
      "cell_type": "markdown",
      "metadata": {
        "id": "nN3OPvFxPTLK"
      },
      "source": [
        "## 15. torch.nn.Module 를 상속받아 FashionCNN(torch.nn.Module) 클래스를 정의합니다.\n",
        "\n",
        "* FashionCNN 클래스는 내부 멤버변수로 features 와 classifier 를 가집니다.\n",
        "\n",
        "* torch.nn.Flatten 레이어를 FashionCNN 클래스의 내부 변수 flatten 에 저장합니다.\n",
        "\n",
        "* forward(self, x): 입력으로 들어온 x 를 features > flatten > classifier 순서로 차례대로 통과시킵니다. 각 레이어의 입력은 x 변수이고, 결과 역시 x에 다시 저장합니다. 마지막에 x 를 반환합니다.\n",
        "\n",
        "* FashionCNN 클래스를 이용하여 객체를 만들고, torch.rand 를 이용하여 (32, 1, 28, 28) 데이터를 생성 후, 모델에 데이터를 입력하여 출력 데이터의 shape 이 (32, 10) 으로 나오는지 확인합니다."
      ]
    },
    {
      "cell_type": "code",
      "execution_count": 57,
      "metadata": {
        "colab": {
          "base_uri": "https://localhost:8080/"
        },
        "id": "Qfkf_5QrQtbu",
        "outputId": "9c184127-eca2-4971-aee8-eacdd28bc16b"
      },
      "outputs": [],
      "source": [
        "class FashionCNN(nn.Module):\n",
        "  def __init__(self):\n",
        "    super(FashionCNN, self).__init__()\n",
        "    self.features = nn.Sequential(\n",
        "                      cnn1,\n",
        "                      sigmoid1,\n",
        "                      pool1,\n",
        "                      cnn2,\n",
        "                      sigmoid2,\n",
        "                      pool2,\n",
        "                    )\n",
        "    self.classifier = nn.Sequential(\n",
        "                        linear1,\n",
        "                        sigmoid3,\n",
        "                        linear2,\n",
        "                        softmax\n",
        "                      )\n",
        "    self.flatten = nn.Flatten()\n",
        "\n",
        "  def forward(self, x):\n",
        "    x = self.features(x)\n",
        "    x = flatten(x)\n",
        "    x = classifier(x)\n",
        "    return x\n"
      ]
    },
    {
      "cell_type": "code",
      "execution_count": 58,
      "metadata": {
        "colab": {
          "base_uri": "https://localhost:8080/"
        },
        "id": "sF1vS4tqQyZh",
        "outputId": "c61795ab-4065-4750-cf42-6ef3a339205c"
      },
      "outputs": [],
      "source": [
        "input = torch.rand(32, 1, 28, 28)\n",
        "model = FashionCNN()\n",
        "out = model(input)"
      ]
    },
    {
      "cell_type": "markdown",
      "metadata": {
        "id": "pxjXsI7pS6uV"
      },
      "source": [
        "## 16. torch.nn.CrossEntropyLoss 레이어를 생성하여 loss_fn 변수에 저장합니다.\n"
      ]
    },
    {
      "cell_type": "code",
      "execution_count": 59,
      "metadata": {
        "id": "su0X6xfhTRTt"
      },
      "outputs": [],
      "source": [
        "loss_fn = nn.CrossEntropyLoss()"
      ]
    },
    {
      "cell_type": "markdown",
      "metadata": {
        "id": "mmbXbMU2TZyS"
      },
      "source": [
        "## 17. torch.optim.Adam 를 생성하여 optimizer 변수에 저장합니다.\n"
      ]
    },
    {
      "cell_type": "code",
      "execution_count": 60,
      "metadata": {},
      "outputs": [],
      "source": [
        "# dir(model.parameters()) 모델이 생성한 가중치(and 편차)를 담고 있음\n",
        "# param=list(model.parameters())\n",
        "# W=param[0].data\n",
        "# b=param[1].data\n",
        "# print(W.item(),b.item())\n",
        "# 위 코드로 가중치를 볼 수 있음"
      ]
    },
    {
      "cell_type": "code",
      "execution_count": 61,
      "metadata": {
        "id": "ysA0RlAkTjXo"
      },
      "outputs": [],
      "source": [
        "optimizer = torch.optim.Adam(model.parameters())"
      ]
    },
    {
      "cell_type": "markdown",
      "metadata": {
        "id": "BvQ9hpd4UGro"
      },
      "source": [
        "## 18. 모델 훈련을 위해 dataset_train, dataset_test 데이터로 torch.utils.data.DataLoader 를 batch_size 32 로 생성하여 dataloader_train, dataloader_test 변수에 저장합니다."
      ]
    },
    {
      "cell_type": "code",
      "execution_count": 62,
      "metadata": {
        "id": "XyfOHEUGUUMm"
      },
      "outputs": [],
      "source": [
        "dataloader_train = DataLoader(dataset_train, batch_size=32, shuffle=true)\n",
        "dataloader_test = DataLoader(dataset_test, batch_size=32, shuffle=true)"
      ]
    },
    {
      "cell_type": "code",
      "execution_count": 63,
      "metadata": {
        "id": "I8BCODD6XndZ"
      },
      "outputs": [
        {
          "name": "stdout",
          "output_type": "stream",
          "text": [
            "torch.Size([32, 1, 28, 28]) torch.Size([32])\n"
          ]
        }
      ],
      "source": [
        "for X, y in dataloader_train:\n",
        "  print(X.shape, y.shape)\n",
        "  break"
      ]
    },
    {
      "cell_type": "markdown",
      "metadata": {
        "id": "Rr3ZYh5XYMBE"
      },
      "source": [
        "### 18-1. 위 코드 실행 시 다음과 같은 에러가 발생하면 torchvision.transforms.ToTensor 객체를 생성하여 FasionMNIST 클래스의 생성자에 전달합니다. 다시 dataset > dataloader 순서로 생성하여 제공되는 for 문이 동작하늕지 확인하세요.\n",
        "\n",
        "```\n",
        "TypeError: default_collate: batch must contain tensors, numpy arrays, numbers, dicts or lists; found <class 'PIL.Image.Image'>\n",
        "```"
      ]
    },
    {
      "cell_type": "code",
      "execution_count": 64,
      "metadata": {
        "id": "AOYT21UnYWkW"
      },
      "outputs": [],
      "source": [
        "from torchvision.transforms import ToTensor"
      ]
    },
    {
      "cell_type": "code",
      "execution_count": 65,
      "metadata": {
        "colab": {
          "base_uri": "https://localhost:8080/"
        },
        "id": "BTbeuBDTZe0n",
        "outputId": "2a48450d-c7f5-47e8-85f7-a6091c74cb3d"
      },
      "outputs": [
        {
          "name": "stdout",
          "output_type": "stream",
          "text": [
            "torch.Size([32, 1, 28, 28]) torch.Size([32])\n"
          ]
        }
      ],
      "source": [
        "for X, y in dataloader_train:\n",
        "  print(X.shape, y.shape)\n",
        "  break"
      ]
    },
    {
      "cell_type": "markdown",
      "metadata": {
        "id": "KA6SLfQRarXo"
      },
      "source": [
        "## 19. train loop 를 구현하여 모델을 학습시켜 봅니다."
      ]
    },
    {
      "cell_type": "code",
      "execution_count": 75,
      "metadata": {},
      "outputs": [
        {
          "name": "stdout",
          "output_type": "stream",
          "text": [
            "tensor(1.5256, grad_fn=<NllLossBackward0>)\n"
          ]
        }
      ],
      "source": [
        "for X, y in dataloader_train:\n",
        "  output = model(X)\n",
        "  print(loss_fn(output, y)) # 32개에 대한 평균을 반환\n",
        "  break"
      ]
    },
    {
      "cell_type": "code",
      "execution_count": 68,
      "metadata": {
        "id": "PJ75ISgIWEzG"
      },
      "outputs": [],
      "source": [
        "# model.train()\n",
        "for X, y in dataloader_train:\n",
        "  # 순전파\n",
        "  outputs = model(X)\n",
        "  loss = loss_fn(outputs, y)\n",
        "\n",
        "  # 역전파 및 가중치 업데이트\n",
        "  optimizer.zero_grad()\n",
        "  loss.backward()\n",
        "  optimizer.step()"
      ]
    },
    {
      "cell_type": "markdown",
      "metadata": {
        "id": "xS69rIIP8IOq"
      },
      "source": [
        "## 20. 이번에는 train loop 를 구현 시 epochs 10 으로 모델을 학습시키고, 한번의 epoch 이 종료될 때 마다 loss_history 리스트에 loss 값을 저장하고 loss 값을 콘솔에 출력합니다."
      ]
    },
    {
      "cell_type": "code",
      "execution_count": null,
      "metadata": {
        "colab": {
          "base_uri": "https://localhost:8080/"
        },
        "id": "-Q11MVTLgL9F",
        "outputId": "2d2d2f24-553f-443d-d08a-b83e5f262cbd"
      },
      "outputs": [
        {
          "name": "stdout",
          "output_type": "stream",
          "text": [
            "Epoch [1/10], Loss: 1.6313\n",
            "Epoch [2/10], Loss: 1.6205\n",
            "Epoch [3/10], Loss: 1.6218\n",
            "Epoch [4/10], Loss: 1.6102\n",
            "Epoch [5/10], Loss: 1.5844\n",
            "Epoch [6/10], Loss: 1.5876\n",
            "Epoch [7/10], Loss: 1.5822\n",
            "Epoch [8/10], Loss: 1.5696\n",
            "Epoch [9/10], Loss: 1.5729\n",
            "Epoch [10/10], Loss: 1.5710\n"
          ]
        }
      ],
      "source": [
        "num_epochs = 10\n",
        "loss_history = []\n",
        "\n",
        "for epoch in range(num_epochs):\n",
        "    running_loss = 0.0\n",
        "    for X, y in dataloader_train:\n",
        "        # X = Variable(X)\n",
        "        # y = Variable(y) \n",
        "\n",
        "        output = model(X) # (32, 10)\n",
        "        loss = loss_fn(output, y)\n",
        "\n",
        "        optimizer.zero_grad()\n",
        "        loss.backward()\n",
        "        optimizer.step()\n",
        "\n",
        "        running_loss += loss.item()\n",
        "\n",
        "    loss_history.append(loss.data)\n",
        "    print(f\"Epoch [{epoch+1}/{num_epochs}], Loss: {loss.data:.4f}\")"
      ]
    },
    {
      "cell_type": "code",
      "execution_count": 74,
      "metadata": {
        "colab": {
          "base_uri": "https://localhost:8080/",
          "height": 447
        },
        "id": "A8Al-E9hgo_u",
        "outputId": "65c7650d-4e23-4e23-dcdd-8af7bd472035"
      },
      "outputs": [
        {
          "data": {
            "text/plain": [
              "[<matplotlib.lines.Line2D at 0x2143556f980>]"
            ]
          },
          "execution_count": 74,
          "metadata": {},
          "output_type": "execute_result"
        },
        {
          "data": {
            "image/png": "[encoded data removed]",
            "text/plain": [
              "<Figure size 640x480 with 1 Axes>"
            ]
          },
          "metadata": {},
          "output_type": "display_data"
        }
      ],
      "source": [
        "import matplotlib.pyplot as plt\n",
        "plt.plot(range(num_epochs), loss_history)"
      ]
    },
    {
      "cell_type": "markdown",
      "metadata": {
        "id": "63lAoqJU9ulb"
      },
      "source": [
        "## 21. GPU 를 사용하여 모델을 학습시켜 보세요. GPU 의 메모리가 허용하는 한도까지 batch_size 를 늘려서 다시 실행해 보세요."
      ]
    },
    {
      "cell_type": "code",
      "execution_count": 33,
      "metadata": {
        "colab": {
          "base_uri": "https://localhost:8080/"
        },
        "id": "HtR7J6XR8BBD",
        "outputId": "1463bcfc-dfbe-49fe-8298-802c428fc0ec"
      },
      "outputs": [
        {
          "data": {
            "text/plain": [
              "device(type='cuda')"
            ]
          },
          "execution_count": 33,
          "metadata": {},
          "output_type": "execute_result"
        }
      ],
      "source": [
        "device = torch.device(\"cuda\" if torch.cuda.is_available() else \"cpu\")\n",
        "device"
      ]
    },
    {
      "cell_type": "code",
      "execution_count": 34,
      "metadata": {},
      "outputs": [],
      "source": [
        "dataloader_train = DataLoader(dataset_train, batch_size=32768)\n",
        "dataloader_test = DataLoader(dataset_test, batch_size=32768) # gpu메모리 : 약 7GB 사용"
      ]
    },
    {
      "cell_type": "code",
      "execution_count": 36,
      "metadata": {
        "colab": {
          "base_uri": "https://localhost:8080/"
        },
        "id": "rYfS7Azg-JAx",
        "outputId": "d77157c9-16e2-4950-a7fc-6a79f8c10d2f"
      },
      "outputs": [
        {
          "name": "stdout",
          "output_type": "stream",
          "text": [
            "Epoch [1/10], Loss: 1.5787\n",
            "Epoch [2/10], Loss: 1.5775\n",
            "Epoch [3/10], Loss: 1.5769\n",
            "Epoch [4/10], Loss: 1.5767\n",
            "Epoch [5/10], Loss: 1.5766\n",
            "Epoch [6/10], Loss: 1.5763\n",
            "Epoch [7/10], Loss: 1.5759\n",
            "Epoch [8/10], Loss: 1.5757\n",
            "Epoch [9/10], Loss: 1.5755\n",
            "Epoch [10/10], Loss: 1.5754\n"
          ]
        }
      ],
      "source": [
        "model.to(device)\n",
        "optimizer = torch.optim.Adam(model.parameters())\n",
        "num_epochs = 10\n",
        "loss_history = []\n",
        "\n",
        "for epoch in range(num_epochs):\n",
        "    running_loss = 0.0\n",
        "    for X, y in dataloader_train:\n",
        "        X, y = X.to(device), y.to(device)\n",
        "        # X = Variable(X)\n",
        "        # y = Variable(y)\n",
        "        out = model(X)\n",
        "        loss = loss_fn(out, y)\n",
        "        optimizer.zero_grad()\n",
        "        loss.backward()\n",
        "        optimizer.step()\n",
        "\n",
        "    loss_history.append(loss.data)\n",
        "    print(f\"Epoch [{epoch+1}/{num_epochs}], Loss: {loss.data:.4f}\")"
      ]
    },
    {
      "cell_type": "markdown",
      "metadata": {},
      "source": [
        "## 22. 2024-12-23 실습"
      ]
    },
    {
      "cell_type": "code",
      "execution_count": 18,
      "metadata": {},
      "outputs": [
        {
          "data": {
            "text/plain": [
              "torch.Size([32, 48, 222, 222])"
            ]
          },
          "execution_count": 18,
          "metadata": {},
          "output_type": "execute_result"
        }
      ],
      "source": [
        "class Model1(nn.Module):\n",
        "  def __init__(self):\n",
        "    super(Model1, self).__init__()\n",
        "    self.layer1 = nn.Sequential(\n",
        "                    nn.Conv2d(in_channels=3, out_channels=48, kernel_size=3),\n",
        "                    nn.ReLU(),\n",
        "                    nn.Dropout()\n",
        "                  )\n",
        "  \n",
        "  def forward(self, x):\n",
        "    x = self.layer1(x)\n",
        "    return x\n",
        "\n",
        "input = torch.rand(32, 3, 224, 224)\n",
        "model = Model1()\n",
        "out = model(input)\n",
        "out.shape"
      ]
    },
    {
      "cell_type": "code",
      "execution_count": null,
      "metadata": {},
      "outputs": [],
      "source": []
    }
  ],
  "metadata": {
    "colab": {
      "provenance": []
    },
    "kernelspec": {
      "display_name": "torch_book",
      "language": "python",
      "name": "python3"
    },
    "language_info": {
      "codemirror_mode": {
        "name": "ipython",
        "version": 3
      },
      "file_extension": ".py",
      "mimetype": "text/x-python",
      "name": "python",
      "nbconvert_exporter": "python",
      "pygments_lexer": "ipython3",
      "version": "3.12.7"
    }
  },
  "nbformat": 4,
  "nbformat_minor": 0
}
