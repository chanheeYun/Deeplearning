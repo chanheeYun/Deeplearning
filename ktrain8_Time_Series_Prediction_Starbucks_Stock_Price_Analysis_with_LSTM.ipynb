{
  "cells": [
    {
      "cell_type": "markdown",
      "metadata": {
        "id": "G3KD7xHe2vNc"
      },
      "source": [
        "# 0. 자신이 사용하는 torch 버전과 GPU 사용 가능 여부를 확인하세요."
      ]
    },
    {
      "cell_type": "code",
      "execution_count": 1,
      "metadata": {
        "colab": {
          "base_uri": "https://localhost:8080/"
        },
        "id": "-Xgl77Km2t0F",
        "outputId": "5d569ce3-6533-4fd5-de43-ff726503e4f2"
      },
      "outputs": [
        {
          "data": {
            "text/plain": [
              "'2.5.1'"
            ]
          },
          "execution_count": 1,
          "metadata": {},
          "output_type": "execute_result"
        }
      ],
      "source": [
        "import torch\n",
        "import torch.nn as nn\n",
        "\n",
        "torch.__version__"
      ]
    },
    {
      "cell_type": "code",
      "execution_count": 2,
      "metadata": {
        "colab": {
          "base_uri": "https://localhost:8080/"
        },
        "id": "relTZHRB22m8",
        "outputId": "d781e123-964c-499e-c39c-48446b6b4265"
      },
      "outputs": [
        {
          "data": {
            "text/plain": [
              "True"
            ]
          },
          "execution_count": 2,
          "metadata": {},
          "output_type": "execute_result"
        }
      ],
      "source": [
        "torch.cuda.is_available()"
      ]
    },
    {
      "cell_type": "markdown",
      "metadata": {
        "id": "k5W6bnNp2MoG"
      },
      "source": [
        "# 1. input_size 가 1이고, hidden_size 10인 RNN 객체를 생성하시오. (1, 1, 1) 데이터를 torch.rand 로 생성 후, RNN 객체에 전달하여 출력값을 확인하시오. (데이터 값, shape)\n",
        "\n",
        "* RNN 객체 생성 시 batch 데이터의 위치를 고려하시오.\n",
        "* RNN 객체의 반환값 형태에 주의하시오. (공식 문서 참고)"
      ]
    },
    {
      "cell_type": "code",
      "execution_count": 3,
      "metadata": {
        "colab": {
          "base_uri": "https://localhost:8080/"
        },
        "id": "U8QwqpEW1MJJ",
        "outputId": "be6aee8f-19e2-48ed-91da-1e15d5220360"
      },
      "outputs": [
        {
          "name": "stdout",
          "output_type": "stream",
          "text": [
            "torch.Size([1, 1, 10]) torch.Size([1, 1, 10])\n"
          ]
        }
      ],
      "source": [
        "rnn = nn.RNN(input_size=1, hidden_size=10, batch_first=True)\n",
        "\n",
        "input = torch.rand(1, 1, 1)\n",
        "x11, x12 = rnn(input)\n",
        "print(x11.shape, x12.shape)"
      ]
    },
    {
      "cell_type": "code",
      "execution_count": 4,
      "metadata": {},
      "outputs": [
        {
          "data": {
            "text/plain": [
              "(tensor([[[-0.2041, -0.5409,  0.4104, -0.3711, -0.2295,  0.0528, -0.0235,\n",
              "           -0.1425,  0.1247, -0.0268]]], grad_fn=<TransposeBackward1>),\n",
              " tensor([[[-0.2041, -0.5409,  0.4104, -0.3711, -0.2295,  0.0528, -0.0235,\n",
              "           -0.1425,  0.1247, -0.0268]]], grad_fn=<StackBackward0>))"
            ]
          },
          "execution_count": 4,
          "metadata": {},
          "output_type": "execute_result"
        }
      ],
      "source": [
        "x11, x12"
      ]
    },
    {
      "cell_type": "markdown",
      "metadata": {
        "id": "phA0iH892-08"
      },
      "source": [
        "# 2. input_size 가 2이고, hidden_size 5인 RNN 객체를 생성하시오. (1, 1, 2) 데이터를 torch.rand 로 생성 후, RNN 객체에 전달하여 출력값을 확인하시오. (데이터 값, shape)"
      ]
    },
    {
      "cell_type": "code",
      "execution_count": 5,
      "metadata": {
        "colab": {
          "base_uri": "https://localhost:8080/"
        },
        "id": "J1gVN6B_3FVn",
        "outputId": "b0ff6e10-a3c7-480b-8417-b966d83933fc"
      },
      "outputs": [
        {
          "name": "stdout",
          "output_type": "stream",
          "text": [
            "torch.Size([1, 1, 5]) torch.Size([1, 1, 5])\n"
          ]
        }
      ],
      "source": [
        "rnn2 = nn.RNN(input_size=2, hidden_size=5, batch_first=True)\n",
        "input2 = torch.rand(1, 1, 2)\n",
        "x21, x22 = rnn2(input2)\n",
        "print(x21.shape, x22.shape)"
      ]
    },
    {
      "cell_type": "code",
      "execution_count": 6,
      "metadata": {
        "colab": {
          "base_uri": "https://localhost:8080/"
        },
        "id": "wdbFkU5C3G6y",
        "outputId": "d82c8f1b-05b1-422f-98be-819b0c2ee21f"
      },
      "outputs": [
        {
          "data": {
            "text/plain": [
              "(tensor([[[-0.3560,  0.1434, -0.5640,  0.1407,  0.1171]]],\n",
              "        grad_fn=<TransposeBackward1>),\n",
              " tensor([[[-0.3560,  0.1434, -0.5640,  0.1407,  0.1171]]],\n",
              "        grad_fn=<StackBackward0>))"
            ]
          },
          "execution_count": 6,
          "metadata": {},
          "output_type": "execute_result"
        }
      ],
      "source": [
        "x21, x22"
      ]
    },
    {
      "cell_type": "markdown",
      "metadata": {
        "id": "6o2cWJCV3MJA"
      },
      "source": [
        "# 3. input_size 가 1이고, hidden_size 10인 LSTM 객체를 생성하시오. (1, 1, 1) 데이터를 torch.rand 로 생성 후, LSTM 객체에 전달하여 출력값을 확인하시오. (데이터 값, shape)\n",
        "\n",
        "* LSTM 객체 생성 시 batch 데이터의 위치를 고려하시오.\n",
        "* LSTM 객체의 반환값 형태에 주의하시오. (공식 문서 참고)"
      ]
    },
    {
      "cell_type": "code",
      "execution_count": 7,
      "metadata": {
        "colab": {
          "base_uri": "https://localhost:8080/"
        },
        "id": "Evt9Y21z3Uh2",
        "outputId": "fe7754a7-43d2-4dd2-ea28-cb1ee1faa8b7"
      },
      "outputs": [
        {
          "data": {
            "text/plain": [
              "(torch.Size([1, 1, 10]), torch.Size([1, 1, 10]), torch.Size([1, 1, 10]))"
            ]
          },
          "execution_count": 7,
          "metadata": {},
          "output_type": "execute_result"
        }
      ],
      "source": [
        "lstm = nn.LSTM(input_size=1, hidden_size=10, batch_first=True)\n",
        "input3 = torch.rand(1, 1, 1)\n",
        "x31, (x32, x33) = lstm(input3)\n",
        "x31.shape, x32.shape, x33.shape"
      ]
    },
    {
      "cell_type": "code",
      "execution_count": 8,
      "metadata": {
        "colab": {
          "base_uri": "https://localhost:8080/"
        },
        "id": "ILCL-zca3V4N",
        "outputId": "3bb2681b-43f4-4a30-854b-208f238bf360"
      },
      "outputs": [
        {
          "data": {
            "text/plain": [
              "(tensor([[[-0.1065,  0.0786,  0.0290,  0.0928, -0.1042, -0.0550,  0.0706,\n",
              "           -0.0707, -0.0098, -0.0575]]], grad_fn=<TransposeBackward0>),\n",
              " tensor([[[-0.1065,  0.0786,  0.0290,  0.0928, -0.1042, -0.0550,  0.0706,\n",
              "           -0.0707, -0.0098, -0.0575]]], grad_fn=<StackBackward0>),\n",
              " tensor([[[-0.2454,  0.1573,  0.0624,  0.1560, -0.1690, -0.1335,  0.1964,\n",
              "           -0.1624, -0.0224, -0.1127]]], grad_fn=<StackBackward0>))"
            ]
          },
          "execution_count": 8,
          "metadata": {},
          "output_type": "execute_result"
        }
      ],
      "source": [
        "x31, x32, x33"
      ]
    },
    {
      "cell_type": "markdown",
      "metadata": {
        "id": "vqHj1xY73iLM"
      },
      "source": [
        "# 4. input_size 가 2이고, hidden_size 5인 LSTM 객체를 생성하시오. (1, 1, 2) 데이터를 torch.rand 로 생성 후, LSTM 객체에 전달하여 출력값을 확인하시오. (데이터 값, shape)"
      ]
    },
    {
      "cell_type": "code",
      "execution_count": 9,
      "metadata": {
        "colab": {
          "base_uri": "https://localhost:8080/"
        },
        "id": "TsYFH4D33Zj-",
        "outputId": "df36c195-03f3-450a-84d0-04e2f0796aba"
      },
      "outputs": [
        {
          "data": {
            "text/plain": [
              "(torch.Size([1, 1, 5]), torch.Size([1, 1, 5]), torch.Size([1, 1, 5]))"
            ]
          },
          "execution_count": 9,
          "metadata": {},
          "output_type": "execute_result"
        }
      ],
      "source": [
        "lstm2 = nn.LSTM(input_size=2, hidden_size=5, batch_first=True)\n",
        "input4 = torch.rand(1, 1, 2)\n",
        "x41, (x42, x43) = lstm2(input4)\n",
        "x41.shape, x42.shape, x43.shape"
      ]
    },
    {
      "cell_type": "code",
      "execution_count": 10,
      "metadata": {
        "colab": {
          "base_uri": "https://localhost:8080/"
        },
        "id": "-JfOzctd30Ga",
        "outputId": "fb722173-ab79-4a1e-d8de-ffbf7cb355a2"
      },
      "outputs": [
        {
          "data": {
            "text/plain": [
              "(tensor([[[-0.0845,  0.0487,  0.0734,  0.0800, -0.0981]]],\n",
              "        grad_fn=<TransposeBackward0>),\n",
              " tensor([[[-0.0845,  0.0487,  0.0734,  0.0800, -0.0981]]],\n",
              "        grad_fn=<StackBackward0>),\n",
              " tensor([[[-0.1547,  0.0926,  0.0980,  0.1464, -0.2917]]],\n",
              "        grad_fn=<StackBackward0>))"
            ]
          },
          "execution_count": 10,
          "metadata": {},
          "output_type": "execute_result"
        }
      ],
      "source": [
        "x41, x42, x43"
      ]
    },
    {
      "cell_type": "markdown",
      "metadata": {
        "id": "l-rxn_C933q8"
      },
      "source": [
        "# 5. input_size 가 1 이고 seq_len 이 30 인 입력 데이터를 torch.rand 로 생성하시오. 3번에서 생성한 LSTM 객체를 이용하여 LSTM 객체에 전달하여 출력값을 확인하시오 (shape)"
      ]
    },
    {
      "cell_type": "code",
      "execution_count": 11,
      "metadata": {
        "colab": {
          "base_uri": "https://localhost:8080/"
        },
        "id": "Vcfo8lBo31dh",
        "outputId": "1ceb73ae-1592-468a-ad75-0dcf462b0171"
      },
      "outputs": [
        {
          "data": {
            "text/plain": [
              "(torch.Size([1, 30, 10]), torch.Size([1, 1, 10]), torch.Size([1, 1, 10]))"
            ]
          },
          "execution_count": 11,
          "metadata": {},
          "output_type": "execute_result"
        }
      ],
      "source": [
        "input5 = torch.rand(1, 30, 1)\n",
        "x51, (x52, x53) = lstm(input5)\n",
        "x51.shape, x52.shape, x53.shape"
      ]
    },
    {
      "cell_type": "markdown",
      "metadata": {
        "id": "pUbbZ93i4lwM"
      },
      "source": [
        "# 6. input_size 가 2 이고 seq_len 이 60 인 입력 데이터를 torch.rand 로 생성하시오. 4번에서 생성한 LSTM 객체를 이용하여 LSTM 객체에 전달하여 출력값을 확인하시오 (shape)"
      ]
    },
    {
      "cell_type": "code",
      "execution_count": 12,
      "metadata": {
        "colab": {
          "base_uri": "https://localhost:8080/"
        },
        "id": "344ZjsEJ4jlV",
        "outputId": "07bdbfcd-9d9c-4368-bfa3-f03b059fabf0"
      },
      "outputs": [
        {
          "data": {
            "text/plain": [
              "(torch.Size([1, 60, 5]), torch.Size([1, 1, 5]), torch.Size([1, 1, 5]))"
            ]
          },
          "execution_count": 12,
          "metadata": {},
          "output_type": "execute_result"
        }
      ],
      "source": [
        "input6 = torch.rand(1, 60, 2)\n",
        "x61, (x62, x63) = lstm2(input6)\n",
        "x61.shape, x62.shape, x63.shape"
      ]
    },
    {
      "cell_type": "markdown",
      "metadata": {
        "id": "7_hSd57h45o_"
      },
      "source": [
        "# 7. 순환신경망에서 many-to-one 모델은 여러 개의 입력을 받아 하나의 값을 출력하는 구조이다.\n",
        "\n",
        "* 예를 들어, 스타벅스 주가를 예측하려고 할 때, **과거 30일의 주가 데이터**를 이용하여 **내일의 주가**를 예측하는 경우이다.\n",
        "\n",
        "* 예를 참고하여 이에 알맞은 입력 데이터와 LSTM 모델을 생성하고 출력값의 shape 을 확인하세요. (단, batch_size=32, hidden_size=10 이다.)"
      ]
    },
    {
      "cell_type": "code",
      "execution_count": 13,
      "metadata": {
        "colab": {
          "base_uri": "https://localhost:8080/"
        },
        "id": "cIU4G8Ek517S",
        "outputId": "68a18287-4513-483c-ac7f-eb06ac64cfe1"
      },
      "outputs": [
        {
          "data": {
            "text/plain": [
              "(torch.Size([32, 30, 10]), torch.Size([1, 32, 10]), torch.Size([1, 32, 10]))"
            ]
          },
          "execution_count": 13,
          "metadata": {},
          "output_type": "execute_result"
        }
      ],
      "source": [
        "lstm3 = nn.LSTM(input_size=1, hidden_size=10, batch_first=True)\n",
        "input7 = torch.rand(32, 30, 1)\n",
        "y, (h, c) = lstm3(input7)\n",
        "y.shape, h.shape, c.shape"
      ]
    },
    {
      "cell_type": "markdown",
      "metadata": {
        "id": "uTlLyM3172kz"
      },
      "source": [
        "# 8. 순환신경망에서 many-to-one 모델은 여러 개의 입력을 받아 하나의 값을 출력하는 구조이다.\n",
        "\n",
        "* 예를 들어, 스타벅스 주가를 예측하려고 할 때, **과거 30일의 주가와 거래량 데이터**를 이용하여 **내일의 주가**를 예측하는 경우이다.\n",
        "\n",
        "* 예를 참고하여 이에 알맞은 입력 데이터와 LSTM 모델을 생성하고 출력값의 shape 을 확인하세요. (단, batch_size=32, hidden_size=10 이다.)"
      ]
    },
    {
      "cell_type": "code",
      "execution_count": 14,
      "metadata": {
        "colab": {
          "base_uri": "https://localhost:8080/"
        },
        "id": "1AOz5_Ge6Ldz",
        "outputId": "cdf01344-9644-4c42-a738-9e86488fbaf6"
      },
      "outputs": [
        {
          "data": {
            "text/plain": [
              "(torch.Size([32, 30, 10]), torch.Size([1, 32, 10]), torch.Size([1, 32, 10]))"
            ]
          },
          "execution_count": 14,
          "metadata": {},
          "output_type": "execute_result"
        }
      ],
      "source": [
        "lstm4 = nn.LSTM(input_size=2, hidden_size=10, batch_first=True)\n",
        "input8 = torch.rand(32, 30, 2)\n",
        "y2, (h2, c2) = lstm4(input8)\n",
        "y2.shape, h2.shape, c2.shape"
      ]
    },
    {
      "cell_type": "markdown",
      "metadata": {
        "id": "KE7SMjEP8UUi"
      },
      "source": [
        "# 9. 8번의 출력에서 가장 마지막 출력값을 내일의 스타벅스 주가로 정했다. 해당 값을 출력하시오. (slicing 이용)"
      ]
    },
    {
      "cell_type": "code",
      "execution_count": 15,
      "metadata": {
        "colab": {
          "base_uri": "https://localhost:8080/"
        },
        "id": "aZKRZB4E8P-y",
        "outputId": "7f5eceef-1d42-4efb-fd06-c6178da5469c"
      },
      "outputs": [
        {
          "name": "stdout",
          "output_type": "stream",
          "text": [
            "torch.Size([32, 10])\n",
            "tensor([[ 0.0218,  0.0044,  0.0650,  0.0268, -0.2142,  0.4959, -0.1583,  0.2760,\n",
            "         -0.3128,  0.1236]], grad_fn=<SliceBackward0>)\n"
          ]
        }
      ],
      "source": [
        "c2 = c2.view(-1, 10)\n",
        "print(c2.shape)\n",
        "print(c2[-1:])"
      ]
    },
    {
      "cell_type": "markdown",
      "metadata": {
        "id": "1y54DIPz8rMm"
      },
      "source": [
        "# 10. 9번의 마지막 출력값의 모양이 1이 아니라 10이다. 이를 위해, Linear 레이어를 추가하여 마지막 출력이 (32, 1) 가 되도록 코드를 작성하시오.\n",
        "\n",
        "* 입력데이터 > LSTM > Linear > 출력데이터 순서로 코드를 작성하시오."
      ]
    },
    {
      "cell_type": "code",
      "execution_count": 16,
      "metadata": {
        "colab": {
          "base_uri": "https://localhost:8080/"
        },
        "id": "Gc3cWwgl8nEh",
        "outputId": "19afc49a-94de-4333-f9a4-4ba79c7b617d"
      },
      "outputs": [
        {
          "name": "stdout",
          "output_type": "stream",
          "text": [
            "torch.Size([32, 30, 10])\n",
            "torch.Size([32, 10])\n",
            "torch.Size([32, 1])\n"
          ]
        }
      ],
      "source": [
        "linear = nn.Linear(10, 1)\n",
        "print(y2.shape)\n",
        "print(c2.shape)\n",
        "out = linear(c2)\n",
        "print(out.shape)"
      ]
    },
    {
      "cell_type": "markdown",
      "metadata": {
        "id": "KLfUO0M49_gC"
      },
      "source": [
        "# 11. 10번에서 LSTM 객체와 Linear 객체를 nn.Sequential 로 하나로 묶어 model 변수에 저장해 보세요. 그런 다음 입력 데이터를 전달하여 출력을 확인해 보세요. 에러가 발생하면 가능한 방법을 고민하여 구현해 보세요. (hint: nn.Module)"
      ]
    },
    {
      "cell_type": "code",
      "execution_count": 17,
      "metadata": {
        "id": "gyUToyR79bi8"
      },
      "outputs": [],
      "source": [
        "class StockPrediction(nn.Module):\n",
        "  def __init__(self, input_size=1, hidden_size=10, output_size=1):\n",
        "    super(StockPrediction, self).__init__()\n",
        "    self.input_size = input_size\n",
        "    self.hidden_size = hidden_size\n",
        "    self.output_size = output_size\n",
        "    self.lstm = nn.LSTM(input_size, hidden_size, batch_first=True)\n",
        "    self.linear = nn.Linear(hidden_size, output_size)\n",
        "    # self.layer = nn.Sequential(\n",
        "    #                             lstm4,\n",
        "    #                             linear\n",
        "    #                           )\n",
        "  def forward(self, x):\n",
        "    y, (h, c) = self.lstm(x)\n",
        "    c = c.view(-1, self.hidden_size)\n",
        "    c = self.linear(c)\n",
        "    return c\n",
        "\n",
        "model = StockPrediction(input_size=2)"
      ]
    },
    {
      "cell_type": "code",
      "execution_count": 18,
      "metadata": {
        "colab": {
          "base_uri": "https://localhost:8080/"
        },
        "id": "r_ZfIIPt-kfo",
        "outputId": "910fc258-b8a8-409e-9fb9-d869e5174822"
      },
      "outputs": [
        {
          "data": {
            "text/plain": [
              "torch.Size([32, 1])"
            ]
          },
          "execution_count": 18,
          "metadata": {},
          "output_type": "execute_result"
        }
      ],
      "source": [
        "data = torch.rand(32, 30, 2)\n",
        "model(data).shape"
      ]
    },
    {
      "cell_type": "markdown",
      "metadata": {
        "id": "w-84SIT0-02o"
      },
      "source": [
        "# 12. yfinance 라이브러리를 이용하여 스타벅스(ticker=SUBX) 주가를 다운로드 합니다. 다음으로 Close 데이터만 data 변수에 저장한 후, type 과 shape 을 확인해 봅니다.\n",
        "\n",
        "* yfinance 데이터는 column 인덱스가 MultiIndex 입니다.\n",
        "\n",
        "```\n",
        "pip install yfinance\n",
        "```\n",
        "\n"
      ]
    },
    {
      "cell_type": "code",
      "execution_count": 19,
      "metadata": {},
      "outputs": [],
      "source": [
        "# pip install yfinance"
      ]
    },
    {
      "cell_type": "code",
      "execution_count": 20,
      "metadata": {
        "colab": {
          "base_uri": "https://localhost:8080/"
        },
        "id": "-gO1qQfo-rX0",
        "outputId": "b61aa8ff-ed4d-4648-fad0-bda370ae41ff"
      },
      "outputs": [
        {
          "name": "stderr",
          "output_type": "stream",
          "text": [
            "[*********************100%***********************]  1 of 1 completed\n"
          ]
        }
      ],
      "source": [
        "import yfinance as yf\n",
        "\n",
        "ticker_symbol = \"SBUX\"\n",
        "df = yf.download(ticker_symbol, start=\"2010-01-01\", end=\"2023-12-31\")"
      ]
    },
    {
      "cell_type": "code",
      "execution_count": 21,
      "metadata": {
        "colab": {
          "base_uri": "https://localhost:8080/"
        },
        "id": "BmcPg-gCAdkF",
        "outputId": "be959923-bd7b-4434-c9e3-ea271ffd465f"
      },
      "outputs": [
        {
          "data": {
            "text/plain": [
              "MultiIndex([( 'Close', 'SBUX'),\n",
              "            (  'High', 'SBUX'),\n",
              "            (   'Low', 'SBUX'),\n",
              "            (  'Open', 'SBUX'),\n",
              "            ('Volume', 'SBUX')],\n",
              "           names=['Price', 'Ticker'])"
            ]
          },
          "execution_count": 21,
          "metadata": {},
          "output_type": "execute_result"
        }
      ],
      "source": [
        "df.columns"
      ]
    },
    {
      "cell_type": "code",
      "execution_count": 22,
      "metadata": {
        "id": "_t3h8ydjTMJm"
      },
      "outputs": [
        {
          "data": {
            "text/html": [
              "<div>\n",
              "<style scoped>\n",
              "    .dataframe tbody tr th:only-of-type {\n",
              "        vertical-align: middle;\n",
              "    }\n",
              "\n",
              "    .dataframe tbody tr th {\n",
              "        vertical-align: top;\n",
              "    }\n",
              "\n",
              "    .dataframe thead tr th {\n",
              "        text-align: left;\n",
              "    }\n",
              "\n",
              "    .dataframe thead tr:last-of-type th {\n",
              "        text-align: right;\n",
              "    }\n",
              "</style>\n",
              "<table border=\"1\" class=\"dataframe\">\n",
              "  <thead>\n",
              "    <tr>\n",
              "      <th>Price</th>\n",
              "      <th>Close</th>\n",
              "      <th>High</th>\n",
              "      <th>Low</th>\n",
              "      <th>Open</th>\n",
              "      <th>Volume</th>\n",
              "    </tr>\n",
              "    <tr>\n",
              "      <th>Ticker</th>\n",
              "      <th>SBUX</th>\n",
              "      <th>SBUX</th>\n",
              "      <th>SBUX</th>\n",
              "      <th>SBUX</th>\n",
              "      <th>SBUX</th>\n",
              "    </tr>\n",
              "    <tr>\n",
              "      <th>Date</th>\n",
              "      <th></th>\n",
              "      <th></th>\n",
              "      <th></th>\n",
              "      <th></th>\n",
              "      <th></th>\n",
              "    </tr>\n",
              "  </thead>\n",
              "  <tbody>\n",
              "    <tr>\n",
              "      <th>2010-01-04</th>\n",
              "      <td>8.890200</td>\n",
              "      <td>8.998194</td>\n",
              "      <td>8.836203</td>\n",
              "      <td>8.994337</td>\n",
              "      <td>16370000</td>\n",
              "    </tr>\n",
              "    <tr>\n",
              "      <th>2010-01-05</th>\n",
              "      <td>9.098473</td>\n",
              "      <td>9.256606</td>\n",
              "      <td>8.828488</td>\n",
              "      <td>8.855486</td>\n",
              "      <td>30058800</td>\n",
              "    </tr>\n",
              "    <tr>\n",
              "      <th>2010-01-06</th>\n",
              "      <td>9.032906</td>\n",
              "      <td>9.110044</td>\n",
              "      <td>8.971195</td>\n",
              "      <td>9.056047</td>\n",
              "      <td>14209600</td>\n",
              "    </tr>\n",
              "    <tr>\n",
              "      <th>2010-01-07</th>\n",
              "      <td>9.009761</td>\n",
              "      <td>9.075328</td>\n",
              "      <td>8.944193</td>\n",
              "      <td>8.978906</td>\n",
              "      <td>10256000</td>\n",
              "    </tr>\n",
              "    <tr>\n",
              "      <th>2010-01-08</th>\n",
              "      <td>8.978905</td>\n",
              "      <td>9.102326</td>\n",
              "      <td>8.944192</td>\n",
              "      <td>8.948049</td>\n",
              "      <td>10274800</td>\n",
              "    </tr>\n",
              "  </tbody>\n",
              "</table>\n",
              "</div>"
            ],
            "text/plain": [
              "Price          Close      High       Low      Open    Volume\n",
              "Ticker          SBUX      SBUX      SBUX      SBUX      SBUX\n",
              "Date                                                        \n",
              "2010-01-04  8.890200  8.998194  8.836203  8.994337  16370000\n",
              "2010-01-05  9.098473  9.256606  8.828488  8.855486  30058800\n",
              "2010-01-06  9.032906  9.110044  8.971195  9.056047  14209600\n",
              "2010-01-07  9.009761  9.075328  8.944193  8.978906  10256000\n",
              "2010-01-08  8.978905  9.102326  8.944192  8.948049  10274800"
            ]
          },
          "execution_count": 22,
          "metadata": {},
          "output_type": "execute_result"
        }
      ],
      "source": [
        "df.head()"
      ]
    },
    {
      "cell_type": "code",
      "execution_count": 23,
      "metadata": {},
      "outputs": [
        {
          "data": {
            "text/plain": [
              "Date\n",
              "2010-01-04     8.890200\n",
              "2010-01-05     9.098473\n",
              "2010-01-06     9.032906\n",
              "2010-01-07     9.009761\n",
              "2010-01-08     8.978905\n",
              "                ...    \n",
              "2023-12-22    93.432343\n",
              "2023-12-26    93.814774\n",
              "2023-12-27    93.442146\n",
              "2023-12-28    94.069733\n",
              "2023-12-29    94.148186\n",
              "Name: (Close, SBUX), Length: 3522, dtype: float64"
            ]
          },
          "execution_count": 23,
          "metadata": {},
          "output_type": "execute_result"
        }
      ],
      "source": [
        "df[( 'Close', 'SBUX')]"
      ]
    },
    {
      "cell_type": "code",
      "execution_count": 24,
      "metadata": {},
      "outputs": [],
      "source": [
        "df.columns = ['Close', 'High', 'Low', 'Open', 'Volume']"
      ]
    },
    {
      "cell_type": "code",
      "execution_count": 25,
      "metadata": {},
      "outputs": [
        {
          "data": {
            "text/html": [
              "<div>\n",
              "<style scoped>\n",
              "    .dataframe tbody tr th:only-of-type {\n",
              "        vertical-align: middle;\n",
              "    }\n",
              "\n",
              "    .dataframe tbody tr th {\n",
              "        vertical-align: top;\n",
              "    }\n",
              "\n",
              "    .dataframe thead th {\n",
              "        text-align: right;\n",
              "    }\n",
              "</style>\n",
              "<table border=\"1\" class=\"dataframe\">\n",
              "  <thead>\n",
              "    <tr style=\"text-align: right;\">\n",
              "      <th></th>\n",
              "      <th>Close</th>\n",
              "      <th>High</th>\n",
              "      <th>Low</th>\n",
              "      <th>Open</th>\n",
              "      <th>Volume</th>\n",
              "    </tr>\n",
              "    <tr>\n",
              "      <th>Date</th>\n",
              "      <th></th>\n",
              "      <th></th>\n",
              "      <th></th>\n",
              "      <th></th>\n",
              "      <th></th>\n",
              "    </tr>\n",
              "  </thead>\n",
              "  <tbody>\n",
              "    <tr>\n",
              "      <th>2010-01-04</th>\n",
              "      <td>8.890200</td>\n",
              "      <td>8.998194</td>\n",
              "      <td>8.836203</td>\n",
              "      <td>8.994337</td>\n",
              "      <td>16370000</td>\n",
              "    </tr>\n",
              "    <tr>\n",
              "      <th>2010-01-05</th>\n",
              "      <td>9.098473</td>\n",
              "      <td>9.256606</td>\n",
              "      <td>8.828488</td>\n",
              "      <td>8.855486</td>\n",
              "      <td>30058800</td>\n",
              "    </tr>\n",
              "    <tr>\n",
              "      <th>2010-01-06</th>\n",
              "      <td>9.032906</td>\n",
              "      <td>9.110044</td>\n",
              "      <td>8.971195</td>\n",
              "      <td>9.056047</td>\n",
              "      <td>14209600</td>\n",
              "    </tr>\n",
              "    <tr>\n",
              "      <th>2010-01-07</th>\n",
              "      <td>9.009761</td>\n",
              "      <td>9.075328</td>\n",
              "      <td>8.944193</td>\n",
              "      <td>8.978906</td>\n",
              "      <td>10256000</td>\n",
              "    </tr>\n",
              "    <tr>\n",
              "      <th>2010-01-08</th>\n",
              "      <td>8.978905</td>\n",
              "      <td>9.102326</td>\n",
              "      <td>8.944192</td>\n",
              "      <td>8.948049</td>\n",
              "      <td>10274800</td>\n",
              "    </tr>\n",
              "  </tbody>\n",
              "</table>\n",
              "</div>"
            ],
            "text/plain": [
              "               Close      High       Low      Open    Volume\n",
              "Date                                                        \n",
              "2010-01-04  8.890200  8.998194  8.836203  8.994337  16370000\n",
              "2010-01-05  9.098473  9.256606  8.828488  8.855486  30058800\n",
              "2010-01-06  9.032906  9.110044  8.971195  9.056047  14209600\n",
              "2010-01-07  9.009761  9.075328  8.944193  8.978906  10256000\n",
              "2010-01-08  8.978905  9.102326  8.944192  8.948049  10274800"
            ]
          },
          "execution_count": 25,
          "metadata": {},
          "output_type": "execute_result"
        }
      ],
      "source": [
        "df.head()"
      ]
    },
    {
      "cell_type": "code",
      "execution_count": 26,
      "metadata": {},
      "outputs": [
        {
          "data": {
            "text/plain": [
              "(30,)"
            ]
          },
          "execution_count": 26,
          "metadata": {},
          "output_type": "execute_result"
        }
      ],
      "source": [
        "df['Close'].iloc[:30].shape"
      ]
    },
    {
      "cell_type": "code",
      "execution_count": 27,
      "metadata": {},
      "outputs": [
        {
          "data": {
            "text/plain": [
              "np.float64(8.928767204284668)"
            ]
          },
          "execution_count": 27,
          "metadata": {},
          "output_type": "execute_result"
        }
      ],
      "source": [
        "df['Close'].iloc[30]"
      ]
    },
    {
      "cell_type": "code",
      "execution_count": 28,
      "metadata": {},
      "outputs": [],
      "source": [
        "data = df['Close']"
      ]
    },
    {
      "cell_type": "code",
      "execution_count": 29,
      "metadata": {
        "colab": {
          "base_uri": "https://localhost:8080/"
        },
        "id": "MVMR4xgk_R66",
        "outputId": "68b154d8-33e4-4e5d-a299-c2cd378a0b2a"
      },
      "outputs": [
        {
          "data": {
            "text/plain": [
              "(pandas.core.series.Series, (3522,))"
            ]
          },
          "execution_count": 29,
          "metadata": {},
          "output_type": "execute_result"
        }
      ],
      "source": [
        "type(data), data.shape"
      ]
    },
    {
      "cell_type": "markdown",
      "metadata": {
        "id": "G5Lo-DFL_xEe"
      },
      "source": [
        "# 13. seq_len=30 을 고려하여 X, y dataset 을 생성하는 코드를 작성하세요. 이때, X 는 3d, y 는 2d 로 shape 을 조정해 주세요 (hint: reshape)"
      ]
    },
    {
      "cell_type": "code",
      "execution_count": 30,
      "metadata": {},
      "outputs": [
        {
          "data": {
            "text/plain": [
              "(numpy.ndarray, (3522,))"
            ]
          },
          "execution_count": 30,
          "metadata": {},
          "output_type": "execute_result"
        }
      ],
      "source": [
        "import numpy as np\n",
        "\n",
        "data_np = data.values\n",
        "type(data_np), data_np.shape"
      ]
    },
    {
      "cell_type": "code",
      "execution_count": 31,
      "metadata": {},
      "outputs": [
        {
          "data": {
            "text/plain": [
              "((30,), np.float64(8.928767204284668))"
            ]
          },
          "execution_count": 31,
          "metadata": {},
          "output_type": "execute_result"
        }
      ],
      "source": [
        "seq_len = 30\n",
        "data_np[0:0+seq_len].shape, data_np[0+seq_len]"
      ]
    },
    {
      "cell_type": "code",
      "execution_count": 32,
      "metadata": {},
      "outputs": [
        {
          "data": {
            "text/plain": [
              "((30,), np.float64(8.971193313598633))"
            ]
          },
          "execution_count": 32,
          "metadata": {},
          "output_type": "execute_result"
        }
      ],
      "source": [
        "data_np[1:1+seq_len].shape, data_np[1+seq_len]"
      ]
    },
    {
      "cell_type": "code",
      "execution_count": 33,
      "metadata": {},
      "outputs": [
        {
          "data": {
            "text/plain": [
              "((30,), np.float64(9.009760856628418))"
            ]
          },
          "execution_count": 33,
          "metadata": {},
          "output_type": "execute_result"
        }
      ],
      "source": [
        "data_np[2:2+seq_len].shape, data_np[2+seq_len]"
      ]
    },
    {
      "cell_type": "code",
      "execution_count": 44,
      "metadata": {
        "id": "l8wWed18_lxe"
      },
      "outputs": [],
      "source": [
        "seq_len = 30\n",
        "\n",
        "i = 0\n",
        "X, y = [], []\n",
        "for i in range(len(data_np)-(seq_len)):\n",
        "  X.append(data_np[i:i+seq_len]) \n",
        "  y.append(data_np[i+seq_len])\n",
        "\n",
        "X = np.array(X).reshape(-1, seq_len, 1)\n",
        "y = np.array(y).reshape(-1, 1)"
      ]
    },
    {
      "cell_type": "code",
      "execution_count": 35,
      "metadata": {
        "colab": {
          "base_uri": "https://localhost:8080/"
        },
        "id": "hDPEyBtsBCkp",
        "outputId": "148ac337-7b68-493a-c56c-0c39e90624d6"
      },
      "outputs": [
        {
          "data": {
            "text/plain": [
              "(numpy.ndarray, numpy.ndarray, (3492, 30, 1), (3492, 1))"
            ]
          },
          "execution_count": 35,
          "metadata": {},
          "output_type": "execute_result"
        }
      ],
      "source": [
        "type(X), type(y), X.shape, y.shape"
      ]
    },
    {
      "cell_type": "markdown",
      "metadata": {
        "id": "x3klCQcKB8XM"
      },
      "source": [
        "# 14. 13번에서 생성한 데이터셋을 이용하여 DataLoder 객체를 생성하고, 11번을 참고하여 데이터에 알맞은 모델을 생성합니다 (hidden_size=10)."
      ]
    },
    {
      "cell_type": "code",
      "execution_count": 45,
      "metadata": {
        "id": "P9-OG9IBC8Bi"
      },
      "outputs": [],
      "source": [
        "from torch.utils.data import DataLoader, TensorDataset\n",
        "\n",
        "X_data, y_data = torch.tensor(X).float(), torch.tensor(y).float()\n",
        "loader_train = DataLoader(TensorDataset(X_data, y_data), batch_size=32, shuffle=True)"
      ]
    },
    {
      "cell_type": "code",
      "execution_count": 37,
      "metadata": {
        "id": "GtkCQEHfBdjU"
      },
      "outputs": [],
      "source": [
        "class StockPrediction2(nn.Module):\n",
        "  def __init__(self, input_size=1, hidden_size=10, output_size=1):\n",
        "    super(StockPrediction2, self).__init__()\n",
        "    self.input_size = input_size\n",
        "    self.hidden_size = hidden_size\n",
        "    self.output_size = output_size\n",
        "    self.lstm = nn.LSTM(input_size, hidden_size, batch_first=True)\n",
        "    self.linear = nn.Linear(hidden_size, output_size)\n",
        "\n",
        "\n",
        "  def forward(self, x):\n",
        "    ys, (h, c) = self.lstm(x)\n",
        "    c = c.view(-1, self.hidden_size)\n",
        "    c = self.linear(c)\n",
        "    return c\n",
        "\n",
        "model = StockPrediction2()"
      ]
    },
    {
      "cell_type": "code",
      "execution_count": 38,
      "metadata": {
        "colab": {
          "base_uri": "https://localhost:8080/"
        },
        "id": "wsl9DgoAC6mY",
        "outputId": "9e19354d-ca3c-46b4-d2fb-6ac21b91363b"
      },
      "outputs": [
        {
          "name": "stdout",
          "output_type": "stream",
          "text": [
            "torch.Size([32, 1])\n"
          ]
        }
      ],
      "source": [
        "for I, label in loader_train:\n",
        "  print(model(I).shape)\n",
        "  break"
      ]
    },
    {
      "cell_type": "markdown",
      "metadata": {
        "id": "ScfzF-AyFFqN"
      },
      "source": [
        "# 15. 모델을 훈련하기 위한 train loop 를 작성하여 모델을 훈련시킵니다. loop 가 한 번만 성공적으로 동작하도록 해 보세요.\n",
        "\n",
        "* Loss: nn.MSELoss\n",
        "* Optimizer: optim.Adam"
      ]
    },
    {
      "cell_type": "code",
      "execution_count": 39,
      "metadata": {
        "id": "tWna3nxoExjq"
      },
      "outputs": [],
      "source": [
        "import torch.optim as optim\n",
        "\n",
        "loss_fn = nn.MSELoss()\n",
        "optimizer = optim.Adam(model.parameters())"
      ]
    },
    {
      "cell_type": "code",
      "execution_count": 40,
      "metadata": {},
      "outputs": [],
      "source": [
        "device = torch.device(\"cuda\" if torch.cuda.is_available() else \"cpu\")"
      ]
    },
    {
      "cell_type": "code",
      "execution_count": 41,
      "metadata": {},
      "outputs": [
        {
          "name": "stdout",
          "output_type": "stream",
          "text": [
            "Epoch [1/1], Loss: 82.3098\n"
          ]
        }
      ],
      "source": [
        "num_epochs = 1\n",
        "loss_history = []\n",
        "# model.to(device)\n",
        "model.train()\n",
        "for epoch in range(num_epochs):\n",
        "    running_loss = 0.0\n",
        "    for X_batch, y_batch in loader_train:\n",
        "        # X, y = X.to(device), y.to(device)\n",
        "\n",
        "        out = model(X_batch)\n",
        "        loss = loss_fn(out, y_batch)\n",
        "\n",
        "        optimizer.zero_grad()\n",
        "        loss.backward()\n",
        "        optimizer.step()\n",
        "\n",
        "        running_loss += loss.item()\n",
        "\n",
        "    loss_history.append(running_loss / len(loader_train.dataset))\n",
        "    print(f\"Epoch [{epoch+1}/{num_epochs}], Loss: {running_loss / len(loader_train.dataset):.4f}\")"
      ]
    },
    {
      "cell_type": "markdown",
      "metadata": {
        "id": "AUJmZw0MHD6V"
      },
      "source": [
        "# 16. epochs=200 으로 모델을 훈련시킵니다. 한 번의 epoch 마다 loss 값을 출력합니다.\n",
        "\n",
        "* GPU 를 사용할 수 있으면 적극 활용하세요."
      ]
    },
    {
      "cell_type": "code",
      "execution_count": null,
      "metadata": {
        "colab": {
          "base_uri": "https://localhost:8080/"
        },
        "id": "911aXU5AGw8h",
        "outputId": "28ac2899-7964-4471-95de-63a3d65480f8"
      },
      "outputs": [
        {
          "name": "stdout",
          "output_type": "stream",
          "text": [
            "epoch: 0, loss: 1167.711693642356\n",
            "epoch: 1, loss: 309.3045228437944\n",
            "epoch: 2, loss: 164.90668466741388\n",
            "epoch: 3, loss: 94.39627364765514\n",
            "epoch: 4, loss: 59.502445408430965\n",
            "epoch: 5, loss: 40.23730001341213\n",
            "epoch: 6, loss: 28.418877692656082\n",
            "epoch: 7, loss: 21.3069385479797\n",
            "epoch: 8, loss: 16.90568709373474\n",
            "epoch: 9, loss: 14.73497558073564\n",
            "epoch: 10, loss: 11.85395139130679\n",
            "epoch: 11, loss: 10.369647320834073\n",
            "epoch: 12, loss: 9.286884267763657\n",
            "epoch: 13, loss: 8.622914369539782\n",
            "epoch: 14, loss: 8.14176267818971\n",
            "epoch: 15, loss: 7.8422211495312775\n",
            "epoch: 16, loss: 7.56833566671068\n",
            "epoch: 17, loss: 7.466036608002403\n",
            "epoch: 18, loss: 7.0848537878556685\n",
            "epoch: 19, loss: 7.060739762132818\n",
            "epoch: 20, loss: 6.469191843000325\n",
            "epoch: 21, loss: 6.116439262303439\n",
            "epoch: 22, loss: 6.13457687551325\n",
            "epoch: 23, loss: 5.848163363066587\n",
            "epoch: 24, loss: 5.818567673726515\n",
            "epoch: 25, loss: 5.776906465400349\n",
            "epoch: 26, loss: 5.666850411891938\n",
            "epoch: 27, loss: 5.37522680867802\n",
            "epoch: 28, loss: 5.270460750839927\n",
            "epoch: 29, loss: 5.2232241099531\n",
            "epoch: 30, loss: 5.202347083525225\n",
            "epoch: 31, loss: 4.920733698931607\n",
            "epoch: 32, loss: 4.892389639941129\n",
            "epoch: 33, loss: 5.069970548152924\n",
            "epoch: 34, loss: 4.849170371619138\n",
            "epoch: 35, loss: 4.699741441553289\n",
            "epoch: 36, loss: 4.7504232016476715\n",
            "epoch: 37, loss: 4.690789419412613\n",
            "epoch: 38, loss: 4.712693801793185\n",
            "epoch: 39, loss: 4.626231025294824\n",
            "epoch: 40, loss: 4.613457907329906\n",
            "epoch: 41, loss: 4.483164025436748\n",
            "epoch: 42, loss: 4.622171520915899\n",
            "epoch: 43, loss: 4.543102671883323\n",
            "epoch: 44, loss: 4.681852041591298\n",
            "epoch: 45, loss: 4.582611451365731\n",
            "epoch: 46, loss: 4.403711894967339\n",
            "epoch: 47, loss: 4.663751051100817\n",
            "epoch: 48, loss: 4.690748777172782\n",
            "epoch: 49, loss: 4.353929865902121\n",
            "epoch: 50, loss: 4.53423172452233\n",
            "epoch: 51, loss: 4.589167604663155\n",
            "epoch: 52, loss: 4.403517108613794\n",
            "epoch: 53, loss: 4.443496331301603\n",
            "epoch: 54, loss: 4.452716173908927\n",
            "epoch: 55, loss: 4.31691272800619\n",
            "epoch: 56, loss: 4.466085248643702\n",
            "epoch: 57, loss: 4.257017096606168\n",
            "epoch: 58, loss: 4.364558095281774\n",
            "epoch: 59, loss: 4.077902186458761\n",
            "epoch: 60, loss: 4.0551993803544475\n",
            "epoch: 61, loss: 4.06689401160587\n",
            "epoch: 62, loss: 4.155610552159223\n",
            "epoch: 63, loss: 4.19634866010059\n",
            "epoch: 64, loss: 3.916873662038283\n",
            "epoch: 65, loss: 3.894512078978799\n",
            "epoch: 66, loss: 3.893993159315803\n",
            "epoch: 67, loss: 3.9233016723936256\n",
            "epoch: 68, loss: 3.8275224447250364\n",
            "epoch: 69, loss: 3.9994997029954735\n",
            "epoch: 70, loss: 3.9262874321504073\n",
            "epoch: 71, loss: 3.7337720535018226\n",
            "epoch: 72, loss: 3.703954311392524\n",
            "epoch: 73, loss: 3.690284663167867\n",
            "epoch: 74, loss: 3.568959440426393\n",
            "epoch: 75, loss: 3.6446226130832327\n",
            "epoch: 76, loss: 3.5613827710801904\n",
            "epoch: 77, loss: 3.5123097788203848\n",
            "epoch: 78, loss: 3.7063687497919258\n",
            "epoch: 79, loss: 3.567996563152833\n",
            "epoch: 80, loss: 3.4257840915159745\n",
            "epoch: 81, loss: 3.3649670655077153\n",
            "epoch: 82, loss: 3.5180750911886043\n",
            "epoch: 83, loss: 3.4733500963584945\n",
            "epoch: 84, loss: 3.4949645432558927\n",
            "epoch: 85, loss: 3.5080379832874646\n",
            "epoch: 86, loss: 3.449860761382363\n",
            "epoch: 87, loss: 3.522569675879045\n",
            "epoch: 88, loss: 3.4159142607992345\n",
            "epoch: 89, loss: 3.372653608972376\n",
            "epoch: 90, loss: 3.287880812991749\n",
            "epoch: 91, loss: 3.3434986786408856\n",
            "epoch: 92, loss: 3.3400534906170587\n",
            "epoch: 93, loss: 3.2101235996593127\n",
            "epoch: 94, loss: 3.448359466682781\n",
            "epoch: 95, loss: 3.225292425805872\n",
            "epoch: 96, loss: 3.1947690237652173\n",
            "epoch: 97, loss: 3.0557159131223504\n",
            "epoch: 98, loss: 3.1970344684340737\n",
            "epoch: 99, loss: 3.1656428824771536\n",
            "epoch: 100, loss: 3.2414551453156903\n",
            "epoch: 101, loss: 2.9630608737468718\n",
            "epoch: 102, loss: 2.973274009877985\n",
            "epoch: 103, loss: 3.0743487466465345\n",
            "epoch: 104, loss: 2.9524153530597688\n",
            "epoch: 105, loss: 2.955129981582815\n",
            "epoch: 106, loss: 2.853352153030309\n",
            "epoch: 107, loss: 2.851364244249734\n",
            "epoch: 108, loss: 2.8405642433599994\n",
            "epoch: 109, loss: 2.7878970189528034\n",
            "epoch: 110, loss: 2.933018396523866\n",
            "epoch: 111, loss: 2.810442862727425\n",
            "epoch: 112, loss: 2.820781765200875\n",
            "epoch: 113, loss: 2.687961600314487\n",
            "epoch: 114, loss: 2.8158299521966415\n",
            "epoch: 115, loss: 2.866512876207178\n",
            "epoch: 116, loss: 2.7723215688358653\n",
            "epoch: 117, loss: 2.6899175585670902\n",
            "epoch: 118, loss: 2.6382335689934817\n",
            "epoch: 119, loss: 2.637797120484439\n",
            "epoch: 120, loss: 2.5480217375538565\n",
            "epoch: 121, loss: 2.5301118552684785\n",
            "epoch: 122, loss: 3.001483092931184\n",
            "epoch: 123, loss: 2.7224737617102535\n",
            "epoch: 124, loss: 2.6290742586959492\n",
            "epoch: 125, loss: 2.8153616477142682\n",
            "epoch: 126, loss: 2.6833034428683193\n",
            "epoch: 127, loss: 2.7915239637548273\n",
            "epoch: 128, loss: 2.547658577832309\n",
            "epoch: 129, loss: 2.4607635270465504\n",
            "epoch: 130, loss: 2.5889699423855\n",
            "epoch: 131, loss: 2.653233517299999\n",
            "epoch: 132, loss: 2.5696152408014643\n",
            "epoch: 133, loss: 2.3940206928686663\n",
            "epoch: 134, loss: 2.4066793738441032\n",
            "epoch: 135, loss: 2.4414061947302383\n",
            "epoch: 136, loss: 2.4953601398251273\n",
            "epoch: 137, loss: 2.3455201165242627\n",
            "epoch: 138, loss: 2.5313152653249826\n",
            "epoch: 139, loss: 2.329362564195286\n",
            "epoch: 140, loss: 2.528578117760745\n",
            "epoch: 141, loss: 2.2977871309627185\n",
            "epoch: 142, loss: 2.34183712980964\n",
            "epoch: 143, loss: 2.356959271295504\n",
            "epoch: 144, loss: 2.3988831850615413\n",
            "epoch: 145, loss: 2.365600979734551\n",
            "epoch: 146, loss: 2.6130577038634906\n",
            "epoch: 147, loss: 2.370380968939174\n",
            "epoch: 148, loss: 2.4546851591630414\n",
            "epoch: 149, loss: 2.383435688235543\n",
            "epoch: 150, loss: 2.1786321724680335\n",
            "epoch: 151, loss: 2.5254107597199353\n",
            "epoch: 152, loss: 2.3319015047766944\n",
            "epoch: 153, loss: 2.53237132971937\n",
            "epoch: 154, loss: 2.356448371301998\n",
            "epoch: 155, loss: 2.356622583215887\n",
            "epoch: 156, loss: 2.262314257059585\n",
            "epoch: 157, loss: 2.398575788194483\n",
            "epoch: 158, loss: 2.2421158785169775\n",
            "epoch: 159, loss: 2.129024263132702\n",
            "epoch: 160, loss: 2.177954175797376\n",
            "epoch: 161, loss: 2.186659726229581\n",
            "epoch: 162, loss: 2.2202845752239226\n",
            "epoch: 163, loss: 2.1259084490212525\n",
            "epoch: 164, loss: 2.081480401483449\n",
            "epoch: 165, loss: 2.5746185692873866\n",
            "epoch: 166, loss: 2.1354959509589455\n",
            "epoch: 167, loss: 2.190428267487071\n",
            "epoch: 168, loss: 2.2236338899894195\n",
            "epoch: 169, loss: 2.2788722463629463\n",
            "epoch: 170, loss: 2.234122886982831\n",
            "epoch: 171, loss: 2.091077838702635\n",
            "epoch: 172, loss: 2.0379361193288457\n",
            "epoch: 173, loss: 2.188020121780309\n",
            "epoch: 174, loss: 2.112480664795095\n",
            "epoch: 175, loss: 2.1507449515841226\n",
            "epoch: 176, loss: 2.02651857083494\n",
            "epoch: 177, loss: 2.187040288339962\n",
            "epoch: 178, loss: 2.154161448370327\n",
            "epoch: 179, loss: 2.062889709255912\n",
            "epoch: 180, loss: 2.213122779672796\n",
            "epoch: 181, loss: 2.119711352478374\n",
            "epoch: 182, loss: 2.217034323378043\n",
            "epoch: 183, loss: 2.1326435769146137\n",
            "epoch: 184, loss: 2.209968175129457\n",
            "epoch: 185, loss: 2.0437917441129683\n",
            "epoch: 186, loss: 1.9853360777551479\n",
            "epoch: 187, loss: 1.968786472082138\n",
            "epoch: 188, loss: 2.113949537819082\n",
            "epoch: 189, loss: 2.05254736922004\n",
            "epoch: 190, loss: 1.9245912744240328\n",
            "epoch: 191, loss: 2.007472638379444\n",
            "epoch: 192, loss: 1.98984650536017\n",
            "epoch: 193, loss: 1.9469445851716127\n",
            "epoch: 194, loss: 1.9502425556833094\n",
            "epoch: 195, loss: 2.136895933205431\n",
            "epoch: 196, loss: 1.9661107464270158\n",
            "epoch: 197, loss: 1.9601150618358092\n",
            "epoch: 198, loss: 1.9598194108767943\n",
            "epoch: 199, loss: 1.9971121939745817\n"
          ]
        }
      ],
      "source": [
        "num_epochs = 200\n",
        "loss_history = []\n",
        "# model.to(device)\n",
        "model.train()\n",
        "for epoch in range(num_epochs):\n",
        "  total_loss = 0\n",
        "  for X_batch, y_batch in loader_train:\n",
        "    # X, y = X.to(device), y.to(device)\n",
        "\n",
        "    out = model(X_batch)\n",
        "    loss = loss_fn(out, y_batch)\n",
        "\n",
        "    optimizer.zero_grad()\n",
        "    loss.backward()\n",
        "    optimizer.step()\n",
        "\n",
        "    total_loss += loss.item()\n",
        "    \n",
        "  epoch_loss = total_loss / len(loader_train)\n",
        "  print(f'epoch: {epoch}, loss: {epoch_loss}')"
      ]
    },
    {
      "cell_type": "markdown",
      "metadata": {
        "id": "TfHzl8EmO4fD"
      },
      "source": [
        "# 17. 실제 값과 훈련된 모델의 예측값을 plot 으로 그려봅니다."
      ]
    },
    {
      "cell_type": "code",
      "execution_count": 46,
      "metadata": {
        "colab": {
          "base_uri": "https://localhost:8080/",
          "height": 448
        },
        "id": "NulT4y50Hb1S",
        "outputId": "1f46569e-0881-4f52-dadd-3c6e7cfe3329"
      },
      "outputs": [
        {
          "data": {
            "text/plain": [
              "[<matplotlib.lines.Line2D at 0x2bbab299e20>]"
            ]
          },
          "execution_count": 46,
          "metadata": {},
          "output_type": "execute_result"
        },
        {
          "data": {
            "image/png": "[encoded data removed]",
            "text/plain": [
              "<Figure size 640x480 with 1 Axes>"
            ]
          },
          "metadata": {},
          "output_type": "display_data"
        }
      ],
      "source": [
        "import matplotlib.pyplot as plt\n",
        "\n",
        "model.eval()\n",
        "\n",
        "X_tensor = torch.tensor(X).float()\n",
        "with torch.no_grad():\n",
        "  y_pred = model(X_tensor).numpy()\n",
        "  # y_pred = model(X_tensor).cpu().numpy()\n",
        "\n",
        "plt.plot(df.index[seq_len:], y)\n",
        "plt.plot(df.index[seq_len:], y_pred)"
      ]
    },
    {
      "cell_type": "markdown",
      "metadata": {
        "id": "dcPfJKByPBxT"
      },
      "source": [
        "# 18. 모델의 성능을 MSE, RMSE, MAE, R2 메트릭을 이용하여 측정해 봅니다."
      ]
    },
    {
      "cell_type": "code",
      "execution_count": 47,
      "metadata": {
        "colab": {
          "base_uri": "https://localhost:8080/"
        },
        "id": "nF7EoWRXJjGQ",
        "outputId": "bc148b61-a823-44b8-b106-d2ff57c4ebf6"
      },
      "outputs": [
        {
          "data": {
            "text/plain": [
              "'MSE: 1.83040, RMSE: 1.35292, MAE: 0.87767, R2: 0.99792'"
            ]
          },
          "execution_count": 47,
          "metadata": {},
          "output_type": "execute_result"
        }
      ],
      "source": [
        "from sklearn.metrics import mean_squared_error, mean_absolute_error, r2_score\n",
        "\n",
        "mse = mean_squared_error(y, y_pred)\n",
        "rmse = np.sqrt(mse)\n",
        "mae = mean_absolute_error(y, y_pred)\n",
        "r2 = r2_score(y, y_pred)\n",
        "\n",
        "f\"MSE: {mse:.5f}, RMSE: {rmse:.5f}, MAE: {mae:.5f}, R2: {r2:.5f}\""
      ]
    },
    {
      "cell_type": "markdown",
      "metadata": {
        "id": "d41xsezKPMUm"
      },
      "source": [
        "# 19. 12번에서 생성한 데이터를 이용하여 다음을 수행하시오.\n",
        "\n",
        "* sklearn 의 MinMaxScaler 를 이용하여 데이터를 정규화 합니다. (fit_transform)\n",
        "* 9:1 의 비율로 train/test 로 데이터를 split 하여, X_trian, X_test, y_train, y_test 변수에 저장합니다.\n",
        "* train/test 용 DataLoader 객체를 생성하여 loader_train, loader_test 변수에 저장합니다.\n",
        "* 모델 훈련 시에는 loader_train 을 이용하고, 모델의 예측력을 확인할 때는 loader_test 를 이용합니다."
      ]
    },
    {
      "cell_type": "code",
      "execution_count": 203,
      "metadata": {
        "id": "ZII2s9VgSmkl"
      },
      "outputs": [
        {
          "name": "stderr",
          "output_type": "stream",
          "text": [
            "[*********************100%***********************]  1 of 1 completed\n"
          ]
        },
        {
          "data": {
            "text/plain": [
              "(3522, 1)"
            ]
          },
          "execution_count": 203,
          "metadata": {},
          "output_type": "execute_result"
        }
      ],
      "source": [
        "import yfinance as yf\n",
        "from sklearn.preprocessing import MinMaxScaler\n",
        "\n",
        "ticker_symbol = \"SBUX\"\n",
        "df = yf.download(ticker_symbol, start=\"2010-01-01\", end=\"2023-12-31\")\n",
        "\n",
        "df.columns = ['Close', 'High', 'Low', 'Open', 'Volume']\n",
        "data = df['Close'].values.reshape(-1, 1)\n",
        "\n",
        "data.shape"
      ]
    },
    {
      "cell_type": "code",
      "execution_count": 204,
      "metadata": {},
      "outputs": [],
      "source": [
        "train_size = int(len(data) * 0.9)\n",
        "\n",
        "trainset = data[:train_size]\n",
        "testset = data[train_size:]"
      ]
    },
    {
      "cell_type": "code",
      "execution_count": 205,
      "metadata": {},
      "outputs": [],
      "source": [
        "scaler = MinMaxScaler()\n",
        "scaler.fit(trainset)\n",
        "trainset_scaled = scaler.transform(trainset)\n",
        "testset_scaled = scaler.transform(testset)"
      ]
    },
    {
      "cell_type": "code",
      "execution_count": 206,
      "metadata": {},
      "outputs": [],
      "source": [
        "import numpy as np\n",
        "\n",
        "def split_dataset(data, seq_len):\n",
        "  X, y  = [], []\n",
        "  for i in range(len(data)-(seq_len)):\n",
        "    X.append(data[i:i+seq_len, :]) \n",
        "    y.append(data[i+seq_len])\n",
        "  return np.array(X), np.array(y)"
      ]
    },
    {
      "cell_type": "code",
      "execution_count": 207,
      "metadata": {},
      "outputs": [],
      "source": [
        "X_train, y_train = split_dataset(trainset_scaled, 30)\n",
        "X_test, y_test = split_dataset(testset_scaled, 30)"
      ]
    },
    {
      "cell_type": "code",
      "execution_count": 208,
      "metadata": {},
      "outputs": [
        {
          "data": {
            "text/plain": [
              "((3139, 30, 1), (3139, 1), (323, 30, 1), (323, 1))"
            ]
          },
          "execution_count": 208,
          "metadata": {},
          "output_type": "execute_result"
        }
      ],
      "source": [
        "X_train.shape, y_train.shape, X_test.shape, y_test.shape"
      ]
    },
    {
      "cell_type": "code",
      "execution_count": 209,
      "metadata": {},
      "outputs": [],
      "source": [
        "X_train_tensor, y_train_tensor = torch.tensor(X_train).float(), torch.tensor(y_train).float()\n",
        "X_test_tensor, y_test_tensor = torch.tensor(X_test).float(), torch.tensor(y_test).float()"
      ]
    },
    {
      "cell_type": "code",
      "execution_count": 210,
      "metadata": {},
      "outputs": [],
      "source": [
        "from torch.utils.data import DataLoader, TensorDataset\n",
        "\n",
        "loader_train = DataLoader(TensorDataset(X_train_tensor, y_train_tensor), \n",
        "                                           batch_size=32)\n",
        "loader_test = DataLoader(TensorDataset(X_test_tensor, y_test_tensor), \n",
        "                                          batch_size=32)"
      ]
    },
    {
      "cell_type": "code",
      "execution_count": 211,
      "metadata": {},
      "outputs": [],
      "source": [
        "class StockPrediction(nn.Module):\n",
        "  def __init__(self, input_size=1, hidden_size=50, output_size=1):\n",
        "    super(StockPrediction, self).__init__()\n",
        "    self.input_size = input_size\n",
        "    self.hidden_size = hidden_size\n",
        "    self.output_size = output_size\n",
        "    self.lstm = nn.LSTM(input_size, hidden_size, batch_first=True)\n",
        "    self.linear = nn.Linear(hidden_size, output_size)\n",
        "\n",
        "\n",
        "  def forward(self, x):\n",
        "    out, (h, c) = self.lstm(x)\n",
        "    out = self.linear(out[:, -1, :])\n",
        "    return out"
      ]
    },
    {
      "cell_type": "code",
      "execution_count": 212,
      "metadata": {},
      "outputs": [],
      "source": [
        "model = StockPrediction()"
      ]
    },
    {
      "cell_type": "code",
      "execution_count": 213,
      "metadata": {},
      "outputs": [],
      "source": [
        "import torch.optim as optim\n",
        "\n",
        "loss_fn = nn.MSELoss()\n",
        "optimizer = optim.Adam(model.parameters())"
      ]
    },
    {
      "cell_type": "code",
      "execution_count": 214,
      "metadata": {},
      "outputs": [
        {
          "name": "stdout",
          "output_type": "stream",
          "text": [
            "epoch: 1, loss: 0.011709350542571544\n",
            "epoch: 2, loss: 0.027711767974783516\n",
            "epoch: 3, loss: 0.028551594640583686\n",
            "epoch: 4, loss: 0.03214019347058528\n",
            "epoch: 5, loss: 0.037645725356942605\n",
            "epoch: 6, loss: 0.02769441663015944\n",
            "epoch: 7, loss: 0.013823207044465975\n",
            "epoch: 8, loss: 0.005446718281158188\n",
            "epoch: 9, loss: 0.0018618426798418636\n",
            "epoch: 10, loss: 0.0006720853712389303\n",
            "epoch: 11, loss: 0.00035760270473456145\n",
            "epoch: 12, loss: 0.00026990828114826907\n",
            "epoch: 13, loss: 0.0002533717631810548\n",
            "epoch: 14, loss: 0.0002622711594443844\n",
            "epoch: 15, loss: 0.00028151804942142623\n",
            "epoch: 16, loss: 0.0003060577031867455\n",
            "epoch: 17, loss: 0.00033405691673845403\n",
            "epoch: 18, loss: 0.0003646808209308838\n",
            "epoch: 19, loss: 0.0003973736694399232\n",
            "epoch: 20, loss: 0.0004316327179762396\n",
            "epoch: 21, loss: 0.0004669284490507444\n",
            "epoch: 22, loss: 0.000502679998034081\n",
            "epoch: 23, loss: 0.000538248655441684\n",
            "epoch: 24, loss: 0.0005729445825875361\n",
            "epoch: 25, loss: 0.0006060422449743121\n",
            "epoch: 26, loss: 0.0006368091787104883\n",
            "epoch: 27, loss: 0.0006645428601945187\n",
            "epoch: 28, loss: 0.0006886178266403008\n",
            "epoch: 29, loss: 0.000708535201187205\n",
            "epoch: 30, loss: 0.0007239697821076866\n",
            "epoch: 31, loss: 0.0007348007868379434\n",
            "epoch: 32, loss: 0.0007411258415957472\n",
            "epoch: 33, loss: 0.0007432467047710999\n",
            "epoch: 34, loss: 0.0007416345047158297\n",
            "epoch: 35, loss: 0.0007368747511564936\n",
            "epoch: 36, loss: 0.0007296061884232467\n",
            "epoch: 37, loss: 0.0007204627992648213\n",
            "epoch: 38, loss: 0.0007100197060458184\n",
            "epoch: 39, loss: 0.0006987680999235167\n",
            "epoch: 40, loss: 0.0006870938221374048\n",
            "epoch: 41, loss: 0.0006752709220811746\n",
            "epoch: 42, loss: 0.000663478759312479\n",
            "epoch: 43, loss: 0.0006518131697638903\n",
            "epoch: 44, loss: 0.000640307399169045\n",
            "epoch: 45, loss: 0.0006289522230008975\n",
            "epoch: 46, loss: 0.000617715081248069\n",
            "epoch: 47, loss: 0.0006065524180990502\n",
            "epoch: 48, loss: 0.0005954227836819064\n",
            "epoch: 49, loss: 0.000584291682286556\n",
            "epoch: 50, loss: 0.0005731380294188663\n",
            "epoch: 51, loss: 0.0005619545649133583\n",
            "epoch: 52, loss: 0.0005507472909940965\n",
            "epoch: 53, loss: 0.0005395331697188955\n",
            "epoch: 54, loss: 0.0005283373506465454\n",
            "epoch: 55, loss: 0.0005171890381204477\n",
            "epoch: 56, loss: 0.0005061211947274084\n",
            "epoch: 57, loss: 0.0004951658499218562\n",
            "epoch: 58, loss: 0.0004843550791290431\n",
            "epoch: 59, loss: 0.000473716810469194\n",
            "epoch: 60, loss: 0.0004632773681548471\n",
            "epoch: 61, loss: 0.00045305869179807786\n",
            "epoch: 62, loss: 0.00044308220696271896\n",
            "epoch: 63, loss: 0.0004333637151913453\n",
            "epoch: 64, loss: 0.0004239196822103016\n",
            "epoch: 65, loss: 0.0004147641460932768\n",
            "epoch: 66, loss: 0.00040591001756312304\n",
            "epoch: 67, loss: 0.0003973677178375069\n",
            "epoch: 68, loss: 0.00038915002800642856\n",
            "epoch: 69, loss: 0.00038125927759128075\n",
            "epoch: 70, loss: 0.000373717078687288\n",
            "epoch: 71, loss: 0.0003665029423402045\n",
            "epoch: 72, loss: 0.000359764129646492\n",
            "epoch: 73, loss: 0.000353736322387079\n",
            "epoch: 74, loss: 0.0003511125305154528\n",
            "epoch: 75, loss: 0.00035504905571717173\n",
            "epoch: 76, loss: 0.00036273015299652476\n",
            "epoch: 77, loss: 0.00036116957427580155\n",
            "epoch: 78, loss: 0.0003600529214945525\n",
            "epoch: 79, loss: 0.0003372648319865138\n",
            "epoch: 80, loss: 0.00032042132719230134\n",
            "epoch: 81, loss: 0.0003021361599166994\n",
            "epoch: 82, loss: 0.00029428758933255553\n",
            "epoch: 83, loss: 0.0002894280573832245\n",
            "epoch: 84, loss: 0.0002879013488124812\n",
            "epoch: 85, loss: 0.0002864657830507371\n",
            "epoch: 86, loss: 0.0002850881656520483\n",
            "epoch: 87, loss: 0.0002829991590260761\n",
            "epoch: 88, loss: 0.0002804435539290334\n",
            "epoch: 89, loss: 0.0002771675028380934\n",
            "epoch: 90, loss: 0.0002733773998755564\n",
            "epoch: 91, loss: 0.000269019216876136\n",
            "epoch: 92, loss: 0.00026431794739749815\n",
            "epoch: 93, loss: 0.00025936388199009557\n",
            "epoch: 94, loss: 0.00025437573017508396\n",
            "epoch: 95, loss: 0.00024949152542592284\n",
            "epoch: 96, loss: 0.0002448687861593645\n",
            "epoch: 97, loss: 0.00024063035011474284\n",
            "epoch: 98, loss: 0.0002368557836459763\n",
            "epoch: 99, loss: 0.00023361945335811395\n",
            "epoch: 100, loss: 0.00023093257654769754\n",
            "epoch: 101, loss: 0.00022881439658841842\n",
            "epoch: 102, loss: 0.00022722277137263242\n",
            "epoch: 103, loss: 0.00022612477491610193\n",
            "epoch: 104, loss: 0.00022543929448965163\n",
            "epoch: 105, loss: 0.00022508526310985238\n",
            "epoch: 106, loss: 0.00022495144335520344\n",
            "epoch: 107, loss: 0.00022491938558471362\n",
            "epoch: 108, loss: 0.0002248551141756344\n",
            "epoch: 109, loss: 0.0002246194786273532\n",
            "epoch: 110, loss: 0.0002240778924375502\n",
            "epoch: 111, loss: 0.00022312507075634993\n",
            "epoch: 112, loss: 0.00022172300945192436\n",
            "epoch: 113, loss: 0.00021992128375297233\n",
            "epoch: 114, loss: 0.00021776299212378393\n",
            "epoch: 115, loss: 0.00021509176003011742\n",
            "epoch: 116, loss: 0.00021180748099554464\n",
            "epoch: 117, loss: 0.00020827618233181625\n",
            "epoch: 118, loss: 0.0002051045419698817\n",
            "epoch: 119, loss: 0.0002035168738277409\n",
            "epoch: 120, loss: 0.00020302272657841746\n",
            "epoch: 121, loss: 0.0002006526270459363\n",
            "epoch: 122, loss: 0.00019929153949296868\n",
            "epoch: 123, loss: 0.00019907936691445437\n",
            "epoch: 124, loss: 0.0001995073937106292\n",
            "epoch: 125, loss: 0.0001997171107636905\n",
            "epoch: 126, loss: 0.00020132751421093564\n",
            "epoch: 127, loss: 0.0002035098199361197\n",
            "epoch: 128, loss: 0.00020567736506297543\n",
            "epoch: 129, loss: 0.00020668501003750164\n",
            "epoch: 130, loss: 0.0002079320154923217\n",
            "epoch: 131, loss: 0.00020874292121416974\n",
            "epoch: 132, loss: 0.00020723242035577036\n",
            "epoch: 133, loss: 0.0002034852266642518\n",
            "epoch: 134, loss: 0.000198352104181976\n",
            "epoch: 135, loss: 0.00019262358760998823\n",
            "epoch: 136, loss: 0.00018575232485605427\n",
            "epoch: 137, loss: 0.00017880820119311043\n",
            "epoch: 138, loss: 0.00017215016268524742\n",
            "epoch: 139, loss: 0.0001662418392426862\n",
            "epoch: 140, loss: 0.0001614455407071555\n",
            "epoch: 141, loss: 0.0001581041559747422\n",
            "epoch: 142, loss: 0.00015664183492293833\n",
            "epoch: 143, loss: 0.00015748835194198815\n",
            "epoch: 144, loss: 0.00016048652739732231\n",
            "epoch: 145, loss: 0.00016603251720200682\n",
            "epoch: 146, loss: 0.00017525449238011713\n",
            "epoch: 147, loss: 0.0001898730831680491\n",
            "epoch: 148, loss: 0.00021564228943749884\n",
            "epoch: 149, loss: 0.0002466776755048186\n",
            "epoch: 150, loss: 0.00027277446561542587\n",
            "epoch: 151, loss: 0.0002845239275458623\n",
            "epoch: 152, loss: 0.00026806767475751953\n",
            "epoch: 153, loss: 0.00023366682344800726\n",
            "epoch: 154, loss: 0.0002024274885795853\n",
            "epoch: 155, loss: 0.00019046931007241338\n",
            "epoch: 156, loss: 0.00016397916576783926\n",
            "epoch: 157, loss: 0.0001463131233542685\n",
            "epoch: 158, loss: 0.00013086745976313133\n",
            "epoch: 159, loss: 0.00012170269016650943\n",
            "epoch: 160, loss: 0.00011557271129203574\n",
            "epoch: 161, loss: 0.00011244769373459146\n",
            "epoch: 162, loss: 0.00011455664711816512\n",
            "epoch: 163, loss: 0.00012158010934335192\n",
            "epoch: 164, loss: 0.0001290083373165507\n",
            "epoch: 165, loss: 0.00013969168888463467\n",
            "epoch: 166, loss: 0.00014333835411026034\n",
            "epoch: 167, loss: 0.00015077573954216068\n",
            "epoch: 168, loss: 0.00015621938952579219\n",
            "epoch: 169, loss: 0.0001675465204326346\n",
            "epoch: 170, loss: 0.00018541220572043323\n",
            "epoch: 171, loss: 0.00021183972442697562\n",
            "epoch: 172, loss: 0.0002536090874129532\n",
            "epoch: 173, loss: 0.0003114102380068013\n",
            "epoch: 174, loss: 0.00038339111862950803\n",
            "epoch: 175, loss: 0.00044058102847691663\n",
            "epoch: 176, loss: 0.00041203769301364904\n",
            "epoch: 177, loss: 0.00029694294361241083\n",
            "epoch: 178, loss: 0.00020329021080297852\n",
            "epoch: 179, loss: 0.0001442113522962888\n",
            "epoch: 180, loss: 0.00011446454264943086\n",
            "epoch: 181, loss: 9.858615681198467e-05\n",
            "epoch: 182, loss: 8.908969267404337e-05\n",
            "epoch: 183, loss: 8.324572269949119e-05\n",
            "epoch: 184, loss: 8.07564940324216e-05\n",
            "epoch: 185, loss: 8.27275273974065e-05\n",
            "epoch: 186, loss: 9.125441011986028e-05\n",
            "epoch: 187, loss: 0.00010974592141976263\n",
            "epoch: 188, loss: 0.000145458178934345\n",
            "epoch: 189, loss: 0.00021010456856571973\n",
            "epoch: 190, loss: 0.0003047910355244404\n",
            "epoch: 191, loss: 0.0004044954076020113\n",
            "epoch: 192, loss: 0.00044049256003479123\n",
            "epoch: 193, loss: 0.0004057158991756039\n",
            "epoch: 194, loss: 0.000304559787902249\n",
            "epoch: 195, loss: 0.00022936935274996394\n",
            "epoch: 196, loss: 0.00015865252692152593\n",
            "epoch: 197, loss: 0.000128273058506771\n",
            "epoch: 198, loss: 0.00011656485510068917\n",
            "epoch: 199, loss: 0.00011580700256580703\n",
            "epoch: 200, loss: 0.00012015202309607911\n"
          ]
        }
      ],
      "source": [
        "num_epochs = 200\n",
        "# model.to(device)\n",
        "model.train()\n",
        "for epoch in range(num_epochs):\n",
        "  total_loss = 0\n",
        "  for X_batch, y_batch in loader_train:\n",
        "    # X, y = X.to(device), y.to(device)\n",
        "    out = model(X_batch)\n",
        "    loss = loss_fn(out, y_batch)\n",
        "\n",
        "    optimizer.zero_grad()\n",
        "    loss.backward()\n",
        "    optimizer.step()\n",
        "\n",
        "    total_loss += loss.item()\n",
        "    \n",
        "  epoch_loss = total_loss / len(loader_train)\n",
        "  print(f'epoch: {epoch+1}, loss: {epoch_loss}')"
      ]
    },
    {
      "cell_type": "code",
      "execution_count": 215,
      "metadata": {},
      "outputs": [],
      "source": [
        "model.eval()\n",
        "\n",
        "y_pred_list = []\n",
        "with torch.no_grad():\n",
        "  for X_batch, _ in loader_test:\n",
        "    y_pred = model(X_batch).numpy()\n",
        "    #y_pred = model(X_batch).cpu().numpy()\n",
        "    y_pred_list.append(y_pred)\n",
        "\n",
        "y_pred = np.concatenate(y_pred_list, axis=0)"
      ]
    },
    {
      "cell_type": "code",
      "execution_count": 216,
      "metadata": {},
      "outputs": [
        {
          "data": {
            "text/plain": [
              "[<matplotlib.lines.Line2D at 0x2bbc5b58b90>]"
            ]
          },
          "execution_count": 216,
          "metadata": {},
          "output_type": "execute_result"
        },
        {
          "data": {
            "image/png": "[encoded data removed]",
            "text/plain": [
              "<Figure size 640x480 with 1 Axes>"
            ]
          },
          "metadata": {},
          "output_type": "display_data"
        }
      ],
      "source": [
        "import matplotlib.pyplot as plt\n",
        "\n",
        "y_test_ori = scaler.inverse_transform(y_test)\n",
        "y_pred_ori = scaler.inverse_transform(y_pred)\n",
        "\n",
        "plt.xticks(rotation=45)\n",
        "plt.plot(df.index[train_size + seq_len:], y_test_ori)\n",
        "plt.plot(df.index[train_size + seq_len:], y_pred_ori)"
      ]
    },
    {
      "cell_type": "code",
      "execution_count": 217,
      "metadata": {},
      "outputs": [
        {
          "name": "stdout",
          "output_type": "stream",
          "text": [
            "MSE: 3.91065, RMSE: 1.97754, MAE: 1.56996, R2: 0.89831\n"
          ]
        }
      ],
      "source": [
        "from sklearn.metrics import mean_squared_error, mean_absolute_error, r2_score\n",
        "\n",
        "mse = mean_squared_error(y_test_ori, y_pred_ori)\n",
        "rmse = np.sqrt(mse)\n",
        "mae = mean_absolute_error(y_test_ori, y_pred_ori)\n",
        "r2 = r2_score(y_test_ori, y_pred_ori)\n",
        "\n",
        "print(f\"MSE: {mse:.5f}, RMSE: {rmse:.5f}, MAE: {mae:.5f}, R2: {r2:.5f}\")"
      ]
    }
  ],
  "metadata": {
    "colab": {
      "provenance": []
    },
    "kernelspec": {
      "display_name": "torch_book",
      "language": "python",
      "name": "python3"
    },
    "language_info": {
      "codemirror_mode": {
        "name": "ipython",
        "version": 3
      },
      "file_extension": ".py",
      "mimetype": "text/x-python",
      "name": "python",
      "nbconvert_exporter": "python",
      "pygments_lexer": "ipython3",
      "version": "3.12.7"
    }
  },
  "nbformat": 4,
  "nbformat_minor": 0
}
