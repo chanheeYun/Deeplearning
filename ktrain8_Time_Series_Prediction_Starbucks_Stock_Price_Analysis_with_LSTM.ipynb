{
  "cells": [
    {
      "cell_type": "markdown",
      "metadata": {
        "id": "G3KD7xHe2vNc"
      },
      "source": [
        "# 0. 자신이 사용하는 torch 버전과 GPU 사용 가능 여부를 확인하세요."
      ]
    },
    {
      "cell_type": "code",
      "execution_count": 1,
      "metadata": {
        "colab": {
          "base_uri": "https://localhost:8080/"
        },
        "id": "-Xgl77Km2t0F",
        "outputId": "5d569ce3-6533-4fd5-de43-ff726503e4f2"
      },
      "outputs": [
        {
          "data": {
            "text/plain": [
              "'2.5.1'"
            ]
          },
          "execution_count": 1,
          "metadata": {},
          "output_type": "execute_result"
        }
      ],
      "source": [
        "import torch\n",
        "import torch.nn as nn\n",
        "\n",
        "torch.__version__"
      ]
    },
    {
      "cell_type": "code",
      "execution_count": 2,
      "metadata": {
        "colab": {
          "base_uri": "https://localhost:8080/"
        },
        "id": "relTZHRB22m8",
        "outputId": "d781e123-964c-499e-c39c-48446b6b4265"
      },
      "outputs": [
        {
          "data": {
            "text/plain": [
              "True"
            ]
          },
          "execution_count": 2,
          "metadata": {},
          "output_type": "execute_result"
        }
      ],
      "source": [
        "torch.cuda.is_available()"
      ]
    },
    {
      "cell_type": "markdown",
      "metadata": {
        "id": "k5W6bnNp2MoG"
      },
      "source": [
        "# 1. input_size 가 1이고, hidden_size 10인 RNN 객체를 생성하시오. (1, 1, 1) 데이터를 torch.rand 로 생성 후, RNN 객체에 전달하여 출력값을 확인하시오. (데이터 값, shape)\n",
        "\n",
        "* RNN 객체 생성 시 batch 데이터의 위치를 고려하시오.\n",
        "* RNN 객체의 반환값 형태에 주의하시오. (공식 문서 참고)"
      ]
    },
    {
      "cell_type": "code",
      "execution_count": 3,
      "metadata": {
        "colab": {
          "base_uri": "https://localhost:8080/"
        },
        "id": "U8QwqpEW1MJJ",
        "outputId": "be6aee8f-19e2-48ed-91da-1e15d5220360"
      },
      "outputs": [
        {
          "name": "stdout",
          "output_type": "stream",
          "text": [
            "torch.Size([1, 1, 10]) torch.Size([1, 1, 10])\n"
          ]
        }
      ],
      "source": [
        "rnn = nn.RNN(input_size=1, hidden_size=10, batch_first=True)\n",
        "\n",
        "input = torch.rand(1, 1, 1)\n",
        "x11, x12 = rnn(input)\n",
        "print(x11.shape, x12.shape)"
      ]
    },
    {
      "cell_type": "code",
      "execution_count": 4,
      "metadata": {},
      "outputs": [
        {
          "data": {
            "text/plain": [
              "(tensor([[[ 0.1297,  0.1789,  0.1164, -0.5711, -0.0188,  0.0488,  0.2398,\n",
              "           -0.1469,  0.0020,  0.2210]]], grad_fn=<TransposeBackward1>),\n",
              " tensor([[[ 0.1297,  0.1789,  0.1164, -0.5711, -0.0188,  0.0488,  0.2398,\n",
              "           -0.1469,  0.0020,  0.2210]]], grad_fn=<StackBackward0>))"
            ]
          },
          "execution_count": 4,
          "metadata": {},
          "output_type": "execute_result"
        }
      ],
      "source": [
        "x11, x12"
      ]
    },
    {
      "cell_type": "markdown",
      "metadata": {
        "id": "phA0iH892-08"
      },
      "source": [
        "# 2. input_size 가 2이고, hidden_size 5인 RNN 객체를 생성하시오. (1, 1, 2) 데이터를 torch.rand 로 생성 후, RNN 객체에 전달하여 출력값을 확인하시오. (데이터 값, shape)"
      ]
    },
    {
      "cell_type": "code",
      "execution_count": 5,
      "metadata": {
        "colab": {
          "base_uri": "https://localhost:8080/"
        },
        "id": "J1gVN6B_3FVn",
        "outputId": "b0ff6e10-a3c7-480b-8417-b966d83933fc"
      },
      "outputs": [
        {
          "name": "stdout",
          "output_type": "stream",
          "text": [
            "torch.Size([1, 1, 5]) torch.Size([1, 1, 5])\n"
          ]
        }
      ],
      "source": [
        "rnn2 = nn.RNN(input_size=2, hidden_size=5, batch_first=True)\n",
        "input2 = torch.rand(1, 1, 2)\n",
        "x21, x22 = rnn2(input2)\n",
        "print(x21.shape, x22.shape)"
      ]
    },
    {
      "cell_type": "code",
      "execution_count": 6,
      "metadata": {
        "colab": {
          "base_uri": "https://localhost:8080/"
        },
        "id": "wdbFkU5C3G6y",
        "outputId": "d82c8f1b-05b1-422f-98be-819b0c2ee21f"
      },
      "outputs": [
        {
          "data": {
            "text/plain": [
              "(tensor([[[-0.4895,  0.1528, -0.0783,  0.1116, -0.4402]]],\n",
              "        grad_fn=<TransposeBackward1>),\n",
              " tensor([[[-0.4895,  0.1528, -0.0783,  0.1116, -0.4402]]],\n",
              "        grad_fn=<StackBackward0>))"
            ]
          },
          "execution_count": 6,
          "metadata": {},
          "output_type": "execute_result"
        }
      ],
      "source": [
        "x21, x22"
      ]
    },
    {
      "cell_type": "markdown",
      "metadata": {
        "id": "6o2cWJCV3MJA"
      },
      "source": [
        "# 3. input_size 가 1이고, hidden_size 10인 LSTM 객체를 생성하시오. (1, 1, 1) 데이터를 torch.rand 로 생성 후, LSTM 객체에 전달하여 출력값을 확인하시오. (데이터 값, shape)\n",
        "\n",
        "* LSTM 객체 생성 시 batch 데이터의 위치를 고려하시오.\n",
        "* LSTM 객체의 반환값 형태에 주의하시오. (공식 문서 참고)"
      ]
    },
    {
      "cell_type": "code",
      "execution_count": 7,
      "metadata": {
        "colab": {
          "base_uri": "https://localhost:8080/"
        },
        "id": "Evt9Y21z3Uh2",
        "outputId": "fe7754a7-43d2-4dd2-ea28-cb1ee1faa8b7"
      },
      "outputs": [
        {
          "data": {
            "text/plain": [
              "(torch.Size([1, 1, 10]), torch.Size([1, 1, 10]), torch.Size([1, 1, 10]))"
            ]
          },
          "execution_count": 7,
          "metadata": {},
          "output_type": "execute_result"
        }
      ],
      "source": [
        "lstm = nn.LSTM(input_size=1, hidden_size=10, batch_first=True)\n",
        "input3 = torch.rand(1, 1, 1)\n",
        "x31, (x32, x33) = lstm(input3)\n",
        "x31.shape, x32.shape, x33.shape"
      ]
    },
    {
      "cell_type": "code",
      "execution_count": 8,
      "metadata": {
        "colab": {
          "base_uri": "https://localhost:8080/"
        },
        "id": "ILCL-zca3V4N",
        "outputId": "3bb2681b-43f4-4a30-854b-208f238bf360"
      },
      "outputs": [
        {
          "data": {
            "text/plain": [
              "(tensor([[[ 0.0148, -0.0945, -0.0050, -0.0568,  0.0239, -0.1047, -0.0474,\n",
              "            0.0860,  0.0195,  0.0704]]], grad_fn=<TransposeBackward0>),\n",
              " tensor([[[ 0.0148, -0.0945, -0.0050, -0.0568,  0.0239, -0.1047, -0.0474,\n",
              "            0.0860,  0.0195,  0.0704]]], grad_fn=<StackBackward0>),\n",
              " tensor([[[ 0.0215, -0.2175, -0.0101, -0.1292,  0.0522, -0.1825, -0.1302,\n",
              "            0.1602,  0.0482,  0.1710]]], grad_fn=<StackBackward0>))"
            ]
          },
          "execution_count": 8,
          "metadata": {},
          "output_type": "execute_result"
        }
      ],
      "source": [
        "x31, x32, x33"
      ]
    },
    {
      "cell_type": "markdown",
      "metadata": {
        "id": "vqHj1xY73iLM"
      },
      "source": [
        "# 4. input_size 가 2이고, hidden_size 5인 LSTM 객체를 생성하시오. (1, 1, 2) 데이터를 torch.rand 로 생성 후, LSTM 객체에 전달하여 출력값을 확인하시오. (데이터 값, shape)"
      ]
    },
    {
      "cell_type": "code",
      "execution_count": 10,
      "metadata": {
        "colab": {
          "base_uri": "https://localhost:8080/"
        },
        "id": "TsYFH4D33Zj-",
        "outputId": "df36c195-03f3-450a-84d0-04e2f0796aba"
      },
      "outputs": [
        {
          "data": {
            "text/plain": [
              "(torch.Size([1, 1, 5]), torch.Size([1, 1, 5]), torch.Size([1, 1, 5]))"
            ]
          },
          "execution_count": 10,
          "metadata": {},
          "output_type": "execute_result"
        }
      ],
      "source": [
        "lstm2 = nn.LSTM(input_size=2, hidden_size=5, batch_first=True)\n",
        "input4 = torch.rand(1, 1, 2)\n",
        "x41, (x42, x43) = lstm2(input4)\n",
        "x41.shape, x42.shape, x43.shape"
      ]
    },
    {
      "cell_type": "code",
      "execution_count": 11,
      "metadata": {
        "colab": {
          "base_uri": "https://localhost:8080/"
        },
        "id": "-JfOzctd30Ga",
        "outputId": "fb722173-ab79-4a1e-d8de-ffbf7cb355a2"
      },
      "outputs": [
        {
          "data": {
            "text/plain": [
              "(tensor([[[-0.1167,  0.0402,  0.0456, -0.0900,  0.0537]]],\n",
              "        grad_fn=<TransposeBackward0>),\n",
              " tensor([[[-0.1167,  0.0402,  0.0456, -0.0900,  0.0537]]],\n",
              "        grad_fn=<StackBackward0>),\n",
              " tensor([[[-0.2676,  0.0856,  0.1146, -0.1394,  0.1196]]],\n",
              "        grad_fn=<StackBackward0>))"
            ]
          },
          "execution_count": 11,
          "metadata": {},
          "output_type": "execute_result"
        }
      ],
      "source": [
        "x41, x42, x43"
      ]
    },
    {
      "cell_type": "markdown",
      "metadata": {
        "id": "l-rxn_C933q8"
      },
      "source": [
        "# 5. input_size 가 1 이고 seq_len 이 30 인 입력 데이터를 torch.rand 로 생성하시오. 3번에서 생성한 LSTM 객체를 이용하여 LSTM 객체에 전달하여 출력값을 확인하시오 (shape)"
      ]
    },
    {
      "cell_type": "code",
      "execution_count": 12,
      "metadata": {
        "colab": {
          "base_uri": "https://localhost:8080/"
        },
        "id": "Vcfo8lBo31dh",
        "outputId": "1ceb73ae-1592-468a-ad75-0dcf462b0171"
      },
      "outputs": [
        {
          "data": {
            "text/plain": [
              "(torch.Size([1, 30, 10]), torch.Size([1, 1, 10]), torch.Size([1, 1, 10]))"
            ]
          },
          "execution_count": 12,
          "metadata": {},
          "output_type": "execute_result"
        }
      ],
      "source": [
        "input5 = torch.rand(1, 30, 1)\n",
        "x51, (x52, x53) = lstm(input5)\n",
        "x51.shape, x52.shape, x53.shape"
      ]
    },
    {
      "cell_type": "markdown",
      "metadata": {
        "id": "pUbbZ93i4lwM"
      },
      "source": [
        "# 6. input_size 가 2 이고 seq_len 이 60 인 입력 데이터를 torch.rand 로 생성하시오. 4번에서 생성한 LSTM 객체를 이용하여 LSTM 객체에 전달하여 출력값을 확인하시오 (shape)"
      ]
    },
    {
      "cell_type": "code",
      "execution_count": 13,
      "metadata": {
        "colab": {
          "base_uri": "https://localhost:8080/"
        },
        "id": "344ZjsEJ4jlV",
        "outputId": "07bdbfcd-9d9c-4368-bfa3-f03b059fabf0"
      },
      "outputs": [
        {
          "data": {
            "text/plain": [
              "(torch.Size([1, 60, 5]), torch.Size([1, 1, 5]), torch.Size([1, 1, 5]))"
            ]
          },
          "execution_count": 13,
          "metadata": {},
          "output_type": "execute_result"
        }
      ],
      "source": [
        "input6 = torch.rand(1, 60, 2)\n",
        "x61, (x62, x63) = lstm2(input6)\n",
        "x61.shape, x62.shape, x63.shape"
      ]
    },
    {
      "cell_type": "markdown",
      "metadata": {
        "id": "7_hSd57h45o_"
      },
      "source": [
        "# 7. 순환신경망에서 many-to-one 모델은 여러 개의 입력을 받아 하나의 값을 출력하는 구조이다.\n",
        "\n",
        "* 예를 들어, 스타벅스 주가를 예측하려고 할 때, **과거 30일의 주가 데이터**를 이용하여 **내일의 주가**를 예측하는 경우이다.\n",
        "\n",
        "* 예를 참고하여 이에 알맞은 입력 데이터와 LSTM 모델을 생성하고 출력값의 shape 을 확인하세요. (단, batch_size=32, hidden_size=10 이다.)"
      ]
    },
    {
      "cell_type": "code",
      "execution_count": 22,
      "metadata": {
        "colab": {
          "base_uri": "https://localhost:8080/"
        },
        "id": "cIU4G8Ek517S",
        "outputId": "68a18287-4513-483c-ac7f-eb06ac64cfe1"
      },
      "outputs": [
        {
          "data": {
            "text/plain": [
              "(torch.Size([32, 30, 10]), torch.Size([1, 32, 10]), torch.Size([1, 32, 10]))"
            ]
          },
          "execution_count": 22,
          "metadata": {},
          "output_type": "execute_result"
        }
      ],
      "source": [
        "lstm3 = nn.LSTM(input_size=1, hidden_size=10, batch_first=True)\n",
        "input7 = torch.rand(32, 30, 1)\n",
        "y, (h, c) = lstm3(input7)\n",
        "y.shape, h.shape, c.shape"
      ]
    },
    {
      "cell_type": "markdown",
      "metadata": {
        "id": "uTlLyM3172kz"
      },
      "source": [
        "# 8. 순환신경망에서 many-to-one 모델은 여러 개의 입력을 받아 하나의 값을 출력하는 구조이다.\n",
        "\n",
        "* 예를 들어, 스타벅스 주가를 예측하려고 할 때, **과거 30일의 주가와 거래량 데이터**를 이용하여 **내일의 주가**를 예측하는 경우이다.\n",
        "\n",
        "* 예를 참고하여 이에 알맞은 입력 데이터와 LSTM 모델을 생성하고 출력값의 shape 을 확인하세요. (단, batch_size=32, hidden_size=10 이다.)"
      ]
    },
    {
      "cell_type": "code",
      "execution_count": 27,
      "metadata": {
        "colab": {
          "base_uri": "https://localhost:8080/"
        },
        "id": "1AOz5_Ge6Ldz",
        "outputId": "cdf01344-9644-4c42-a738-9e86488fbaf6"
      },
      "outputs": [
        {
          "data": {
            "text/plain": [
              "(torch.Size([32, 30, 10]), torch.Size([1, 32, 10]), torch.Size([1, 32, 10]))"
            ]
          },
          "execution_count": 27,
          "metadata": {},
          "output_type": "execute_result"
        }
      ],
      "source": [
        "lstm4 = nn.LSTM(input_size=2, hidden_size=10, batch_first=True)\n",
        "input8 = torch.rand(32, 30, 2)\n",
        "y2, (h2, c2) = lstm4(input8)\n",
        "y2.shape, h2.shape, c2.shape"
      ]
    },
    {
      "cell_type": "markdown",
      "metadata": {
        "id": "KE7SMjEP8UUi"
      },
      "source": [
        "# 9. 8번의 출력에서 가장 마지막 출력값을 내일의 스타벅스 주가로 정했다. 해당 값을 출력하시오. (slicing 이용)"
      ]
    },
    {
      "cell_type": "code",
      "execution_count": 40,
      "metadata": {
        "colab": {
          "base_uri": "https://localhost:8080/"
        },
        "id": "aZKRZB4E8P-y",
        "outputId": "7f5eceef-1d42-4efb-fd06-c6178da5469c"
      },
      "outputs": [
        {
          "name": "stdout",
          "output_type": "stream",
          "text": [
            "torch.Size([32, 10])\n",
            "tensor([[ 0.3128,  0.0337, -0.0377, -0.3468, -0.0939, -0.3686,  0.0905, -0.2922,\n",
            "         -0.3438, -0.0755]], grad_fn=<SliceBackward0>)\n"
          ]
        }
      ],
      "source": [
        "c2 = c2.view(-1, 10)\n",
        "print(c2.shape)\n",
        "print(c2[-1:])"
      ]
    },
    {
      "cell_type": "markdown",
      "metadata": {
        "id": "1y54DIPz8rMm"
      },
      "source": [
        "# 10. 9번의 마지막 출력값의 모양이 1이 아니라 10이다. 이를 위해, Linear 레이어를 추가하여 마지막 출력이 (32, 1) 가 되도록 코드를 작성하시오.\n",
        "\n",
        "* 입력데이터 > LSTM > Linear > 출력데이터 순서로 코드를 작성하시오."
      ]
    },
    {
      "cell_type": "code",
      "execution_count": 41,
      "metadata": {
        "colab": {
          "base_uri": "https://localhost:8080/"
        },
        "id": "Gc3cWwgl8nEh",
        "outputId": "19afc49a-94de-4333-f9a4-4ba79c7b617d"
      },
      "outputs": [
        {
          "name": "stdout",
          "output_type": "stream",
          "text": [
            "torch.Size([32, 30, 10])\n",
            "torch.Size([32, 10])\n",
            "torch.Size([32, 1])\n"
          ]
        }
      ],
      "source": [
        "linear = nn.Linear(10, 1)\n",
        "print(y2.shape)\n",
        "print(c2.shape)\n",
        "out = linear(c2)\n",
        "print(out.shape)"
      ]
    },
    {
      "cell_type": "markdown",
      "metadata": {
        "id": "KLfUO0M49_gC"
      },
      "source": [
        "# 11. 10번에서 LSTM 객체와 Linear 객체를 nn.Sequential 로 하나로 묶어 model 변수에 저장해 보세요. 그런 다음 입력 데이터를 전달하여 출력을 확인해 보세요. 에러가 발생하면 가능한 방법을 고민하여 구현해 보세요. (hint: nn.Module)"
      ]
    },
    {
      "cell_type": "code",
      "execution_count": 151,
      "metadata": {
        "id": "gyUToyR79bi8"
      },
      "outputs": [],
      "source": [
        "class StockPrediction(nn.Module):\n",
        "  def __init__(self, input_size=1, hidden_size=10, output_size=1):\n",
        "    super(StockPrediction, self).__init__()\n",
        "    self.input_size = input_size\n",
        "    self.hidden_size = hidden_size\n",
        "    self.output_size = output_size\n",
        "    self.lstm = nn.LSTM(input_size, hidden_size, batch_first=True)\n",
        "    self.linear = nn.Linear(hidden_size, output_size)\n",
        "    # self.layer = nn.Sequential(\n",
        "    #                             lstm4,\n",
        "    #                             linear\n",
        "    #                           )\n",
        "  def forward(self, x):\n",
        "    y, (h, c) = self.lstm(x)\n",
        "    c = c.view(-1, self.hidden_size)\n",
        "    c = self.linear(c)\n",
        "    return c\n",
        "\n",
        "model = StockPrediction(input_size=2)"
      ]
    },
    {
      "cell_type": "code",
      "execution_count": 152,
      "metadata": {
        "colab": {
          "base_uri": "https://localhost:8080/"
        },
        "id": "r_ZfIIPt-kfo",
        "outputId": "910fc258-b8a8-409e-9fb9-d869e5174822"
      },
      "outputs": [
        {
          "data": {
            "text/plain": [
              "torch.Size([32, 1])"
            ]
          },
          "execution_count": 152,
          "metadata": {},
          "output_type": "execute_result"
        }
      ],
      "source": [
        "data = torch.rand(32, 30, 2)\n",
        "model(data).shape"
      ]
    },
    {
      "cell_type": "markdown",
      "metadata": {
        "id": "w-84SIT0-02o"
      },
      "source": [
        "# 12. yfinance 라이브러리를 이용하여 스타벅스(ticker=SUBX) 주가를 다운로드 합니다. 다음으로 Close 데이터만 data 변수에 저장한 후, type 과 shape 을 확인해 봅니다.\n",
        "\n",
        "* yfinance 데이터는 column 인덱스가 MultiIndex 입니다.\n",
        "\n",
        "```\n",
        "pip install yfinance\n",
        "```\n",
        "\n"
      ]
    },
    {
      "cell_type": "code",
      "execution_count": 45,
      "metadata": {},
      "outputs": [
        {
          "name": "stdout",
          "output_type": "stream",
          "text": [
            "Collecting yfinance\n",
            "  Downloading yfinance-0.2.51-py2.py3-none-any.whl.metadata (5.5 kB)\n",
            "Requirement already satisfied: pandas>=1.3.0 in c:\\devtool\\anaconda3\\envs\\torch_book\\lib\\site-packages (from yfinance) (2.2.3)\n",
            "Requirement already satisfied: numpy>=1.16.5 in c:\\devtool\\anaconda3\\envs\\torch_book\\lib\\site-packages (from yfinance) (2.0.1)\n",
            "Requirement already satisfied: requests>=2.31 in c:\\devtool\\anaconda3\\envs\\torch_book\\lib\\site-packages (from yfinance) (2.32.3)\n",
            "Collecting multitasking>=0.0.7 (from yfinance)\n",
            "  Using cached multitasking-0.0.11-py3-none-any.whl.metadata (5.5 kB)\n",
            "Requirement already satisfied: lxml>=4.9.1 in c:\\users\\user\\appdata\\roaming\\python\\python312\\site-packages (from yfinance) (5.3.0)\n",
            "Requirement already satisfied: platformdirs>=2.0.0 in c:\\users\\user\\appdata\\roaming\\python\\python312\\site-packages (from yfinance) (4.3.6)\n",
            "Requirement already satisfied: pytz>=2022.5 in c:\\devtool\\anaconda3\\envs\\torch_book\\lib\\site-packages (from yfinance) (2024.2)\n",
            "Collecting frozendict>=2.3.4 (from yfinance)\n",
            "  Downloading frozendict-2.4.6-py312-none-any.whl.metadata (23 kB)\n",
            "Collecting peewee>=3.16.2 (from yfinance)\n",
            "  Using cached peewee-3.17.8.tar.gz (948 kB)\n",
            "  Installing build dependencies: started\n",
            "  Installing build dependencies: finished with status 'done'\n",
            "  Getting requirements to build wheel: started\n",
            "  Getting requirements to build wheel: finished with status 'done'\n",
            "  Preparing metadata (pyproject.toml): started\n",
            "  Preparing metadata (pyproject.toml): finished with status 'done'\n",
            "Collecting beautifulsoup4>=4.11.1 (from yfinance)\n",
            "  Using cached beautifulsoup4-4.12.3-py3-none-any.whl.metadata (3.8 kB)\n",
            "Collecting html5lib>=1.1 (from yfinance)\n",
            "  Using cached html5lib-1.1-py2.py3-none-any.whl.metadata (16 kB)\n",
            "Collecting soupsieve>1.2 (from beautifulsoup4>=4.11.1->yfinance)\n",
            "  Using cached soupsieve-2.6-py3-none-any.whl.metadata (4.6 kB)\n",
            "Requirement already satisfied: six>=1.9 in c:\\users\\user\\appdata\\roaming\\python\\python312\\site-packages (from html5lib>=1.1->yfinance) (1.16.0)\n",
            "Collecting webencodings (from html5lib>=1.1->yfinance)\n",
            "  Downloading webencodings-0.5.1-py2.py3-none-any.whl.metadata (2.1 kB)\n",
            "Requirement already satisfied: python-dateutil>=2.8.2 in c:\\users\\user\\appdata\\roaming\\python\\python312\\site-packages (from pandas>=1.3.0->yfinance) (2.9.0.post0)\n",
            "Requirement already satisfied: tzdata>=2022.7 in c:\\devtool\\anaconda3\\envs\\torch_book\\lib\\site-packages (from pandas>=1.3.0->yfinance) (2024.2)\n",
            "Requirement already satisfied: charset-normalizer<4,>=2 in c:\\devtool\\anaconda3\\envs\\torch_book\\lib\\site-packages (from requests>=2.31->yfinance) (3.3.2)\n",
            "Requirement already satisfied: idna<4,>=2.5 in c:\\devtool\\anaconda3\\envs\\torch_book\\lib\\site-packages (from requests>=2.31->yfinance) (3.7)\n",
            "Requirement already satisfied: urllib3<3,>=1.21.1 in c:\\devtool\\anaconda3\\envs\\torch_book\\lib\\site-packages (from requests>=2.31->yfinance) (2.2.3)\n",
            "Requirement already satisfied: certifi>=2017.4.17 in c:\\devtool\\anaconda3\\envs\\torch_book\\lib\\site-packages (from requests>=2.31->yfinance) (2024.12.14)\n",
            "Downloading yfinance-0.2.51-py2.py3-none-any.whl (104 kB)\n",
            "Using cached beautifulsoup4-4.12.3-py3-none-any.whl (147 kB)\n",
            "Downloading frozendict-2.4.6-py312-none-any.whl (16 kB)\n",
            "Using cached html5lib-1.1-py2.py3-none-any.whl (112 kB)\n",
            "Using cached multitasking-0.0.11-py3-none-any.whl (8.5 kB)\n",
            "Using cached soupsieve-2.6-py3-none-any.whl (36 kB)\n",
            "Downloading webencodings-0.5.1-py2.py3-none-any.whl (11 kB)\n",
            "Building wheels for collected packages: peewee\n",
            "  Building wheel for peewee (pyproject.toml): started\n",
            "  Building wheel for peewee (pyproject.toml): finished with status 'done'\n",
            "  Created wheel for peewee: filename=peewee-3.17.8-py3-none-any.whl size=139012 sha256=a8c2a383427782c00c30497508b67478d5a32dcaf996206809062180f1d21ac6\n",
            "  Stored in directory: c:\\users\\user\\appdata\\local\\pip\\cache\\wheels\\8f\\65\\34\\456800445efeafb05164fe95285c70e81ba1d96bae30f43917\n",
            "Successfully built peewee\n",
            "Installing collected packages: webencodings, peewee, multitasking, soupsieve, html5lib, frozendict, beautifulsoup4, yfinance\n",
            "Successfully installed beautifulsoup4-4.12.3 frozendict-2.4.6 html5lib-1.1 multitasking-0.0.11 peewee-3.17.8 soupsieve-2.6 webencodings-0.5.1 yfinance-0.2.51\n",
            "Note: you may need to restart the kernel to use updated packages.\n"
          ]
        }
      ],
      "source": [
        "# pip install yfinance"
      ]
    },
    {
      "cell_type": "code",
      "execution_count": 231,
      "metadata": {
        "colab": {
          "base_uri": "https://localhost:8080/"
        },
        "id": "-gO1qQfo-rX0",
        "outputId": "b61aa8ff-ed4d-4648-fad0-bda370ae41ff"
      },
      "outputs": [
        {
          "name": "stderr",
          "output_type": "stream",
          "text": [
            "[*********************100%***********************]  1 of 1 completed\n"
          ]
        }
      ],
      "source": [
        "import yfinance as yf\n",
        "\n",
        "ticker_symbol = \"SBUX\"\n",
        "df = yf.download(ticker_symbol, start=\"2010-01-01\", end=\"2023-12-31\")"
      ]
    },
    {
      "cell_type": "code",
      "execution_count": 232,
      "metadata": {
        "colab": {
          "base_uri": "https://localhost:8080/"
        },
        "id": "BmcPg-gCAdkF",
        "outputId": "be959923-bd7b-4434-c9e3-ea271ffd465f"
      },
      "outputs": [
        {
          "data": {
            "text/plain": [
              "MultiIndex([( 'Close', 'SBUX'),\n",
              "            (  'High', 'SBUX'),\n",
              "            (   'Low', 'SBUX'),\n",
              "            (  'Open', 'SBUX'),\n",
              "            ('Volume', 'SBUX')],\n",
              "           names=['Price', 'Ticker'])"
            ]
          },
          "execution_count": 232,
          "metadata": {},
          "output_type": "execute_result"
        }
      ],
      "source": [
        "df.columns"
      ]
    },
    {
      "cell_type": "code",
      "execution_count": 233,
      "metadata": {
        "id": "_t3h8ydjTMJm"
      },
      "outputs": [
        {
          "data": {
            "text/html": [
              "<div>\n",
              "<style scoped>\n",
              "    .dataframe tbody tr th:only-of-type {\n",
              "        vertical-align: middle;\n",
              "    }\n",
              "\n",
              "    .dataframe tbody tr th {\n",
              "        vertical-align: top;\n",
              "    }\n",
              "\n",
              "    .dataframe thead tr th {\n",
              "        text-align: left;\n",
              "    }\n",
              "\n",
              "    .dataframe thead tr:last-of-type th {\n",
              "        text-align: right;\n",
              "    }\n",
              "</style>\n",
              "<table border=\"1\" class=\"dataframe\">\n",
              "  <thead>\n",
              "    <tr>\n",
              "      <th>Price</th>\n",
              "      <th>Close</th>\n",
              "      <th>High</th>\n",
              "      <th>Low</th>\n",
              "      <th>Open</th>\n",
              "      <th>Volume</th>\n",
              "    </tr>\n",
              "    <tr>\n",
              "      <th>Ticker</th>\n",
              "      <th>SBUX</th>\n",
              "      <th>SBUX</th>\n",
              "      <th>SBUX</th>\n",
              "      <th>SBUX</th>\n",
              "      <th>SBUX</th>\n",
              "    </tr>\n",
              "    <tr>\n",
              "      <th>Date</th>\n",
              "      <th></th>\n",
              "      <th></th>\n",
              "      <th></th>\n",
              "      <th></th>\n",
              "      <th></th>\n",
              "    </tr>\n",
              "  </thead>\n",
              "  <tbody>\n",
              "    <tr>\n",
              "      <th>2010-01-04</th>\n",
              "      <td>8.890195</td>\n",
              "      <td>8.998189</td>\n",
              "      <td>8.836198</td>\n",
              "      <td>8.994332</td>\n",
              "      <td>16370000</td>\n",
              "    </tr>\n",
              "    <tr>\n",
              "      <th>2010-01-05</th>\n",
              "      <td>9.098473</td>\n",
              "      <td>9.256606</td>\n",
              "      <td>8.828488</td>\n",
              "      <td>8.855486</td>\n",
              "      <td>30058800</td>\n",
              "    </tr>\n",
              "    <tr>\n",
              "      <th>2010-01-06</th>\n",
              "      <td>9.032899</td>\n",
              "      <td>9.110038</td>\n",
              "      <td>8.971188</td>\n",
              "      <td>9.056040</td>\n",
              "      <td>14209600</td>\n",
              "    </tr>\n",
              "    <tr>\n",
              "      <th>2010-01-07</th>\n",
              "      <td>9.009760</td>\n",
              "      <td>9.075328</td>\n",
              "      <td>8.944192</td>\n",
              "      <td>8.978905</td>\n",
              "      <td>10256000</td>\n",
              "    </tr>\n",
              "    <tr>\n",
              "      <th>2010-01-08</th>\n",
              "      <td>8.978906</td>\n",
              "      <td>9.102327</td>\n",
              "      <td>8.944193</td>\n",
              "      <td>8.948050</td>\n",
              "      <td>10274800</td>\n",
              "    </tr>\n",
              "  </tbody>\n",
              "</table>\n",
              "</div>"
            ],
            "text/plain": [
              "Price          Close      High       Low      Open    Volume\n",
              "Ticker          SBUX      SBUX      SBUX      SBUX      SBUX\n",
              "Date                                                        \n",
              "2010-01-04  8.890195  8.998189  8.836198  8.994332  16370000\n",
              "2010-01-05  9.098473  9.256606  8.828488  8.855486  30058800\n",
              "2010-01-06  9.032899  9.110038  8.971188  9.056040  14209600\n",
              "2010-01-07  9.009760  9.075328  8.944192  8.978905  10256000\n",
              "2010-01-08  8.978906  9.102327  8.944193  8.948050  10274800"
            ]
          },
          "execution_count": 233,
          "metadata": {},
          "output_type": "execute_result"
        }
      ],
      "source": [
        "df.head()"
      ]
    },
    {
      "cell_type": "code",
      "execution_count": 234,
      "metadata": {},
      "outputs": [
        {
          "data": {
            "text/plain": [
              "Date\n",
              "2010-01-04     8.890195\n",
              "2010-01-05     9.098473\n",
              "2010-01-06     9.032899\n",
              "2010-01-07     9.009760\n",
              "2010-01-08     8.978906\n",
              "                ...    \n",
              "2023-12-22    93.432343\n",
              "2023-12-26    93.814774\n",
              "2023-12-27    93.442146\n",
              "2023-12-28    94.069740\n",
              "2023-12-29    94.148186\n",
              "Name: (Close, SBUX), Length: 3522, dtype: float64"
            ]
          },
          "execution_count": 234,
          "metadata": {},
          "output_type": "execute_result"
        }
      ],
      "source": [
        "df[( 'Close', 'SBUX')]"
      ]
    },
    {
      "cell_type": "code",
      "execution_count": 235,
      "metadata": {},
      "outputs": [],
      "source": [
        "df.columns = ['Close', 'High', 'Low', 'Open', 'Volume']"
      ]
    },
    {
      "cell_type": "code",
      "execution_count": 236,
      "metadata": {},
      "outputs": [
        {
          "data": {
            "text/html": [
              "<div>\n",
              "<style scoped>\n",
              "    .dataframe tbody tr th:only-of-type {\n",
              "        vertical-align: middle;\n",
              "    }\n",
              "\n",
              "    .dataframe tbody tr th {\n",
              "        vertical-align: top;\n",
              "    }\n",
              "\n",
              "    .dataframe thead th {\n",
              "        text-align: right;\n",
              "    }\n",
              "</style>\n",
              "<table border=\"1\" class=\"dataframe\">\n",
              "  <thead>\n",
              "    <tr style=\"text-align: right;\">\n",
              "      <th></th>\n",
              "      <th>Close</th>\n",
              "      <th>High</th>\n",
              "      <th>Low</th>\n",
              "      <th>Open</th>\n",
              "      <th>Volume</th>\n",
              "    </tr>\n",
              "    <tr>\n",
              "      <th>Date</th>\n",
              "      <th></th>\n",
              "      <th></th>\n",
              "      <th></th>\n",
              "      <th></th>\n",
              "      <th></th>\n",
              "    </tr>\n",
              "  </thead>\n",
              "  <tbody>\n",
              "    <tr>\n",
              "      <th>2010-01-04</th>\n",
              "      <td>8.890195</td>\n",
              "      <td>8.998189</td>\n",
              "      <td>8.836198</td>\n",
              "      <td>8.994332</td>\n",
              "      <td>16370000</td>\n",
              "    </tr>\n",
              "    <tr>\n",
              "      <th>2010-01-05</th>\n",
              "      <td>9.098473</td>\n",
              "      <td>9.256606</td>\n",
              "      <td>8.828488</td>\n",
              "      <td>8.855486</td>\n",
              "      <td>30058800</td>\n",
              "    </tr>\n",
              "    <tr>\n",
              "      <th>2010-01-06</th>\n",
              "      <td>9.032899</td>\n",
              "      <td>9.110038</td>\n",
              "      <td>8.971188</td>\n",
              "      <td>9.056040</td>\n",
              "      <td>14209600</td>\n",
              "    </tr>\n",
              "    <tr>\n",
              "      <th>2010-01-07</th>\n",
              "      <td>9.009760</td>\n",
              "      <td>9.075328</td>\n",
              "      <td>8.944192</td>\n",
              "      <td>8.978905</td>\n",
              "      <td>10256000</td>\n",
              "    </tr>\n",
              "    <tr>\n",
              "      <th>2010-01-08</th>\n",
              "      <td>8.978906</td>\n",
              "      <td>9.102327</td>\n",
              "      <td>8.944193</td>\n",
              "      <td>8.948050</td>\n",
              "      <td>10274800</td>\n",
              "    </tr>\n",
              "  </tbody>\n",
              "</table>\n",
              "</div>"
            ],
            "text/plain": [
              "               Close      High       Low      Open    Volume\n",
              "Date                                                        \n",
              "2010-01-04  8.890195  8.998189  8.836198  8.994332  16370000\n",
              "2010-01-05  9.098473  9.256606  8.828488  8.855486  30058800\n",
              "2010-01-06  9.032899  9.110038  8.971188  9.056040  14209600\n",
              "2010-01-07  9.009760  9.075328  8.944192  8.978905  10256000\n",
              "2010-01-08  8.978906  9.102327  8.944193  8.948050  10274800"
            ]
          },
          "execution_count": 236,
          "metadata": {},
          "output_type": "execute_result"
        }
      ],
      "source": [
        "df.head()"
      ]
    },
    {
      "cell_type": "code",
      "execution_count": 237,
      "metadata": {},
      "outputs": [
        {
          "data": {
            "text/plain": [
              "(30,)"
            ]
          },
          "execution_count": 237,
          "metadata": {},
          "output_type": "execute_result"
        }
      ],
      "source": [
        "df['Close'].iloc[:30].shape"
      ]
    },
    {
      "cell_type": "code",
      "execution_count": 238,
      "metadata": {},
      "outputs": [
        {
          "data": {
            "text/plain": [
              "np.float64(8.928765296936035)"
            ]
          },
          "execution_count": 238,
          "metadata": {},
          "output_type": "execute_result"
        }
      ],
      "source": [
        "df['Close'].iloc[30]"
      ]
    },
    {
      "cell_type": "code",
      "execution_count": 239,
      "metadata": {},
      "outputs": [],
      "source": [
        "data = df['Close']"
      ]
    },
    {
      "cell_type": "code",
      "execution_count": 240,
      "metadata": {
        "colab": {
          "base_uri": "https://localhost:8080/"
        },
        "id": "MVMR4xgk_R66",
        "outputId": "68b154d8-33e4-4e5d-a299-c2cd378a0b2a"
      },
      "outputs": [
        {
          "data": {
            "text/plain": [
              "(pandas.core.series.Series, (3522,))"
            ]
          },
          "execution_count": 240,
          "metadata": {},
          "output_type": "execute_result"
        }
      ],
      "source": [
        "type(data), data.shape"
      ]
    },
    {
      "cell_type": "markdown",
      "metadata": {
        "id": "G5Lo-DFL_xEe"
      },
      "source": [
        "# 13. seq_len=30 을 고려하여 X, y dataset 을 생성하는 코드를 작성하세요. 이때, X 는 3d, y 는 2d 로 shape 을 조정해 주세요 (hint: reshape)"
      ]
    },
    {
      "cell_type": "code",
      "execution_count": 241,
      "metadata": {},
      "outputs": [
        {
          "data": {
            "text/plain": [
              "(numpy.ndarray, (3522,))"
            ]
          },
          "execution_count": 241,
          "metadata": {},
          "output_type": "execute_result"
        }
      ],
      "source": [
        "import numpy as np\n",
        "\n",
        "data_np = data.values\n",
        "type(data_np), data_np.shape"
      ]
    },
    {
      "cell_type": "code",
      "execution_count": 242,
      "metadata": {},
      "outputs": [
        {
          "data": {
            "text/plain": [
              "((30,), np.float64(8.928765296936035))"
            ]
          },
          "execution_count": 242,
          "metadata": {},
          "output_type": "execute_result"
        }
      ],
      "source": [
        "seq_len = 30\n",
        "data_np[0:0+seq_len].shape, data_np[0+seq_len]"
      ]
    },
    {
      "cell_type": "code",
      "execution_count": 243,
      "metadata": {},
      "outputs": [
        {
          "data": {
            "text/plain": [
              "((30,), np.float64(8.971187591552734))"
            ]
          },
          "execution_count": 243,
          "metadata": {},
          "output_type": "execute_result"
        }
      ],
      "source": [
        "data_np[1:1+seq_len].shape, data_np[1+seq_len]"
      ]
    },
    {
      "cell_type": "code",
      "execution_count": 244,
      "metadata": {},
      "outputs": [
        {
          "data": {
            "text/plain": [
              "((30,), np.float64(9.009759902954102))"
            ]
          },
          "execution_count": 244,
          "metadata": {},
          "output_type": "execute_result"
        }
      ],
      "source": [
        "data_np[2:2+seq_len].shape, data_np[2+seq_len]"
      ]
    },
    {
      "cell_type": "code",
      "execution_count": 245,
      "metadata": {
        "id": "l8wWed18_lxe"
      },
      "outputs": [],
      "source": [
        "seq_len = 30\n",
        "\n",
        "i = 0\n",
        "X, y = [], []\n",
        "for i in range(len(data_np)-(seq_len)):\n",
        "  X.append(data_np[i:i+seq_len]) \n",
        "  y.append(data_np[i+seq_len])\n",
        "\n",
        "X = np.array(X).reshape(-1, seq_len, 1)\n",
        "y = np.array(y).reshape(-1, 1)"
      ]
    },
    {
      "cell_type": "code",
      "execution_count": 246,
      "metadata": {
        "colab": {
          "base_uri": "https://localhost:8080/"
        },
        "id": "hDPEyBtsBCkp",
        "outputId": "148ac337-7b68-493a-c56c-0c39e90624d6"
      },
      "outputs": [
        {
          "data": {
            "text/plain": [
              "(numpy.ndarray, numpy.ndarray, (3492, 30, 1), (3492, 1))"
            ]
          },
          "execution_count": 246,
          "metadata": {},
          "output_type": "execute_result"
        }
      ],
      "source": [
        "type(X), type(y), X.shape, y.shape"
      ]
    },
    {
      "cell_type": "markdown",
      "metadata": {
        "id": "x3klCQcKB8XM"
      },
      "source": [
        "# 14. 13번에서 생성한 데이터셋을 이용하여 DataLoder 객체를 생성하고, 11번을 참고하여 데이터에 알맞은 모델을 생성합니다 (hidden_size=10)."
      ]
    },
    {
      "cell_type": "code",
      "execution_count": 223,
      "metadata": {
        "id": "P9-OG9IBC8Bi"
      },
      "outputs": [],
      "source": [
        "from torch.utils.data import DataLoader, TensorDataset\n",
        "\n",
        "X_data, y_data = torch.tensor(X).float(), torch.tensor(y).float()\n",
        "loader_train = DataLoader(TensorDataset(X_data, y_data), batch_size=32, shuffle=True)"
      ]
    },
    {
      "cell_type": "code",
      "execution_count": 224,
      "metadata": {
        "id": "GtkCQEHfBdjU"
      },
      "outputs": [],
      "source": [
        "class StockPrediction2(nn.Module):\n",
        "  def __init__(self, input_size=1, hidden_size=10, output_size=1):\n",
        "    super(StockPrediction2, self).__init__()\n",
        "    self.input_size = input_size\n",
        "    self.hidden_size = hidden_size\n",
        "    self.output_size = output_size\n",
        "    self.lstm = nn.LSTM(input_size, hidden_size, batch_first=True)\n",
        "    self.linear = nn.Linear(hidden_size, output_size)\n",
        "\n",
        "\n",
        "  def forward(self, x):\n",
        "    ys, (h, c) = self.lstm(x)\n",
        "    c = c.view(-1, self.hidden_size)\n",
        "    c = self.linear(c)\n",
        "    return c\n",
        "\n",
        "model = StockPrediction2()"
      ]
    },
    {
      "cell_type": "code",
      "execution_count": 225,
      "metadata": {
        "colab": {
          "base_uri": "https://localhost:8080/"
        },
        "id": "wsl9DgoAC6mY",
        "outputId": "9e19354d-ca3c-46b4-d2fb-6ac21b91363b"
      },
      "outputs": [
        {
          "name": "stdout",
          "output_type": "stream",
          "text": [
            "torch.Size([32, 1])\n"
          ]
        }
      ],
      "source": [
        "for I, label in loader_train:\n",
        "  print(model(I).shape)\n",
        "  break"
      ]
    },
    {
      "cell_type": "markdown",
      "metadata": {
        "id": "ScfzF-AyFFqN"
      },
      "source": [
        "# 15. 모델을 훈련하기 위한 train loop 를 작성하여 모델을 훈련시킵니다. loop 가 한 번만 성공적으로 동작하도록 해 보세요.\n",
        "\n",
        "* Loss: nn.MSELoss\n",
        "* Optimizer: optim.Adam"
      ]
    },
    {
      "cell_type": "code",
      "execution_count": 226,
      "metadata": {
        "id": "tWna3nxoExjq"
      },
      "outputs": [],
      "source": [
        "import torch.optim as optim\n",
        "\n",
        "loss_fn = nn.MSELoss()\n",
        "optimizer = optim.Adam(model.parameters())"
      ]
    },
    {
      "cell_type": "code",
      "execution_count": 227,
      "metadata": {},
      "outputs": [],
      "source": [
        "device = torch.device(\"cuda\" if torch.cuda.is_available() else \"cpu\")"
      ]
    },
    {
      "cell_type": "code",
      "execution_count": 228,
      "metadata": {},
      "outputs": [
        {
          "name": "stdout",
          "output_type": "stream",
          "text": [
            "Epoch [1/1], Loss: 103.6763\n"
          ]
        }
      ],
      "source": [
        "num_epochs = 1\n",
        "loss_history = []\n",
        "# model.to(device)\n",
        "model.train()\n",
        "for epoch in range(num_epochs):\n",
        "    running_loss = 0.0\n",
        "    for X_batch, y_batch in loader_train:\n",
        "        # X, y = X.to(device), y.to(device)\n",
        "\n",
        "        out = model(X_batch)\n",
        "        loss = loss_fn(out, y_batch)\n",
        "\n",
        "        optimizer.zero_grad()\n",
        "        loss.backward()\n",
        "        optimizer.step()\n",
        "\n",
        "        running_loss += loss.item()\n",
        "\n",
        "    loss_history.append(running_loss / len(loader_train.dataset))\n",
        "    print(f\"Epoch [{epoch+1}/{num_epochs}], Loss: {running_loss / len(loader_train.dataset):.4f}\")"
      ]
    },
    {
      "cell_type": "markdown",
      "metadata": {
        "id": "AUJmZw0MHD6V"
      },
      "source": [
        "# 16. epochs=200 으로 모델을 훈련시킵니다. 한 번의 epoch 마다 loss 값을 출력합니다.\n",
        "\n",
        "* GPU 를 사용할 수 있으면 적극 활용하세요."
      ]
    },
    {
      "cell_type": "code",
      "execution_count": 229,
      "metadata": {
        "colab": {
          "base_uri": "https://localhost:8080/"
        },
        "id": "911aXU5AGw8h",
        "outputId": "28ac2899-7964-4471-95de-63a3d65480f8"
      },
      "outputs": [
        {
          "name": "stdout",
          "output_type": "stream",
          "text": [
            "epoch: 0, loss: 659.7974960153753\n",
            "epoch: 1, loss: 86.19139287255027\n",
            "epoch: 2, loss: 34.32301324931058\n",
            "epoch: 3, loss: 19.26939403509552\n",
            "epoch: 4, loss: 13.420290787653489\n",
            "epoch: 5, loss: 10.755320637876338\n",
            "epoch: 6, loss: 8.632225564934991\n",
            "epoch: 7, loss: 7.623715413700451\n",
            "epoch: 8, loss: 6.9237746685743335\n",
            "epoch: 9, loss: 6.5129669991406525\n",
            "epoch: 10, loss: 6.353243212266402\n",
            "epoch: 11, loss: 6.249084844372489\n",
            "epoch: 12, loss: 6.092526272210208\n",
            "epoch: 13, loss: 5.838873555849899\n",
            "epoch: 14, loss: 5.477017525109377\n",
            "epoch: 15, loss: 5.450995388897982\n",
            "epoch: 16, loss: 5.5891027786514975\n",
            "epoch: 17, loss: 5.3738040896979244\n",
            "epoch: 18, loss: 5.498245384476402\n",
            "epoch: 19, loss: 5.24437869570472\n",
            "epoch: 20, loss: 4.922806641188535\n",
            "epoch: 21, loss: 5.1585553792389955\n",
            "epoch: 22, loss: 4.8119585633277895\n",
            "epoch: 23, loss: 4.8015685699202795\n",
            "epoch: 24, loss: 4.811999665065245\n",
            "epoch: 25, loss: 4.773292101513256\n",
            "epoch: 26, loss: 4.800562386079268\n",
            "epoch: 27, loss: 4.572852246327834\n",
            "epoch: 28, loss: 4.580244093591516\n",
            "epoch: 29, loss: 4.693142236362804\n",
            "epoch: 30, loss: 4.507287644256245\n",
            "epoch: 31, loss: 4.348758254267953\n",
            "epoch: 32, loss: 4.588660495931452\n",
            "epoch: 33, loss: 4.494955858317288\n",
            "epoch: 34, loss: 4.439305732466957\n",
            "epoch: 35, loss: 4.635761958902532\n",
            "epoch: 36, loss: 4.631421179121191\n",
            "epoch: 37, loss: 4.303969687223434\n",
            "epoch: 38, loss: 4.1899122108112685\n",
            "epoch: 39, loss: 4.123494802821766\n",
            "epoch: 40, loss: 4.265584826469421\n",
            "epoch: 41, loss: 4.231121440367265\n",
            "epoch: 42, loss: 4.339719080383127\n",
            "epoch: 43, loss: 4.192633155259219\n",
            "epoch: 44, loss: 4.218552983890881\n",
            "epoch: 45, loss: 4.112750855359164\n",
            "epoch: 46, loss: 4.1548379518769005\n",
            "epoch: 47, loss: 4.246898957816037\n",
            "epoch: 48, loss: 4.067126088250767\n",
            "epoch: 49, loss: 4.186765383183956\n",
            "epoch: 50, loss: 4.129580185088244\n",
            "epoch: 51, loss: 4.294698029214685\n",
            "epoch: 52, loss: 3.917371501164003\n",
            "epoch: 53, loss: 4.084228878671473\n",
            "epoch: 54, loss: 3.921404275569049\n",
            "epoch: 55, loss: 4.085901745341041\n",
            "epoch: 56, loss: 3.887188445438038\n",
            "epoch: 57, loss: 3.786430257016962\n",
            "epoch: 58, loss: 3.9142617453228343\n",
            "epoch: 59, loss: 4.079090107029135\n",
            "epoch: 60, loss: 4.143731957132166\n",
            "epoch: 61, loss: 3.9566893534226852\n",
            "epoch: 62, loss: 3.876912101832303\n",
            "epoch: 63, loss: 3.735003999688409\n",
            "epoch: 64, loss: 3.7728077032349328\n",
            "epoch: 65, loss: 3.819690236720172\n",
            "epoch: 66, loss: 4.058470651236448\n",
            "epoch: 67, loss: 4.056728240576658\n",
            "epoch: 68, loss: 3.8155043905431576\n",
            "epoch: 69, loss: 3.963411841609261\n",
            "epoch: 70, loss: 3.508939895033836\n",
            "epoch: 71, loss: 3.8088264161890204\n",
            "epoch: 72, loss: 3.7595732417973604\n",
            "epoch: 73, loss: 3.792223285545002\n",
            "epoch: 74, loss: 3.994837112860246\n",
            "epoch: 75, loss: 3.6089005489240993\n",
            "epoch: 76, loss: 3.738266722722487\n",
            "epoch: 77, loss: 3.7894877325404774\n",
            "epoch: 78, loss: 3.7588021305474366\n",
            "epoch: 79, loss: 3.624189471927556\n",
            "epoch: 80, loss: 3.52194394198331\n",
            "epoch: 81, loss: 3.5939348283139143\n",
            "epoch: 82, loss: 3.735441919890317\n",
            "epoch: 83, loss: 3.6311181971972637\n",
            "epoch: 84, loss: 3.4601840832016686\n",
            "epoch: 85, loss: 3.496805529160933\n",
            "epoch: 86, loss: 3.5463994630358435\n",
            "epoch: 87, loss: 3.5347608718005095\n",
            "epoch: 88, loss: 3.412023183026097\n",
            "epoch: 89, loss: 3.6126028028401462\n",
            "epoch: 90, loss: 3.358510609106584\n",
            "epoch: 91, loss: 3.352981675754894\n",
            "epoch: 92, loss: 3.641716144301675\n",
            "epoch: 93, loss: 3.490043193101883\n",
            "epoch: 94, loss: 3.7299315111203626\n",
            "epoch: 95, loss: 3.6458162708715958\n",
            "epoch: 96, loss: 3.5094079700383274\n",
            "epoch: 97, loss: 3.5498982575806703\n",
            "epoch: 98, loss: 3.66594744162126\n",
            "epoch: 99, loss: 3.481396589224989\n",
            "epoch: 100, loss: 3.527601821856065\n",
            "epoch: 101, loss: 3.463922934369607\n",
            "epoch: 102, loss: 3.542427712137049\n",
            "epoch: 103, loss: 3.5453535741025752\n",
            "epoch: 104, loss: 3.306322604417801\n",
            "epoch: 105, loss: 3.3358527121218766\n",
            "epoch: 106, loss: 3.3711367428302763\n",
            "epoch: 107, loss: 3.208858040787957\n",
            "epoch: 108, loss: 3.2437083553184163\n",
            "epoch: 109, loss: 3.4615782412615688\n",
            "epoch: 110, loss: 3.191206947781823\n",
            "epoch: 111, loss: 3.1333578293296425\n",
            "epoch: 112, loss: 3.3565176145596936\n",
            "epoch: 113, loss: 3.5081413224339486\n",
            "epoch: 114, loss: 3.3630217107859526\n",
            "epoch: 115, loss: 3.424032386866483\n",
            "epoch: 116, loss: 3.4041354114359077\n",
            "epoch: 117, loss: 3.483832079713995\n",
            "epoch: 118, loss: 3.280266839807684\n",
            "epoch: 119, loss: 3.3055409333922645\n",
            "epoch: 120, loss: 3.3826769281517377\n",
            "epoch: 121, loss: 3.3253300460902127\n",
            "epoch: 122, loss: 3.43028645678\n",
            "epoch: 123, loss: 3.3418495698408646\n",
            "epoch: 124, loss: 3.278188233483921\n",
            "epoch: 125, loss: 3.031051238558509\n",
            "epoch: 126, loss: 3.1768838904120704\n",
            "epoch: 127, loss: 3.1421770897778596\n",
            "epoch: 128, loss: 3.699644003673033\n",
            "epoch: 129, loss: 3.1183428515087472\n",
            "epoch: 130, loss: 3.1248635503378783\n",
            "epoch: 131, loss: 2.909348812970248\n",
            "epoch: 132, loss: 3.055804664438421\n",
            "epoch: 133, loss: 3.0037286129864778\n",
            "epoch: 134, loss: 3.081558802994815\n",
            "epoch: 135, loss: 3.0341759887608615\n",
            "epoch: 136, loss: 2.9041182230819356\n",
            "epoch: 137, loss: 2.9588531098582527\n",
            "epoch: 138, loss: 2.8971997358582238\n",
            "epoch: 139, loss: 2.8437875281680713\n",
            "epoch: 140, loss: 2.7987100261178885\n",
            "epoch: 141, loss: 2.768281682783907\n",
            "epoch: 142, loss: 2.9543170658024875\n",
            "epoch: 143, loss: 2.809002684463154\n",
            "epoch: 144, loss: 2.8336541744795714\n",
            "epoch: 145, loss: 2.6678543881936507\n",
            "epoch: 146, loss: 2.9113145790316843\n",
            "epoch: 147, loss: 2.6409167110919953\n",
            "epoch: 148, loss: 3.357286817919124\n",
            "epoch: 149, loss: 2.7451590933583\n",
            "epoch: 150, loss: 2.913239538669586\n",
            "epoch: 151, loss: 2.883016333254901\n",
            "epoch: 152, loss: 2.860438013076782\n",
            "epoch: 153, loss: 3.021079177477143\n",
            "epoch: 154, loss: 2.871798897873272\n",
            "epoch: 155, loss: 2.8131373795596035\n",
            "epoch: 156, loss: 2.7638921255415134\n",
            "epoch: 157, loss: 2.6115541420199655\n",
            "epoch: 158, loss: 2.7267365634441374\n",
            "epoch: 159, loss: 2.834266433390704\n",
            "epoch: 160, loss: 2.5872788060795178\n",
            "epoch: 161, loss: 2.7098165761340747\n",
            "epoch: 162, loss: 2.7610872851176693\n",
            "epoch: 163, loss: 2.621555104038932\n",
            "epoch: 164, loss: 2.5424409167333084\n",
            "epoch: 165, loss: 2.520993573557247\n",
            "epoch: 166, loss: 2.476934460347349\n",
            "epoch: 167, loss: 2.5503706189719115\n",
            "epoch: 168, loss: 2.455185003714128\n",
            "epoch: 169, loss: 2.578616246310147\n",
            "epoch: 170, loss: 2.540539677305655\n",
            "epoch: 171, loss: 2.7872102759101174\n",
            "epoch: 172, loss: 2.66608625812964\n",
            "epoch: 173, loss: 2.533523548462174\n",
            "epoch: 174, loss: 2.420139515941793\n",
            "epoch: 175, loss: 2.391870901259509\n",
            "epoch: 176, loss: 2.3244462327523663\n",
            "epoch: 177, loss: 2.4094099204648627\n",
            "epoch: 178, loss: 2.3512141888791867\n",
            "epoch: 179, loss: 2.306151245669885\n",
            "epoch: 180, loss: 2.484136310490695\n",
            "epoch: 181, loss: 2.3210677087306975\n",
            "epoch: 182, loss: 2.3679382882334967\n",
            "epoch: 183, loss: 2.571858321536671\n",
            "epoch: 184, loss: 2.322621184045618\n",
            "epoch: 185, loss: 2.2815507552840493\n",
            "epoch: 186, loss: 2.2952918526801196\n",
            "epoch: 187, loss: 2.4218943763862955\n",
            "epoch: 188, loss: 2.2434204426678743\n",
            "epoch: 189, loss: 2.234492780403657\n",
            "epoch: 190, loss: 2.3074197097258136\n",
            "epoch: 191, loss: 2.0980920750986445\n",
            "epoch: 192, loss: 2.178842183676633\n",
            "epoch: 193, loss: 2.180093202265826\n",
            "epoch: 194, loss: 2.275722186131911\n",
            "epoch: 195, loss: 2.167488142848015\n",
            "epoch: 196, loss: 2.0813262766057794\n",
            "epoch: 197, loss: 2.1407562480731444\n",
            "epoch: 198, loss: 2.148707265203649\n",
            "epoch: 199, loss: 2.158519689603285\n"
          ]
        }
      ],
      "source": [
        "num_epochs = 200\n",
        "loss_history = []\n",
        "# model.to(device)\n",
        "model.train()\n",
        "for epoch in range(num_epochs):\n",
        "  total_loss = 0\n",
        "  for X, y in loader_train:\n",
        "    # X, y = X.to(device), y.to(device)\n",
        "\n",
        "    out = model(X)\n",
        "    loss = loss_fn(out, y)\n",
        "\n",
        "    optimizer.zero_grad()\n",
        "    loss.backward()\n",
        "    optimizer.step()\n",
        "\n",
        "    total_loss += loss.item()\n",
        "    \n",
        "  epoch_loss = total_loss / len(loader_train)\n",
        "  print(f'epoch: {epoch}, loss: {epoch_loss}')"
      ]
    },
    {
      "cell_type": "markdown",
      "metadata": {
        "id": "TfHzl8EmO4fD"
      },
      "source": [
        "# 17. 실제 값과 훈련된 모델의 예측값을 plot 으로 그려봅니다."
      ]
    },
    {
      "cell_type": "code",
      "execution_count": null,
      "metadata": {},
      "outputs": [],
      "source": []
    },
    {
      "cell_type": "code",
      "execution_count": 247,
      "metadata": {
        "colab": {
          "base_uri": "https://localhost:8080/",
          "height": 448
        },
        "id": "NulT4y50Hb1S",
        "outputId": "1f46569e-0881-4f52-dadd-3c6e7cfe3329"
      },
      "outputs": [
        {
          "data": {
            "text/plain": [
              "[<matplotlib.lines.Line2D at 0x19152c72930>]"
            ]
          },
          "execution_count": 247,
          "metadata": {},
          "output_type": "execute_result"
        },
        {
          "data": {
            "image/png": "[encoded data removed]",
            "text/plain": [
              "<Figure size 640x480 with 1 Axes>"
            ]
          },
          "metadata": {},
          "output_type": "display_data"
        }
      ],
      "source": [
        "import matplotlib.pyplot as plt\n",
        "\n",
        "model.eval()\n",
        "\n",
        "X_tensor = torch.tensor(X).float()\n",
        "with torch.no_grad():\n",
        "  y_pred = model(X_tensor).numpy()\n",
        "  # y_pred = model(X_tensor).cpu().numpy()\n",
        "\n",
        "plt.plot(df.index[seq_len:], y)\n",
        "plt.plot(df.index[seq_len:], y_pred)"
      ]
    },
    {
      "cell_type": "markdown",
      "metadata": {
        "id": "dcPfJKByPBxT"
      },
      "source": [
        "# 18. 모델의 성능을 MSE, RMSE, MAE, R2 메트릭을 이용하여 측정해 봅니다."
      ]
    },
    {
      "cell_type": "code",
      "execution_count": 248,
      "metadata": {
        "colab": {
          "base_uri": "https://localhost:8080/"
        },
        "id": "nF7EoWRXJjGQ",
        "outputId": "bc148b61-a823-44b8-b106-d2ff57c4ebf6"
      },
      "outputs": [
        {
          "data": {
            "text/plain": [
              "'MSE: 2.05200, RMSE: 1.43248, MAE: 0.90487, R2: 0.99767'"
            ]
          },
          "execution_count": 248,
          "metadata": {},
          "output_type": "execute_result"
        }
      ],
      "source": [
        "from sklearn.metrics import mean_squared_error, mean_absolute_error, r2_score\n",
        "\n",
        "mse = mean_squared_error(y, y_pred)\n",
        "rmse = np.sqrt(mse)\n",
        "mae = mean_absolute_error(y, y_pred)\n",
        "r2 = r2_score(y, y_pred)\n",
        "\n",
        "f\"MSE: {mse:.5f}, RMSE: {rmse:.5f}, MAE: {mae:.5f}, R2: {r2:.5f}\""
      ]
    },
    {
      "cell_type": "markdown",
      "metadata": {
        "id": "d41xsezKPMUm"
      },
      "source": [
        "# 19. 12번에서 생성한 데이터를 이용하여 다음을 수행하시오.\n",
        "\n",
        "* sklearn 의 MinMaxScaler 를 이용하여 데이터를 정규화 합니다. (fit_transform)\n",
        "* 9:1 의 비율로 train/test 로 데이터를 split 하여, X_trian, X_test, y_train, y_test 변수에 저장합니다.\n",
        "* train/test 용 DataLoader 객체를 생성하여 loader_train, loader_test 변수에 저장합니다.\n",
        "* 모델 훈련 시에는 loader_train 을 이용하고, 모델의 예측력을 확인할 때는 loader_test 를 이용합니다."
      ]
    },
    {
      "cell_type": "code",
      "execution_count": null,
      "metadata": {
        "colab": {
          "base_uri": "https://localhost:8080/"
        },
        "id": "2mGeMlepOpGh",
        "outputId": "1785dea0-8b6d-40a5-b585-380dd3b33d48"
      },
      "outputs": [
        {
          "name": "stderr",
          "output_type": "stream",
          "text": [
            "\r[*********************100%***********************]  1 of 1 completed\n"
          ]
        },
        {
          "name": "stdout",
          "output_type": "stream",
          "text": [
            "epoch 1/200, loss: 0.09131\n",
            "epoch 2/200, loss: 0.00890\n",
            "epoch 3/200, loss: 0.00104\n",
            "epoch 4/200, loss: 0.00079\n",
            "epoch 5/200, loss: 0.00062\n",
            "epoch 6/200, loss: 0.00052\n",
            "epoch 7/200, loss: 0.00043\n",
            "epoch 8/200, loss: 0.00036\n",
            "epoch 9/200, loss: 0.00031\n",
            "epoch 10/200, loss: 0.00026\n",
            "epoch 11/200, loss: 0.00023\n",
            "epoch 12/200, loss: 0.00020\n",
            "epoch 13/200, loss: 0.00017\n",
            "epoch 14/200, loss: 0.00017\n",
            "epoch 15/200, loss: 0.00016\n",
            "epoch 16/200, loss: 0.00015\n",
            "epoch 17/200, loss: 0.00016\n",
            "epoch 18/200, loss: 0.00015\n",
            "epoch 19/200, loss: 0.00015\n",
            "epoch 20/200, loss: 0.00015\n",
            "epoch 21/200, loss: 0.00016\n",
            "epoch 22/200, loss: 0.00015\n",
            "epoch 23/200, loss: 0.00014\n",
            "epoch 24/200, loss: 0.00014\n",
            "epoch 25/200, loss: 0.00015\n",
            "epoch 26/200, loss: 0.00015\n",
            "epoch 27/200, loss: 0.00014\n",
            "epoch 28/200, loss: 0.00014\n",
            "epoch 29/200, loss: 0.00015\n",
            "epoch 30/200, loss: 0.00014\n",
            "epoch 31/200, loss: 0.00014\n",
            "epoch 32/200, loss: 0.00014\n",
            "epoch 33/200, loss: 0.00014\n",
            "epoch 34/200, loss: 0.00014\n",
            "epoch 35/200, loss: 0.00015\n",
            "epoch 36/200, loss: 0.00013\n",
            "epoch 37/200, loss: 0.00013\n",
            "epoch 38/200, loss: 0.00014\n",
            "epoch 39/200, loss: 0.00013\n",
            "epoch 40/200, loss: 0.00014\n",
            "epoch 41/200, loss: 0.00014\n",
            "epoch 42/200, loss: 0.00014\n",
            "epoch 43/200, loss: 0.00013\n",
            "epoch 44/200, loss: 0.00013\n",
            "epoch 45/200, loss: 0.00013\n",
            "epoch 46/200, loss: 0.00014\n",
            "epoch 47/200, loss: 0.00013\n",
            "epoch 48/200, loss: 0.00013\n",
            "epoch 49/200, loss: 0.00013\n",
            "epoch 50/200, loss: 0.00013\n",
            "epoch 51/200, loss: 0.00013\n",
            "epoch 52/200, loss: 0.00013\n",
            "epoch 53/200, loss: 0.00014\n",
            "epoch 54/200, loss: 0.00013\n",
            "epoch 55/200, loss: 0.00013\n",
            "epoch 56/200, loss: 0.00012\n",
            "epoch 57/200, loss: 0.00012\n",
            "epoch 58/200, loss: 0.00012\n",
            "epoch 59/200, loss: 0.00012\n",
            "epoch 60/200, loss: 0.00012\n",
            "epoch 61/200, loss: 0.00013\n",
            "epoch 62/200, loss: 0.00011\n",
            "epoch 63/200, loss: 0.00012\n",
            "epoch 64/200, loss: 0.00012\n",
            "epoch 65/200, loss: 0.00011\n",
            "epoch 66/200, loss: 0.00012\n",
            "epoch 67/200, loss: 0.00012\n",
            "epoch 68/200, loss: 0.00013\n",
            "epoch 69/200, loss: 0.00011\n",
            "epoch 70/200, loss: 0.00011\n",
            "epoch 71/200, loss: 0.00011\n",
            "epoch 72/200, loss: 0.00012\n",
            "epoch 73/200, loss: 0.00012\n",
            "epoch 74/200, loss: 0.00011\n",
            "epoch 75/200, loss: 0.00011\n",
            "epoch 76/200, loss: 0.00011\n",
            "epoch 77/200, loss: 0.00011\n",
            "epoch 78/200, loss: 0.00011\n",
            "epoch 79/200, loss: 0.00011\n",
            "epoch 80/200, loss: 0.00012\n",
            "epoch 81/200, loss: 0.00011\n",
            "epoch 82/200, loss: 0.00012\n",
            "epoch 83/200, loss: 0.00011\n",
            "epoch 84/200, loss: 0.00011\n",
            "epoch 85/200, loss: 0.00011\n",
            "epoch 86/200, loss: 0.00011\n",
            "epoch 87/200, loss: 0.00011\n",
            "epoch 88/200, loss: 0.00011\n",
            "epoch 89/200, loss: 0.00011\n",
            "epoch 90/200, loss: 0.00011\n",
            "epoch 91/200, loss: 0.00011\n",
            "epoch 92/200, loss: 0.00011\n",
            "epoch 93/200, loss: 0.00011\n",
            "epoch 94/200, loss: 0.00011\n",
            "epoch 95/200, loss: 0.00011\n",
            "epoch 96/200, loss: 0.00011\n",
            "epoch 97/200, loss: 0.00010\n",
            "epoch 98/200, loss: 0.00010\n",
            "epoch 99/200, loss: 0.00010\n",
            "epoch 100/200, loss: 0.00012\n",
            "epoch 101/200, loss: 0.00010\n",
            "epoch 102/200, loss: 0.00010\n",
            "epoch 103/200, loss: 0.00010\n",
            "epoch 104/200, loss: 0.00010\n",
            "epoch 105/200, loss: 0.00010\n",
            "epoch 106/200, loss: 0.00011\n",
            "epoch 107/200, loss: 0.00010\n",
            "epoch 108/200, loss: 0.00010\n",
            "epoch 109/200, loss: 0.00010\n",
            "epoch 110/200, loss: 0.00010\n",
            "epoch 111/200, loss: 0.00010\n",
            "epoch 112/200, loss: 0.00010\n",
            "epoch 113/200, loss: 0.00010\n",
            "epoch 114/200, loss: 0.00010\n",
            "epoch 115/200, loss: 0.00010\n",
            "epoch 116/200, loss: 0.00010\n",
            "epoch 117/200, loss: 0.00009\n",
            "epoch 118/200, loss: 0.00009\n",
            "epoch 119/200, loss: 0.00010\n",
            "epoch 120/200, loss: 0.00010\n",
            "epoch 121/200, loss: 0.00010\n",
            "epoch 122/200, loss: 0.00010\n",
            "epoch 123/200, loss: 0.00009\n",
            "epoch 124/200, loss: 0.00009\n",
            "epoch 125/200, loss: 0.00010\n",
            "epoch 126/200, loss: 0.00009\n",
            "epoch 127/200, loss: 0.00009\n",
            "epoch 128/200, loss: 0.00010\n",
            "epoch 129/200, loss: 0.00009\n",
            "epoch 130/200, loss: 0.00009\n",
            "epoch 131/200, loss: 0.00009\n",
            "epoch 132/200, loss: 0.00009\n",
            "epoch 133/200, loss: 0.00009\n",
            "epoch 134/200, loss: 0.00009\n",
            "epoch 135/200, loss: 0.00009\n",
            "epoch 136/200, loss: 0.00009\n",
            "epoch 137/200, loss: 0.00010\n",
            "epoch 138/200, loss: 0.00009\n",
            "epoch 139/200, loss: 0.00009\n",
            "epoch 140/200, loss: 0.00009\n",
            "epoch 141/200, loss: 0.00009\n",
            "epoch 142/200, loss: 0.00009\n",
            "epoch 143/200, loss: 0.00009\n",
            "epoch 144/200, loss: 0.00009\n",
            "epoch 145/200, loss: 0.00009\n",
            "epoch 146/200, loss: 0.00009\n",
            "epoch 147/200, loss: 0.00009\n",
            "epoch 148/200, loss: 0.00009\n",
            "epoch 149/200, loss: 0.00009\n",
            "epoch 150/200, loss: 0.00009\n",
            "epoch 151/200, loss: 0.00009\n",
            "epoch 152/200, loss: 0.00008\n",
            "epoch 153/200, loss: 0.00009\n",
            "epoch 154/200, loss: 0.00009\n",
            "epoch 155/200, loss: 0.00009\n",
            "epoch 156/200, loss: 0.00009\n",
            "epoch 157/200, loss: 0.00009\n",
            "epoch 158/200, loss: 0.00010\n",
            "epoch 159/200, loss: 0.00008\n",
            "epoch 160/200, loss: 0.00009\n",
            "epoch 161/200, loss: 0.00010\n",
            "epoch 162/200, loss: 0.00010\n",
            "epoch 163/200, loss: 0.00009\n",
            "epoch 164/200, loss: 0.00009\n",
            "epoch 165/200, loss: 0.00008\n",
            "epoch 166/200, loss: 0.00009\n",
            "epoch 167/200, loss: 0.00009\n",
            "epoch 168/200, loss: 0.00009\n",
            "epoch 169/200, loss: 0.00008\n",
            "epoch 170/200, loss: 0.00009\n",
            "epoch 171/200, loss: 0.00009\n",
            "epoch 172/200, loss: 0.00009\n",
            "epoch 173/200, loss: 0.00008\n",
            "epoch 174/200, loss: 0.00008\n",
            "epoch 175/200, loss: 0.00009\n",
            "epoch 176/200, loss: 0.00009\n",
            "epoch 177/200, loss: 0.00009\n",
            "epoch 178/200, loss: 0.00008\n",
            "epoch 179/200, loss: 0.00008\n",
            "epoch 180/200, loss: 0.00008\n",
            "epoch 181/200, loss: 0.00009\n",
            "epoch 182/200, loss: 0.00009\n",
            "epoch 183/200, loss: 0.00009\n",
            "epoch 184/200, loss: 0.00008\n",
            "epoch 185/200, loss: 0.00008\n",
            "epoch 186/200, loss: 0.00009\n",
            "epoch 187/200, loss: 0.00009\n",
            "epoch 188/200, loss: 0.00008\n",
            "epoch 189/200, loss: 0.00009\n",
            "epoch 190/200, loss: 0.00009\n",
            "epoch 191/200, loss: 0.00008\n",
            "epoch 192/200, loss: 0.00008\n",
            "epoch 193/200, loss: 0.00008\n",
            "epoch 194/200, loss: 0.00008\n",
            "epoch 195/200, loss: 0.00009\n",
            "epoch 196/200, loss: 0.00008\n",
            "epoch 197/200, loss: 0.00009\n",
            "epoch 198/200, loss: 0.00009\n",
            "epoch 199/200, loss: 0.00008\n",
            "epoch 200/200, loss: 0.00008\n"
          ]
        }
      ],
      "source": []
    },
    {
      "cell_type": "code",
      "execution_count": null,
      "metadata": {
        "id": "imOSrKADRhOr"
      },
      "outputs": [],
      "source": [
        "model.eval()\n",
        "\n",
        "y_pred_list = []\n",
        "with torch.no_grad():\n",
        "  for X_batch, _ in loader_test:\n",
        "    y_pred = model(X_batch).numpy()\n",
        "    #y_pred = model(X_batch).cpu().numpy()\n",
        "    y_pred_list.append(y_pred)\n",
        "\n",
        "y_pred = np.concatenate(y_pred_list, axis=0)"
      ]
    },
    {
      "cell_type": "code",
      "execution_count": null,
      "metadata": {
        "colab": {
          "base_uri": "https://localhost:8080/",
          "height": 485
        },
        "id": "04vRjZSyQ28r",
        "outputId": "03f5ec01-9fd1-4d59-cce9-1f3dd2ad3b78"
      },
      "outputs": [
        {
          "data": {
            "text/plain": [
              "[<matplotlib.lines.Line2D at 0x728b89298680>]"
            ]
          },
          "execution_count": 168,
          "metadata": {},
          "output_type": "execute_result"
        },
        {
          "data": {
            "image/png": "[encoded data removed]",
            "text/plain": [
              "<Figure size 640x480 with 1 Axes>"
            ]
          },
          "metadata": {},
          "output_type": "display_data"
        }
      ],
      "source": [
        "import matplotlib.pyplot as plt\n",
        "\n",
        "y_test_ori = scaler.inverse_transform(y_test)\n",
        "y_pred_ori = scaler.inverse_transform(y_pred)\n",
        "\n",
        "plt.xticks(rotation=45)\n",
        "plt.plot(df.index[train_size + seq_len:], y_test_ori)\n",
        "plt.plot(df.index[train_size + seq_len:], y_pred_ori)"
      ]
    },
    {
      "cell_type": "code",
      "execution_count": null,
      "metadata": {
        "colab": {
          "base_uri": "https://localhost:8080/"
        },
        "id": "zETuhTcKQ4Wz",
        "outputId": "2aa0eee9-9cd4-4d17-d53f-956bfee43851"
      },
      "outputs": [
        {
          "name": "stdout",
          "output_type": "stream",
          "text": [
            "MSE: 2.65828, RMSE: 1.63042, MAE: 1.14909, R2: 0.94367\n"
          ]
        }
      ],
      "source": [
        "from sklearn.metrics import mean_squared_error, mean_absolute_error, r2_score\n",
        "\n",
        "mse = mean_squared_error(y_test_ori, y_pred_ori)\n",
        "rmse = np.sqrt(mse)\n",
        "mae = mean_absolute_error(y_test_ori, y_pred_ori)\n",
        "r2 = r2_score(y_test_ori, y_pred_ori)\n",
        "\n",
        "print(f\"MSE: {mse:.5f}, RMSE: {rmse:.5f}, MAE: {mae:.5f}, R2: {r2:.5f}\")"
      ]
    },
    {
      "cell_type": "code",
      "execution_count": null,
      "metadata": {
        "id": "ZII2s9VgSmkl"
      },
      "outputs": [],
      "source": []
    }
  ],
  "metadata": {
    "colab": {
      "provenance": []
    },
    "kernelspec": {
      "display_name": "torch_book",
      "language": "python",
      "name": "python3"
    },
    "language_info": {
      "codemirror_mode": {
        "name": "ipython",
        "version": 3
      },
      "file_extension": ".py",
      "mimetype": "text/x-python",
      "name": "python",
      "nbconvert_exporter": "python",
      "pygments_lexer": "ipython3",
      "version": "3.12.7"
    }
  },
  "nbformat": 4,
  "nbformat_minor": 0
}
