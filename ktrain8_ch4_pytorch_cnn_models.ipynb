{
  "cells": [
    {
      "cell_type": "markdown",
      "metadata": {
        "id": "vMrFQJ-PmeDg"
      },
      "source": [
        "# ImageNet Winners"
      ]
    },
    {
      "cell_type": "markdown",
      "metadata": {
        "id": "9B4X-0B8nb7a"
      },
      "source": [
        "https://www.kaggle.com/discussions/getting-started/149448"
      ]
    },
    {
      "cell_type": "markdown",
      "metadata": {
        "id": "hwMPiLRfYF3O"
      },
      "source": [
        "### Alexnet\n",
        "\n",
        "<img src='./img/Alexnet.png' width=800 />\n"
      ]
    },
    {
      "cell_type": "markdown",
      "metadata": {
        "id": "cdstJ0oRIRw7"
      },
      "source": [
        "# torch.nn.Conv2d 및 nn.ReLU 와 nn.Dropout 레이어를 사용하여 다음 모델을 구현해 보세요.\n",
        "\n",
        "* input data: (32, 3, 224, 224)\n",
        "* kernel size 3x3\n",
        "* output data: (32, 48, 222, 222)"
      ]
    },
    {
      "cell_type": "code",
      "execution_count": 1,
      "metadata": {
        "id": "Y0a3I9KCIhhT"
      },
      "outputs": [],
      "source": [
        "import torch"
      ]
    },
    {
      "cell_type": "code",
      "execution_count": 2,
      "metadata": {
        "id": "1yMKBMaPQ8Pw"
      },
      "outputs": [],
      "source": [
        "import torch.nn as nn"
      ]
    },
    {
      "cell_type": "code",
      "execution_count": 3,
      "metadata": {
        "colab": {
          "base_uri": "https://localhost:8080/"
        },
        "id": "sTVLSnNLRBlJ",
        "outputId": "3461c659-5294-48fd-e1de-90d8f1d0fb02"
      },
      "outputs": [
        {
          "data": {
            "text/plain": [
              "torch.Size([32, 48, 222, 222])"
            ]
          },
          "execution_count": 3,
          "metadata": {},
          "output_type": "execute_result"
        }
      ],
      "source": [
        "input = torch.rand(32, 3, 224, 224)\n",
        "conv = nn.Conv2d(3, 48, 3)\n",
        "x = conv(input)\n",
        "x.shape"
      ]
    },
    {
      "cell_type": "code",
      "execution_count": 4,
      "metadata": {
        "colab": {
          "base_uri": "https://localhost:8080/"
        },
        "id": "kFTvdIjYRwyo",
        "outputId": "ff8123f4-3d51-4c9a-9399-23f51ff1e2ae"
      },
      "outputs": [
        {
          "data": {
            "text/plain": [
              "torch.Size([32, 48, 222, 222])"
            ]
          },
          "execution_count": 4,
          "metadata": {},
          "output_type": "execute_result"
        }
      ],
      "source": [
        "relu = nn.ReLU()\n",
        "x = relu(x)\n",
        "x.shape"
      ]
    },
    {
      "cell_type": "code",
      "execution_count": 5,
      "metadata": {
        "colab": {
          "base_uri": "https://localhost:8080/"
        },
        "id": "WE27x3vTSjKn",
        "outputId": "92dec247-bca7-4508-c50e-1564571ecb4f"
      },
      "outputs": [
        {
          "data": {
            "text/plain": [
              "torch.Size([32, 48, 222, 222])"
            ]
          },
          "execution_count": 5,
          "metadata": {},
          "output_type": "execute_result"
        }
      ],
      "source": [
        "dropout = nn.Dropout()\n",
        "dropout(x).shape"
      ]
    },
    {
      "cell_type": "markdown",
      "metadata": {
        "id": "N8ho1N4pYIml"
      },
      "source": [
        "### VGG16\n",
        "\n",
        "<img src=\"https://www.researchgate.net/profile/Max-Ferguson/publication/322512435/figure/fig3/AS:697390994567179@1543282378794/Fig-A1-The-standard-VGG-16-network-architecture-as-proposed-in-32-Note-that-only.png\" width=800 />\n",
        "\n",
        "* 작은(3x3) 합성 필터를 사용하여 매우 간단하고 균일하게 설계\n",
        "* 네트워크의 깊이를 늘리면 성능이 크게 향상됨\n",
        "* 사전 학습된 VGG 모델은 다른 작업을 위한 강력한 기능 추출기로 널리 사용됨\n",
        "\n",
        "* ref.: neurohive, VGG16 - Convolutional Network for Classification and Detection, 2018, https://neurohive.io/en/popular-networks/vgg16/\n",
        "* ref.: Simonyan, Karen, and Andrew Zisserman. 2015. \"Very Deep Convolutional Networks for Large-Scale Image Recognition.\" arXiv preprint arXiv:1409.1556.\n",
        "\n"
      ]
    },
    {
      "cell_type": "markdown",
      "metadata": {
        "id": "GmEDZfItzTLf"
      },
      "source": [
        "## 1. torch.rand 를 이용하여 (32, 1, 28, 28) 크기의 데이터를 생성해 input 변수에 저장하세요."
      ]
    },
    {
      "cell_type": "code",
      "execution_count": 18,
      "metadata": {
        "colab": {
          "base_uri": "https://localhost:8080/"
        },
        "id": "5couCFCZyHJ_",
        "outputId": "22b4329f-7585-43cd-8508-d82c58dd1761"
      },
      "outputs": [
        {
          "data": {
            "text/plain": [
              "torch.Size([32, 1, 28, 28])"
            ]
          },
          "execution_count": 18,
          "metadata": {},
          "output_type": "execute_result"
        }
      ],
      "source": [
        "input = torch.rand(32, 1, 28, 28)\n",
        "input.shape"
      ]
    },
    {
      "cell_type": "markdown",
      "metadata": {
        "id": "b1Be1C7e1wLF"
      },
      "source": [
        "## 2. torch.nn.Conv2d 를 이용하여 (32, 8, 28, 28) 출력을 내는 CNN 레이어를 생성하여 cnn1 변수에 저장하세요. (hint: padding='same' 사용해 보기)"
      ]
    },
    {
      "cell_type": "code",
      "execution_count": 19,
      "metadata": {
        "id": "1w6zrnImzlQE"
      },
      "outputs": [],
      "source": [
        "from torch.nn import Conv2d"
      ]
    },
    {
      "cell_type": "code",
      "execution_count": 21,
      "metadata": {
        "colab": {
          "base_uri": "https://localhost:8080/"
        },
        "id": "wimsgemo1QRb",
        "outputId": "8596546c-ac51-4526-a7d8-3ae032f80ffa"
      },
      "outputs": [
        {
          "data": {
            "text/plain": [
              "torch.Size([32, 8, 28, 28])"
            ]
          },
          "execution_count": 21,
          "metadata": {},
          "output_type": "execute_result"
        }
      ],
      "source": [
        "cnn1 = Conv2d(1, 8, 5, padding='same')\n",
        "cnn1(input).shape"
      ]
    },
    {
      "cell_type": "markdown",
      "metadata": {
        "id": "XGJtuZKr28LA"
      },
      "source": [
        "## 3. input 데이터를 cnn1 레이어에 통과시킨 후, activation function(torch.nn.ReLU) 레이어를 생성하여 relu1 변수에 저장하고, x 를 여기에 적용한 결과를 다시 x 변수에 저장하세요."
      ]
    },
    {
      "cell_type": "code",
      "execution_count": 22,
      "metadata": {
        "id": "sFv0Utjw1ttD"
      },
      "outputs": [],
      "source": [
        "from torch.nn import ReLU"
      ]
    },
    {
      "cell_type": "code",
      "execution_count": 23,
      "metadata": {
        "colab": {
          "base_uri": "https://localhost:8080/"
        },
        "id": "NA4MxU2W2MpH",
        "outputId": "ef8387fa-505d-43cf-910c-58b95516dd23"
      },
      "outputs": [
        {
          "data": {
            "text/plain": [
              "torch.Size([32, 8, 28, 28])"
            ]
          },
          "execution_count": 23,
          "metadata": {},
          "output_type": "execute_result"
        }
      ],
      "source": [
        "relu1 = ReLU()\n",
        "x = relu1(cnn1(input))\n",
        "x.shape"
      ]
    },
    {
      "cell_type": "markdown",
      "metadata": {
        "id": "NfMxMJdp3XYK"
      },
      "source": [
        "## 4. x 변수에 저장된 feature maps 데이터의 width, height 의 크기를 절반으로 만드는 torch.nn.MaxPool2D 를 생성하여 pool1 변수에 저장합니다. 다음으로 생성한 풀링 레이어에 x 변수를 통과시켜 그 결과를 다시 x 변수에 저장하세요. 단, x 변수의 입력 전과 입력 후의 shape 을 출력하여 크기가 절반으로 줄어 들었는지 확인해 봅니다."
      ]
    },
    {
      "cell_type": "code",
      "execution_count": 24,
      "metadata": {
        "id": "3zHFKZwW2P3C"
      },
      "outputs": [],
      "source": [
        "from torch.nn import MaxPool2d"
      ]
    },
    {
      "cell_type": "code",
      "execution_count": 25,
      "metadata": {
        "colab": {
          "base_uri": "https://localhost:8080/"
        },
        "id": "7h9xkq162U3F",
        "outputId": "a7c2e13a-ef81-4b9a-86ef-d124334d76ac"
      },
      "outputs": [
        {
          "name": "stdout",
          "output_type": "stream",
          "text": [
            "전 : torch.Size([32, 8, 28, 28])\n",
            "후 : torch.Size([32, 8, 14, 14])\n"
          ]
        }
      ],
      "source": [
        "print(f'전 : {x.shape}')\n",
        "pool1 = MaxPool2d(2)\n",
        "x = pool1(x)\n",
        "print(f'후 : {x.shape}')"
      ]
    },
    {
      "cell_type": "markdown",
      "metadata": {
        "id": "4fWKNkFyr8dq"
      },
      "source": [
        "### Inception (2014)\n",
        "\n",
        "<img src='./img/Inception1.png' width=1400/>\n",
        "\n",
        "* Inception의 핵심 개념은 모듈에서 여러 계층을 결합하여 계산 리소스를 효율적으로 활용하는 방법\n",
        "* 이 아키텍처는 계산 비용을 크게 증가시키지 않고도 네트워크의 깊이와 너비(더 많은 계층과 계층당 더 많은 필터)를 모두 늘릴 수 있음\n",
        "    * 다양한 필터 크기(1x1, 3x3 및 5x5)의 convolutions 을 포함\n",
        "    * 이미지의 세부 사항 뿐만 아니라 전반적인 맥락을 학습하고 더 풍부한 표현을 만듬   \n",
        "    * ☆핵심 : 1x1 컨볼루션을 사용하여 채널 수를 줄여 계산 오버헤드를 제한함 \n",
        "    * AlexNet보다 10배 적은 매개변수를 사용 (61.1M -> 6.6M)\n",
        "\n",
        "* ref.: Szegedy, Christian, Wei Liu, Yangqing Jia, Pierre Sermanet, Scott Reed, Dragomir Anguelov, Dumitru Erhan, Vincent Vanhoucke, and Andrew Rabinovich. 2014. \"Going Deeper with Convolutions.\" arXiv preprint arXiv:1409.4842.\n",
        "\n",
        "<img src='./img/Inception2.png' width=1000/>\n",
        "\n",
        "\n",
        "\n"
      ]
    },
    {
      "cell_type": "markdown",
      "metadata": {
        "id": "KoSdpGv1VTE2"
      },
      "source": [
        "## 1. Inception Module with demension reductions 버전을 구현하여 inception 변수에 저장하세요. 이때 마지막 출력 전에 각 레이어의 출력을 모으기 위해 torch.cat([x1, x2, x3, x4], dim=1) 코드를 사용해 보세요. 다음으로 (1, 192, 224, 224) 입력 데이터를 torch.rand 로 생성 후, inception 모듈의 입력으로 전달합니다. 마지막으로 출력이 (1, 256, 224, 224)  가 나오는지 확인하세요.\n",
        "32, 128, 64, 32 (sum = 256)"
      ]
    },
    {
      "cell_type": "code",
      "execution_count": 34,
      "metadata": {
        "id": "4OhvAs7l912M"
      },
      "outputs": [],
      "source": [
        "x = torch.rand(1, 192, 224, 224)"
      ]
    },
    {
      "cell_type": "code",
      "execution_count": 36,
      "metadata": {},
      "outputs": [],
      "source": [
        "conv1 = Conv2d(192, 32, 1)\n",
        "conv3 = nn.Sequential(\n",
        "          Conv2d(192, 128, 1),\n",
        "          Conv2d(128, 128, 3, padding='same')\n",
        "        )\n",
        "conv5 = nn.Sequential(\n",
        "          Conv2d(192, 64, 1),\n",
        "          Conv2d(64, 64, 5, padding='same')\n",
        "        )\n",
        "maxpool3 = MaxPool2d(kernel_size=3, stride=1, padding=1)\n",
        "conv = Conv2d(192, 32, 1)"
      ]
    },
    {
      "cell_type": "code",
      "execution_count": 37,
      "metadata": {
        "colab": {
          "base_uri": "https://localhost:8080/"
        },
        "id": "uwhTM7JL5M-c",
        "outputId": "d070c7ee-4a92-409a-b339-0ac02af34fd4"
      },
      "outputs": [
        {
          "data": {
            "text/plain": [
              "(torch.Size([1, 32, 224, 224]),\n",
              " torch.Size([1, 128, 224, 224]),\n",
              " torch.Size([1, 64, 224, 224]),\n",
              " torch.Size([1, 32, 224, 224]))"
            ]
          },
          "execution_count": 37,
          "metadata": {},
          "output_type": "execute_result"
        }
      ],
      "source": [
        "conv1(x).shape, conv3(x).shape, conv5(x).shape, conv(maxpool3(x)).shape"
      ]
    },
    {
      "cell_type": "code",
      "execution_count": 38,
      "metadata": {},
      "outputs": [],
      "source": [
        "x1 = conv1(x)\n",
        "x2 = conv3(x)\n",
        "x3 = conv5(x)\n",
        "x4 = conv(maxpool3(x))"
      ]
    },
    {
      "cell_type": "code",
      "execution_count": 40,
      "metadata": {},
      "outputs": [
        {
          "data": {
            "text/plain": [
              "torch.Size([1, 256, 224, 224])"
            ]
          },
          "execution_count": 40,
          "metadata": {},
          "output_type": "execute_result"
        }
      ],
      "source": [
        "x_result = torch.cat([x1, x2, x3, x4], dim=1)\n",
        "x_result.shape"
      ]
    },
    {
      "cell_type": "markdown",
      "metadata": {
        "id": "dUnFu-2vYWa2"
      },
      "source": [
        "### Resnet (2015)\n",
        "\n",
        "<img src=\"https://huggingface.co/datasets/huggingface/documentation-images/resolve/main/resnet_architecture.png\" width=800 />\n",
        "\n",
        "- 심층 신경망은 레이어 수가 증가함에 따라 학습이 더 어려워지며, 깊이가 추가됨에 따라 정확도가 포화 상태(accuracy saturates)가 된 후 감소하는 Degradation Problem 가 발생 (vanishing/exploding gradients)\n",
        "-  새로운 잔차 학습 프레임워크 (residual learning framework) 를 제시하여 이 문제를 효과적으로 해결하여 훨씬 더 깊은 네트워크를 학습할 수 있도록 함  \n",
        "    * 레이어가 원하는 전체 매핑(full mappings)을 직접 학습하는 대신 잔차 매핑 (residual mappings)을 학습하도록 하는 것 F(x) + x = H(x)\n",
        "    * 잔차 매핑은 지름길 연결 (shortcut connections)로 실현\n",
        "- 최대 152개의 레이어를 가진 ResNet 아키텍처를 성공적으로 학습하고 좋은 성능을 보임\n",
        "- COCO 데이터셋에 대한 object detection 에서 향상된 성능을 보임 (28% relative improvement)\n",
        "- 110 레이어 버전의 ResNet이 CIFAR-10에서 성공적으로 훈련되고 다른 모델의 성능을 능가하여 작은 데이터 세트 설정에서도 깊이를 늘리는 데 도움이 될 수 있음을 보임\n",
        "\n",
        "- ref: He, Kaiming, Xiangyu Zhang, Shaoqing Ren, and Jian Sun. 2016. \"Deep Residual Learning for Image Recognition.\" In Proceedings of the IEEE conference on computer vision and pattern recognition, 770-778."
      ]
    },
    {
      "cell_type": "markdown",
      "metadata": {
        "id": "Ze0Bcg0aWvac"
      },
      "source": [
        "#### Bottleneck Building Block\n",
        "\n",
        "<img src='./img/ResNet.png' width=800/>"
      ]
    },
    {
      "cell_type": "markdown",
      "metadata": {
        "id": "BOS1GYbvX73L"
      },
      "source": [
        "## 1. 그림 5의 오른쪽 residual 모듈을 구현하여 residual 변수에 저장해 보세요. 지름길 경로는 shorcut 변수에 저장해 보세요. 내부의 output channels 은 64 를 사용해 보세요. 다음으로 입력 데이터 x 를 (32, 256, 224, 224) residual 모듈의 입력으로 받아 출력 데이터를 (32, 256, 224, 224) 생성해 보세요.\n"
      ]
    },
    {
      "cell_type": "code",
      "execution_count": 45,
      "metadata": {
        "id": "vvMe-aRgWCCW"
      },
      "outputs": [],
      "source": [
        "import torch\n",
        "from torch.nn import Conv2d, ReLU, Sequential"
      ]
    },
    {
      "cell_type": "code",
      "execution_count": 50,
      "metadata": {
        "id": "g9GIXoklXuOe"
      },
      "outputs": [],
      "source": [
        "residual = nn.Sequential(\n",
        "            Conv2d(256, 64, 1),\n",
        "            ReLU(),\n",
        "            Conv2d(64, 64, 3, padding='same'),\n",
        "            ReLU(),\n",
        "            Conv2d(64, 256, 1)\n",
        "          )\n",
        "shortcut = Conv2d(256, 256, 1)"
      ]
    },
    {
      "cell_type": "code",
      "execution_count": 62,
      "metadata": {
        "colab": {
          "base_uri": "https://localhost:8080/"
        },
        "id": "P8sJZtCaf5BC",
        "outputId": "106ca75d-518a-42fd-b5d6-f23d0a0c3499"
      },
      "outputs": [
        {
          "data": {
            "text/plain": [
              "(torch.Size([32, 256, 224, 224]),\n",
              " torch.Size([32, 256, 224, 224]),\n",
              " torch.Tensor)"
            ]
          },
          "execution_count": 62,
          "metadata": {},
          "output_type": "execute_result"
        }
      ],
      "source": [
        "x = torch.rand(32, 256, 224, 224)\n",
        "residual(x).shape, shortcut(x).shape, type(residual(x))"
      ]
    },
    {
      "cell_type": "code",
      "execution_count": 61,
      "metadata": {
        "colab": {
          "base_uri": "https://localhost:8080/"
        },
        "id": "gUCN1eoGgJTd",
        "outputId": "f71bba1f-4f89-4d9f-f8fe-1be9517029ca"
      },
      "outputs": [
        {
          "data": {
            "text/plain": [
              "torch.Size([32, 256, 224, 224])"
            ]
          },
          "execution_count": 61,
          "metadata": {},
          "output_type": "execute_result"
        }
      ],
      "source": [
        "x = residual(x) + shortcut(x)\n",
        "relu = ReLU()\n",
        "x = relu(x)\n",
        "x.shape\n",
        "# x = ReLU(x)\n",
        "# type(x)"
      ]
    },
    {
      "cell_type": "code",
      "execution_count": 65,
      "metadata": {},
      "outputs": [
        {
          "data": {
            "text/plain": [
              "torch.Size([32, 256, 224, 224])"
            ]
          },
          "execution_count": 65,
          "metadata": {},
          "output_type": "execute_result"
        }
      ],
      "source": [
        "# import torch.nn.functional as F \n",
        "# x = residual(x) + shortcut(x)\n",
        "# x = F.relu(x)\n",
        "# x.shape"
      ]
    },
    {
      "cell_type": "markdown",
      "metadata": {},
      "source": [
        "객체를 생성하고 x에 ```x = nn.ReLU(x)```하면 shape error : torch.nn.modules.activation.ReLU  \n",
        "그래서 relu 인스턴스를 따로 선언해서 결과만 x에 할당하거나  \n",
        "torch.nn.functional 불러서 처리"
      ]
    },
    {
      "cell_type": "code",
      "execution_count": null,
      "metadata": {},
      "outputs": [],
      "source": []
    }
  ],
  "metadata": {
    "colab": {
      "provenance": []
    },
    "kernelspec": {
      "display_name": "torch_book",
      "language": "python",
      "name": "python3"
    },
    "language_info": {
      "codemirror_mode": {
        "name": "ipython",
        "version": 3
      },
      "file_extension": ".py",
      "mimetype": "text/x-python",
      "name": "python",
      "nbconvert_exporter": "python",
      "pygments_lexer": "ipython3",
      "version": "3.12.7"
    }
  },
  "nbformat": 4,
  "nbformat_minor": 0
}
