{
 "cells": [
  {
   "cell_type": "code",
   "execution_count": 1,
   "metadata": {},
   "outputs": [],
   "source": [
    "import torch\n",
    "import torch.nn as nn"
   ]
  },
  {
   "cell_type": "code",
   "execution_count": null,
   "metadata": {},
   "outputs": [
    {
     "name": "stderr",
     "output_type": "stream",
     "text": [
      "[*********************100%***********************]  1 of 1 completed\n"
     ]
    }
   ],
   "source": [
    "import yfinance as yf\n",
    "from sklearn.preprocessing import MinMaxScaler\n",
    "\n",
    "ticker_symbol = \"SBUX\"\n",
    "df = yf.download(ticker_symbol, start=\"2010-01-01\", end=\"2023-12-31\")\n",
    "\n",
    "df.columns = ['Close', 'High', 'Low', 'Open', 'Volume']\n",
    "data = df['Close'].values.reshape(-1, 1)"
   ]
  },
  {
   "cell_type": "code",
   "execution_count": 9,
   "metadata": {},
   "outputs": [
    {
     "data": {
      "text/plain": [
       "(3522, 1)"
      ]
     },
     "execution_count": 9,
     "metadata": {},
     "output_type": "execute_result"
    }
   ],
   "source": [
    "data.shape"
   ]
  },
  {
   "cell_type": "code",
   "execution_count": 42,
   "metadata": {},
   "outputs": [],
   "source": [
    "train_size = int(len(data) * 0.9)\n",
    "\n",
    "trainset = data[:train_size]\n",
    "testset = data[train_size:]"
   ]
  },
  {
   "cell_type": "code",
   "execution_count": 43,
   "metadata": {},
   "outputs": [],
   "source": [
    "scaler = MinMaxScaler()\n",
    "scaler.fit(trainset)\n",
    "trainset_scaled = scaler.transform(trainset)\n",
    "testset_scaled = scaler.transform(testset)"
   ]
  },
  {
   "cell_type": "code",
   "execution_count": 45,
   "metadata": {},
   "outputs": [],
   "source": [
    "import numpy as np\n",
    "\n",
    "def split_dataset(data, seq_len):\n",
    "  X, y  = [], []\n",
    "  for i in range(len(data)-(seq_len)):\n",
    "    X.append(data[i:i+seq_len, :]) \n",
    "    y.append(data[i+seq_len])\n",
    "  return np.array(X), np.array(y)"
   ]
  },
  {
   "cell_type": "code",
   "execution_count": 46,
   "metadata": {},
   "outputs": [],
   "source": [
    "X_train, y_train = split_dataset(trainset_scaled, 30)\n",
    "X_test, y_test = split_dataset(testset_scaled, 30)"
   ]
  },
  {
   "cell_type": "code",
   "execution_count": 47,
   "metadata": {},
   "outputs": [
    {
     "data": {
      "text/plain": [
       "((3139, 30, 1), (3139, 1), (323, 30, 1), (323, 1))"
      ]
     },
     "execution_count": 47,
     "metadata": {},
     "output_type": "execute_result"
    }
   ],
   "source": [
    "X_train.shape, y_train.shape, X_test.shape, y_test.shape"
   ]
  },
  {
   "cell_type": "code",
   "execution_count": 48,
   "metadata": {},
   "outputs": [],
   "source": [
    "X_train_tensor, y_train_tensor = torch.tensor(X_train).float(), torch.tensor(y_train).float()\n",
    "X_test_tensor, y_test_tensor = torch.tensor(X_test).float(), torch.tensor(y_test).float()"
   ]
  },
  {
   "cell_type": "code",
   "execution_count": 49,
   "metadata": {},
   "outputs": [],
   "source": [
    "from torch.utils.data import DataLoader, TensorDataset\n",
    "\n",
    "loader_train = DataLoader(TensorDataset(X_train_tensor, y_train_tensor), \n",
    "                                           batch_size=32)\n",
    "loader_test = DataLoader(TensorDataset(X_test_tensor, y_test_tensor), \n",
    "                                          batch_size=32)"
   ]
  },
  {
   "cell_type": "code",
   "execution_count": 50,
   "metadata": {},
   "outputs": [],
   "source": [
    "class StockPrediction(nn.Module):\n",
    "  def __init__(self, input_size=1, hidden_size=50, output_size=1):\n",
    "    super(StockPrediction, self).__init__()\n",
    "    self.input_size = input_size\n",
    "    self.hidden_size = hidden_size\n",
    "    self.output_size = output_size\n",
    "    self.lstm = nn.LSTM(input_size, hidden_size, batch_first=True)\n",
    "    self.linear = nn.Linear(hidden_size, output_size)\n",
    "\n",
    "\n",
    "  def forward(self, x):\n",
    "    out, (h, c) = self.lstm(x)\n",
    "    out = self.linear(out[:, -1, :])\n",
    "    return out"
   ]
  },
  {
   "cell_type": "code",
   "execution_count": 51,
   "metadata": {},
   "outputs": [],
   "source": [
    "model = StockPrediction()"
   ]
  },
  {
   "cell_type": "code",
   "execution_count": 52,
   "metadata": {},
   "outputs": [],
   "source": [
    "import torch.optim as optim\n",
    "\n",
    "loss_fn = nn.MSELoss()\n",
    "optimizer = optim.Adam(model.parameters())"
   ]
  },
  {
   "cell_type": "code",
   "execution_count": 53,
   "metadata": {},
   "outputs": [
    {
     "name": "stdout",
     "output_type": "stream",
     "text": [
      "epoch: 1, loss: 0.011263807632172811\n",
      "epoch: 2, loss: 0.03109313776407031\n",
      "epoch: 3, loss: 0.04128311150327705\n",
      "epoch: 4, loss: 0.04697837370710631\n",
      "epoch: 5, loss: 0.034977216147990015\n",
      "epoch: 6, loss: 0.017979172677484594\n",
      "epoch: 7, loss: 0.006881240191598243\n",
      "epoch: 8, loss: 0.0030863042398649294\n",
      "epoch: 9, loss: 0.0012296844235257741\n",
      "epoch: 10, loss: 0.0006463779167498073\n",
      "epoch: 11, loss: 0.00048370867686268565\n",
      "epoch: 12, loss: 0.0004506075657592752\n",
      "epoch: 13, loss: 0.0004621082102260911\n",
      "epoch: 14, loss: 0.0004884584675414542\n",
      "epoch: 15, loss: 0.0005191897453738475\n",
      "epoch: 16, loss: 0.0005503164884935864\n",
      "epoch: 17, loss: 0.0005800334527870144\n",
      "epoch: 18, loss: 0.0006073861297106001\n",
      "epoch: 19, loss: 0.0006318476836730207\n",
      "epoch: 20, loss: 0.0006531630538625501\n",
      "epoch: 21, loss: 0.0006712711328597807\n",
      "epoch: 22, loss: 0.0006862481329859072\n",
      "epoch: 23, loss: 0.000698262916043262\n",
      "epoch: 24, loss: 0.0007075439593515484\n",
      "epoch: 25, loss: 0.0007143479068036693\n",
      "epoch: 26, loss: 0.0007189407167768675\n",
      "epoch: 27, loss: 0.0007215845739435712\n",
      "epoch: 28, loss: 0.0007225309771346281\n",
      "epoch: 29, loss: 0.0007220172772007333\n",
      "epoch: 30, loss: 0.0007202647835271423\n",
      "epoch: 31, loss: 0.0007174813294747737\n",
      "epoch: 32, loss: 0.0007138561220311415\n",
      "epoch: 33, loss: 0.0007095598628925793\n",
      "epoch: 34, loss: 0.0007047428236013858\n",
      "epoch: 35, loss: 0.0006995359056859205\n",
      "epoch: 36, loss: 0.0006940451416856818\n",
      "epoch: 37, loss: 0.0006883538604423011\n",
      "epoch: 38, loss: 0.0006825258633765807\n",
      "epoch: 39, loss: 0.0006766036381628106\n",
      "epoch: 40, loss: 0.0006706134278801708\n",
      "epoch: 41, loss: 0.0006645674546629692\n",
      "epoch: 42, loss: 0.00065846637203138\n",
      "epoch: 43, loss: 0.0006523041152818085\n",
      "epoch: 44, loss: 0.0006460684205166851\n",
      "epoch: 45, loss: 0.0006397444911804867\n",
      "epoch: 46, loss: 0.0006333168815612538\n",
      "epoch: 47, loss: 0.0006267730488772683\n",
      "epoch: 48, loss: 0.000620103719006463\n",
      "epoch: 49, loss: 0.0006133031991780489\n",
      "epoch: 50, loss: 0.000606371902445016\n",
      "epoch: 51, loss: 0.0005993106405727266\n",
      "epoch: 52, loss: 0.0005921214341460563\n",
      "epoch: 53, loss: 0.0005848014052160101\n",
      "epoch: 54, loss: 0.000577340434661855\n",
      "epoch: 55, loss: 0.0005697196337025915\n",
      "epoch: 56, loss: 0.0005619156246955919\n",
      "epoch: 57, loss: 0.000553904546367531\n",
      "epoch: 58, loss: 0.000545669532607692\n",
      "epoch: 59, loss: 0.0005372038184750544\n",
      "epoch: 60, loss: 0.0005285127434476498\n",
      "epoch: 61, loss: 0.0005196146404674125\n",
      "epoch: 62, loss: 0.0005105355610913933\n",
      "epoch: 63, loss: 0.0005013107662592239\n",
      "epoch: 64, loss: 0.0004919787124982585\n",
      "epoch: 65, loss: 0.00048258180735538556\n",
      "epoch: 66, loss: 0.00047316059623302533\n",
      "epoch: 67, loss: 0.0004637572915868591\n",
      "epoch: 68, loss: 0.0004544013511188707\n",
      "epoch: 69, loss: 0.0004451356132008324\n",
      "epoch: 70, loss: 0.00043594101306452\n",
      "epoch: 71, loss: 0.0004269578213474362\n",
      "epoch: 72, loss: 0.00041774658668623717\n",
      "epoch: 73, loss: 0.00041033440757845795\n",
      "epoch: 74, loss: 0.00040284290750118676\n",
      "epoch: 75, loss: 0.0004090984094141782\n",
      "epoch: 76, loss: 0.00039411403836173565\n",
      "epoch: 77, loss: 0.00042658285075609605\n",
      "epoch: 78, loss: 0.000394463696741723\n",
      "epoch: 79, loss: 0.0004185032694065262\n",
      "epoch: 80, loss: 0.00037899562729386033\n",
      "epoch: 81, loss: 0.00037629119380672095\n",
      "epoch: 82, loss: 0.00032687625123872577\n",
      "epoch: 83, loss: 0.00031490916537241177\n",
      "epoch: 84, loss: 0.000286597204998396\n",
      "epoch: 85, loss: 0.00028236243966750057\n",
      "epoch: 86, loss: 0.00027127049458218293\n",
      "epoch: 87, loss: 0.0002715740412500651\n",
      "epoch: 88, loss: 0.0002673645904777537\n",
      "epoch: 89, loss: 0.0002686782584606415\n",
      "epoch: 90, loss: 0.0002654930122853421\n",
      "epoch: 91, loss: 0.0002661719188266704\n",
      "epoch: 92, loss: 0.000262096676477894\n",
      "epoch: 93, loss: 0.0002620143990396981\n",
      "epoch: 94, loss: 0.0002564576947856903\n",
      "epoch: 95, loss: 0.0002556825664517722\n",
      "epoch: 96, loss: 0.0002473561779870487\n",
      "epoch: 97, loss: 0.000245783591207778\n",
      "epoch: 98, loss: 0.00023476842748647013\n",
      "epoch: 99, loss: 0.00023313624255979907\n",
      "epoch: 100, loss: 0.0002231221669947013\n",
      "epoch: 101, loss: 0.00022372765984486747\n",
      "epoch: 102, loss: 0.00021674910356918502\n",
      "epoch: 103, loss: 0.00021995879979620054\n",
      "epoch: 104, loss: 0.00021539200339946253\n",
      "epoch: 105, loss: 0.00022072094731646013\n",
      "epoch: 106, loss: 0.00021768943603698668\n",
      "epoch: 107, loss: 0.00022464898833589753\n",
      "epoch: 108, loss: 0.0002224124182248488\n",
      "epoch: 109, loss: 0.00022957971150436155\n",
      "epoch: 110, loss: 0.0002264528773334538\n",
      "epoch: 111, loss: 0.0002304002364992196\n",
      "epoch: 112, loss: 0.00022420870251231334\n",
      "epoch: 113, loss: 0.00022138280173243806\n",
      "epoch: 114, loss: 0.00021226932984987025\n",
      "epoch: 115, loss: 0.0002035615996329866\n",
      "epoch: 116, loss: 0.00019522733787933323\n",
      "epoch: 117, loss: 0.00018751800770256853\n",
      "epoch: 118, loss: 0.00018410284812461848\n",
      "epoch: 119, loss: 0.00018232916473800398\n",
      "epoch: 120, loss: 0.00018432744562949554\n",
      "epoch: 121, loss: 0.00018721997305259021\n",
      "epoch: 122, loss: 0.00019205721263911027\n",
      "epoch: 123, loss: 0.00019617197434248132\n",
      "epoch: 124, loss: 0.0002002784243207619\n",
      "epoch: 125, loss: 0.00020195109750097294\n",
      "epoch: 126, loss: 0.00020162032487492943\n",
      "epoch: 127, loss: 0.0001983915405957066\n",
      "epoch: 128, loss: 0.00019335522971103807\n",
      "epoch: 129, loss: 0.0001874697459289114\n",
      "epoch: 130, loss: 0.00018213145602828144\n",
      "epoch: 131, loss: 0.00017808179461438828\n",
      "epoch: 132, loss: 0.00017564958962067994\n",
      "epoch: 133, loss: 0.00017458875982360997\n",
      "epoch: 134, loss: 0.0001746309540595401\n",
      "epoch: 135, loss: 0.00017561882545711764\n",
      "epoch: 136, loss: 0.00017767644256383216\n",
      "epoch: 137, loss: 0.00017969914280929698\n",
      "epoch: 138, loss: 0.00018161351230942685\n",
      "epoch: 139, loss: 0.00018701430411910582\n",
      "epoch: 140, loss: 0.00019232914281368574\n",
      "epoch: 141, loss: 0.00019149341762450338\n",
      "epoch: 142, loss: 0.00018459551025407195\n",
      "epoch: 143, loss: 0.00017227674009454214\n",
      "epoch: 144, loss: 0.0001600946314265273\n",
      "epoch: 145, loss: 0.0001515731022103717\n",
      "epoch: 146, loss: 0.0001475861746083029\n",
      "epoch: 147, loss: 0.00014695074154395005\n",
      "epoch: 148, loss: 0.00014871265931206936\n",
      "epoch: 149, loss: 0.00015260044111445578\n",
      "epoch: 150, loss: 0.0001585899058089567\n",
      "epoch: 151, loss: 0.00016660417032203487\n",
      "epoch: 152, loss: 0.0001782865195268228\n",
      "epoch: 153, loss: 0.00019620530571560864\n",
      "epoch: 154, loss: 0.00021239075650472924\n",
      "epoch: 155, loss: 0.00021181043533520418\n",
      "epoch: 156, loss: 0.00018963229967534925\n",
      "epoch: 157, loss: 0.00015953417203656335\n",
      "epoch: 158, loss: 0.00013727180658411317\n",
      "epoch: 159, loss: 0.00012908996731624423\n",
      "epoch: 160, loss: 0.00012628888535029105\n",
      "epoch: 161, loss: 0.00012457454184443875\n",
      "epoch: 162, loss: 0.00012385335554022781\n",
      "epoch: 163, loss: 0.00012477739862260198\n",
      "epoch: 164, loss: 0.00012772680991640135\n",
      "epoch: 165, loss: 0.00013332952864007582\n",
      "epoch: 166, loss: 0.00014252813301514247\n",
      "epoch: 167, loss: 0.00015664592464730443\n",
      "epoch: 168, loss: 0.00017728334315699723\n",
      "epoch: 169, loss: 0.00020278868431556805\n",
      "epoch: 170, loss: 0.00022788544306376476\n",
      "epoch: 171, loss: 0.00023442186805120647\n",
      "epoch: 172, loss: 0.0002116737987123979\n",
      "epoch: 173, loss: 0.00017064261735160672\n",
      "epoch: 174, loss: 0.0001380329423374511\n",
      "epoch: 175, loss: 0.0001265103017963937\n",
      "epoch: 176, loss: 0.0001234066850580954\n",
      "epoch: 177, loss: 0.00011872035611763796\n",
      "epoch: 178, loss: 0.00011515053027305655\n",
      "epoch: 179, loss: 0.00011272097251066677\n",
      "epoch: 180, loss: 0.00011134839878834118\n",
      "epoch: 181, loss: 0.00011102188793504158\n",
      "epoch: 182, loss: 0.00011190892563249552\n",
      "epoch: 183, loss: 0.00011456801584787135\n",
      "epoch: 184, loss: 0.00012013723156115068\n",
      "epoch: 185, loss: 0.00013063384519475883\n",
      "epoch: 186, loss: 0.00014998613590875602\n",
      "epoch: 187, loss: 0.00018599648969847284\n",
      "epoch: 188, loss: 0.0002362027192551371\n",
      "epoch: 189, loss: 0.00029767496725337814\n",
      "epoch: 190, loss: 0.00031309703863003925\n",
      "epoch: 191, loss: 0.0002592558189875986\n",
      "epoch: 192, loss: 0.00019353882110619746\n",
      "epoch: 193, loss: 0.00013099324236133145\n",
      "epoch: 194, loss: 0.00012021575854865806\n",
      "epoch: 195, loss: 0.0001194163463410267\n",
      "epoch: 196, loss: 0.00011167127571192249\n",
      "epoch: 197, loss: 0.00010644052671559988\n",
      "epoch: 198, loss: 0.0001031059545440634\n",
      "epoch: 199, loss: 0.00010130341384828713\n",
      "epoch: 200, loss: 0.00010061788522780446\n"
     ]
    }
   ],
   "source": [
    "num_epochs = 200\n",
    "# model.to(device)\n",
    "model.train()\n",
    "for epoch in range(num_epochs):\n",
    "  total_loss = 0\n",
    "  for X_batch, y_batch in loader_train:\n",
    "    # X, y = X.to(device), y.to(device)\n",
    "    out = model(X_batch)\n",
    "    loss = loss_fn(out, y_batch)\n",
    "\n",
    "    optimizer.zero_grad()\n",
    "    loss.backward()\n",
    "    optimizer.step()\n",
    "\n",
    "    total_loss += loss.item()\n",
    "    \n",
    "  epoch_loss = total_loss / len(loader_train)\n",
    "  print(f'epoch: {epoch+1}, loss: {epoch_loss}')"
   ]
  },
  {
   "cell_type": "code",
   "execution_count": 54,
   "metadata": {},
   "outputs": [],
   "source": [
    "model.eval()\n",
    "\n",
    "y_pred_list = []\n",
    "with torch.no_grad():\n",
    "  for X_batch, _ in loader_test:\n",
    "    y_pred = model(X_batch).numpy()\n",
    "    #y_pred = model(X_batch).cpu().numpy()\n",
    "    y_pred_list.append(y_pred)\n",
    "\n",
    "y_pred = np.concatenate(y_pred_list, axis=0)"
   ]
  },
  {
   "cell_type": "code",
   "execution_count": 55,
   "metadata": {},
   "outputs": [
    {
     "data": {
      "text/plain": [
       "(323, 1)"
      ]
     },
     "execution_count": 55,
     "metadata": {},
     "output_type": "execute_result"
    }
   ],
   "source": [
    "y_pred.shape"
   ]
  },
  {
   "cell_type": "code",
   "execution_count": 56,
   "metadata": {},
   "outputs": [
    {
     "data": {
      "text/plain": [
       "[<matplotlib.lines.Line2D at 0x2b95b2fa120>]"
      ]
     },
     "execution_count": 56,
     "metadata": {},
     "output_type": "execute_result"
    },
    {
     "data": {
      "image/png": "[encoded data removed]",
      "text/plain": [
       "<Figure size 640x480 with 1 Axes>"
      ]
     },
     "metadata": {},
     "output_type": "display_data"
    }
   ],
   "source": [
    "import matplotlib.pyplot as plt\n",
    "\n",
    "y_test_ori = scaler.inverse_transform(y_test)\n",
    "y_pred_ori = scaler.inverse_transform(y_pred)\n",
    "\n",
    "plt.xticks(rotation=45)\n",
    "plt.plot(df.index[train_size + seq_len:], y_test_ori)\n",
    "plt.plot(df.index[train_size + seq_len:], y_pred_ori)"
   ]
  },
  {
   "cell_type": "code",
   "execution_count": 57,
   "metadata": {},
   "outputs": [
    {
     "name": "stdout",
     "output_type": "stream",
     "text": [
      "MSE: 2.71080, RMSE: 1.64645, MAE: 1.17943, R2: 0.92951\n"
     ]
    }
   ],
   "source": [
    "from sklearn.metrics import mean_squared_error, mean_absolute_error, r2_score\n",
    "\n",
    "mse = mean_squared_error(y_test_ori, y_pred_ori)\n",
    "rmse = np.sqrt(mse)\n",
    "mae = mean_absolute_error(y_test_ori, y_pred_ori)\n",
    "r2 = r2_score(y_test_ori, y_pred_ori)\n",
    "\n",
    "print(f\"MSE: {mse:.5f}, RMSE: {rmse:.5f}, MAE: {mae:.5f}, R2: {r2:.5f}\")"
   ]
  }
 ],
 "metadata": {
  "kernelspec": {
   "display_name": "torch_book",
   "language": "python",
   "name": "python3"
  },
  "language_info": {
   "codemirror_mode": {
    "name": "ipython",
    "version": 3
   },
   "file_extension": ".py",
   "mimetype": "text/x-python",
   "name": "python",
   "nbconvert_exporter": "python",
   "pygments_lexer": "ipython3",
   "version": "3.12.7"
  }
 },
 "nbformat": 4,
 "nbformat_minor": 2
}
